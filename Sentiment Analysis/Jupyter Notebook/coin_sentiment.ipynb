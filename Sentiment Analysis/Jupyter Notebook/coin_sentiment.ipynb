{
 "cells": [
  {
   "cell_type": "code",
   "execution_count": 2,
   "metadata": {},
   "outputs": [
    {
     "data": {
      "text/html": [
       "<div>\n",
       "<style scoped>\n",
       "    .dataframe tbody tr th:only-of-type {\n",
       "        vertical-align: middle;\n",
       "    }\n",
       "\n",
       "    .dataframe tbody tr th {\n",
       "        vertical-align: top;\n",
       "    }\n",
       "\n",
       "    .dataframe thead th {\n",
       "        text-align: right;\n",
       "    }\n",
       "</style>\n",
       "<table border=\"1\" class=\"dataframe\">\n",
       "  <thead>\n",
       "    <tr style=\"text-align: right;\">\n",
       "      <th></th>\n",
       "      <th>created</th>\n",
       "      <th>title</th>\n",
       "      <th>score</th>\n",
       "      <th>num_comments</th>\n",
       "      <th>url</th>\n",
       "      <th>date</th>\n",
       "    </tr>\n",
       "  </thead>\n",
       "  <tbody>\n",
       "    <tr>\n",
       "      <th>0</th>\n",
       "      <td>2024-08-23 14:37:13</td>\n",
       "      <td>Man who begged everyone to buy just $1 of Bitc...</td>\n",
       "      <td>3249</td>\n",
       "      <td>328</td>\n",
       "      <td>https://www.reddit.com/r/CryptoCurrency/commen...</td>\n",
       "      <td>2024-08-23</td>\n",
       "    </tr>\n",
       "    <tr>\n",
       "      <th>1</th>\n",
       "      <td>2024-05-19 19:07:08</td>\n",
       "      <td>Elon bragging about his \"diamond hands,\" exact...</td>\n",
       "      <td>3733</td>\n",
       "      <td>438</td>\n",
       "      <td>https://www.reddit.com/r/CryptoCurrency/commen...</td>\n",
       "      <td>2024-05-19</td>\n",
       "    </tr>\n",
       "    <tr>\n",
       "      <th>2</th>\n",
       "      <td>2024-10-04 20:46:59</td>\n",
       "      <td>Mark Cuban saying he'd buy bananas over Bitcoi...</td>\n",
       "      <td>1411</td>\n",
       "      <td>536</td>\n",
       "      <td>https://www.reddit.com/r/CryptoCurrency/commen...</td>\n",
       "      <td>2024-10-04</td>\n",
       "    </tr>\n",
       "    <tr>\n",
       "      <th>3</th>\n",
       "      <td>2024-05-16 18:52:39</td>\n",
       "      <td>13 years ago today, a $110 million Bitcoin mis...</td>\n",
       "      <td>3688</td>\n",
       "      <td>270</td>\n",
       "      <td>https://www.reddit.com/r/CryptoCurrency/commen...</td>\n",
       "      <td>2024-05-16</td>\n",
       "    </tr>\n",
       "    <tr>\n",
       "      <th>4</th>\n",
       "      <td>2024-06-02 21:22:29</td>\n",
       "      <td>✨ 50 Cent accepting Bitcoin for his new album,...</td>\n",
       "      <td>2890</td>\n",
       "      <td>273</td>\n",
       "      <td>https://www.reddit.com/r/CryptoCurrency/commen...</td>\n",
       "      <td>2024-06-02</td>\n",
       "    </tr>\n",
       "  </tbody>\n",
       "</table>\n",
       "</div>"
      ],
      "text/plain": [
       "               created                                              title  \\\n",
       "0  2024-08-23 14:37:13  Man who begged everyone to buy just $1 of Bitc...   \n",
       "1  2024-05-19 19:07:08  Elon bragging about his \"diamond hands,\" exact...   \n",
       "2  2024-10-04 20:46:59  Mark Cuban saying he'd buy bananas over Bitcoi...   \n",
       "3  2024-05-16 18:52:39  13 years ago today, a $110 million Bitcoin mis...   \n",
       "4  2024-06-02 21:22:29  ✨ 50 Cent accepting Bitcoin for his new album,...   \n",
       "\n",
       "   score  num_comments                                                url  \\\n",
       "0   3249           328  https://www.reddit.com/r/CryptoCurrency/commen...   \n",
       "1   3733           438  https://www.reddit.com/r/CryptoCurrency/commen...   \n",
       "2   1411           536  https://www.reddit.com/r/CryptoCurrency/commen...   \n",
       "3   3688           270  https://www.reddit.com/r/CryptoCurrency/commen...   \n",
       "4   2890           273  https://www.reddit.com/r/CryptoCurrency/commen...   \n",
       "\n",
       "         date  \n",
       "0  2024-08-23  \n",
       "1  2024-05-19  \n",
       "2  2024-10-04  \n",
       "3  2024-05-16  \n",
       "4  2024-06-02  "
      ]
     },
     "execution_count": 2,
     "metadata": {},
     "output_type": "execute_result"
    }
   ],
   "source": [
    "import pandas as pd \n",
    "\n",
    "bitcoin_df = pd.read_csv('./individual coin/bitcoin_reddit.csv', delimiter='\\t', encoding='utf-16')\n",
    "bitcoin_df.head()"
   ]
  },
  {
   "cell_type": "code",
   "execution_count": 3,
   "metadata": {},
   "outputs": [
    {
     "data": {
      "text/html": [
       "<div>\n",
       "<style scoped>\n",
       "    .dataframe tbody tr th:only-of-type {\n",
       "        vertical-align: middle;\n",
       "    }\n",
       "\n",
       "    .dataframe tbody tr th {\n",
       "        vertical-align: top;\n",
       "    }\n",
       "\n",
       "    .dataframe thead th {\n",
       "        text-align: right;\n",
       "    }\n",
       "</style>\n",
       "<table border=\"1\" class=\"dataframe\">\n",
       "  <thead>\n",
       "    <tr style=\"text-align: right;\">\n",
       "      <th></th>\n",
       "      <th>created</th>\n",
       "      <th>title</th>\n",
       "      <th>score</th>\n",
       "      <th>num_comments</th>\n",
       "      <th>url</th>\n",
       "      <th>date</th>\n",
       "    </tr>\n",
       "  </thead>\n",
       "  <tbody>\n",
       "    <tr>\n",
       "      <th>0</th>\n",
       "      <td>2024-09-17 02:31:25</td>\n",
       "      <td>Ethereum falls to new 42-month low vs. Bitcoin...</td>\n",
       "      <td>146</td>\n",
       "      <td>109</td>\n",
       "      <td>https://www.reddit.com/r/CryptoCurrency/commen...</td>\n",
       "      <td>2024-09-17</td>\n",
       "    </tr>\n",
       "    <tr>\n",
       "      <th>1</th>\n",
       "      <td>2024-08-27 08:30:37</td>\n",
       "      <td>Can Ethereum regain momentum and outperform Bi...</td>\n",
       "      <td>42</td>\n",
       "      <td>57</td>\n",
       "      <td>https://www.reddit.com/r/CryptoCurrency/commen...</td>\n",
       "      <td>2024-08-27</td>\n",
       "    </tr>\n",
       "    <tr>\n",
       "      <th>2</th>\n",
       "      <td>2024-07-19 21:21:07</td>\n",
       "      <td>This outrage is insane, BUT, Ethereum and Bitc...</td>\n",
       "      <td>848</td>\n",
       "      <td>431</td>\n",
       "      <td>https://www.reddit.com/r/CryptoCurrency/commen...</td>\n",
       "      <td>2024-07-19</td>\n",
       "    </tr>\n",
       "    <tr>\n",
       "      <th>3</th>\n",
       "      <td>2024-05-24 05:12:17</td>\n",
       "      <td>Ethereum Spot ETFs Approved by SEC</td>\n",
       "      <td>956</td>\n",
       "      <td>315</td>\n",
       "      <td>https://www.reddit.com/r/CryptoCurrency/commen...</td>\n",
       "      <td>2024-05-24</td>\n",
       "    </tr>\n",
       "    <tr>\n",
       "      <th>4</th>\n",
       "      <td>2024-05-13 18:43:32</td>\n",
       "      <td>Ethereum Gas Prices Plummet 93% to Reach Rock-...</td>\n",
       "      <td>867</td>\n",
       "      <td>329</td>\n",
       "      <td>https://www.reddit.com/r/CryptoCurrency/commen...</td>\n",
       "      <td>2024-05-13</td>\n",
       "    </tr>\n",
       "  </tbody>\n",
       "</table>\n",
       "</div>"
      ],
      "text/plain": [
       "               created                                              title  \\\n",
       "0  2024-09-17 02:31:25  Ethereum falls to new 42-month low vs. Bitcoin...   \n",
       "1  2024-08-27 08:30:37  Can Ethereum regain momentum and outperform Bi...   \n",
       "2  2024-07-19 21:21:07  This outrage is insane, BUT, Ethereum and Bitc...   \n",
       "3  2024-05-24 05:12:17                 Ethereum Spot ETFs Approved by SEC   \n",
       "4  2024-05-13 18:43:32  Ethereum Gas Prices Plummet 93% to Reach Rock-...   \n",
       "\n",
       "   score  num_comments                                                url  \\\n",
       "0    146           109  https://www.reddit.com/r/CryptoCurrency/commen...   \n",
       "1     42            57  https://www.reddit.com/r/CryptoCurrency/commen...   \n",
       "2    848           431  https://www.reddit.com/r/CryptoCurrency/commen...   \n",
       "3    956           315  https://www.reddit.com/r/CryptoCurrency/commen...   \n",
       "4    867           329  https://www.reddit.com/r/CryptoCurrency/commen...   \n",
       "\n",
       "         date  \n",
       "0  2024-09-17  \n",
       "1  2024-08-27  \n",
       "2  2024-07-19  \n",
       "3  2024-05-24  \n",
       "4  2024-05-13  "
      ]
     },
     "execution_count": 3,
     "metadata": {},
     "output_type": "execute_result"
    }
   ],
   "source": [
    "ethereum_df = pd.read_csv('./individual coin/ethereum_reddit.csv', delimiter='\\t', encoding='utf-16')\n",
    "ethereum_df.head()"
   ]
  },
  {
   "cell_type": "code",
   "execution_count": 4,
   "metadata": {},
   "outputs": [
    {
     "data": {
      "text/html": [
       "<div>\n",
       "<style scoped>\n",
       "    .dataframe tbody tr th:only-of-type {\n",
       "        vertical-align: middle;\n",
       "    }\n",
       "\n",
       "    .dataframe tbody tr th {\n",
       "        vertical-align: top;\n",
       "    }\n",
       "\n",
       "    .dataframe thead th {\n",
       "        text-align: right;\n",
       "    }\n",
       "</style>\n",
       "<table border=\"1\" class=\"dataframe\">\n",
       "  <thead>\n",
       "    <tr style=\"text-align: right;\">\n",
       "      <th></th>\n",
       "      <th>created</th>\n",
       "      <th>title</th>\n",
       "      <th>score</th>\n",
       "      <th>num_comments</th>\n",
       "      <th>url</th>\n",
       "      <th>date</th>\n",
       "    </tr>\n",
       "  </thead>\n",
       "  <tbody>\n",
       "    <tr>\n",
       "      <th>0</th>\n",
       "      <td>2024-09-15 19:29:27</td>\n",
       "      <td>“Tether is a 118 Billion Dollar Scam; Bigger T...</td>\n",
       "      <td>416</td>\n",
       "      <td>187</td>\n",
       "      <td>https://www.reddit.com/r/CryptoCurrency/commen...</td>\n",
       "      <td>2024-09-15</td>\n",
       "    </tr>\n",
       "    <tr>\n",
       "      <th>1</th>\n",
       "      <td>2024-04-19 18:05:52</td>\n",
       "      <td>Why the Big Four apparently won’t audit Tether...</td>\n",
       "      <td>386</td>\n",
       "      <td>227</td>\n",
       "      <td>https://www.reddit.com/r/CryptoCurrency/commen...</td>\n",
       "      <td>2024-04-19</td>\n",
       "    </tr>\n",
       "    <tr>\n",
       "      <th>2</th>\n",
       "      <td>2024-04-21 11:26:52</td>\n",
       "      <td>If the Tether Treasury keeps on minting USDT l...</td>\n",
       "      <td>212</td>\n",
       "      <td>234</td>\n",
       "      <td>https://www.reddit.com/r/CryptoCurrency/commen...</td>\n",
       "      <td>2024-04-21</td>\n",
       "    </tr>\n",
       "    <tr>\n",
       "      <th>3</th>\n",
       "      <td>2024-09-11 20:18:22</td>\n",
       "      <td>Tether has achieved higher profits than BlackRock</td>\n",
       "      <td>149</td>\n",
       "      <td>112</td>\n",
       "      <td>https://www.reddit.com/r/CryptoCurrency/commen...</td>\n",
       "      <td>2024-09-11</td>\n",
       "    </tr>\n",
       "    <tr>\n",
       "      <th>4</th>\n",
       "      <td>2024-10-05 21:17:25</td>\n",
       "      <td>Coinbase to Delist Tether and Other Non-Compli...</td>\n",
       "      <td>188</td>\n",
       "      <td>54</td>\n",
       "      <td>https://www.reddit.com/r/CryptoCurrency/commen...</td>\n",
       "      <td>2024-10-05</td>\n",
       "    </tr>\n",
       "  </tbody>\n",
       "</table>\n",
       "</div>"
      ],
      "text/plain": [
       "               created                                              title  \\\n",
       "0  2024-09-15 19:29:27  “Tether is a 118 Billion Dollar Scam; Bigger T...   \n",
       "1  2024-04-19 18:05:52  Why the Big Four apparently won’t audit Tether...   \n",
       "2  2024-04-21 11:26:52  If the Tether Treasury keeps on minting USDT l...   \n",
       "3  2024-09-11 20:18:22  Tether has achieved higher profits than BlackRock   \n",
       "4  2024-10-05 21:17:25  Coinbase to Delist Tether and Other Non-Compli...   \n",
       "\n",
       "   score  num_comments                                                url  \\\n",
       "0    416           187  https://www.reddit.com/r/CryptoCurrency/commen...   \n",
       "1    386           227  https://www.reddit.com/r/CryptoCurrency/commen...   \n",
       "2    212           234  https://www.reddit.com/r/CryptoCurrency/commen...   \n",
       "3    149           112  https://www.reddit.com/r/CryptoCurrency/commen...   \n",
       "4    188            54  https://www.reddit.com/r/CryptoCurrency/commen...   \n",
       "\n",
       "         date  \n",
       "0  2024-09-15  \n",
       "1  2024-04-19  \n",
       "2  2024-04-21  \n",
       "3  2024-09-11  \n",
       "4  2024-10-05  "
      ]
     },
     "execution_count": 4,
     "metadata": {},
     "output_type": "execute_result"
    }
   ],
   "source": [
    "tether_df = pd.read_csv('./individual coin/tether_reddit.csv', delimiter='\\t', encoding='utf-16')\n",
    "tether_df.head()"
   ]
  },
  {
   "cell_type": "code",
   "execution_count": 5,
   "metadata": {},
   "outputs": [
    {
     "data": {
      "text/html": [
       "<div>\n",
       "<style scoped>\n",
       "    .dataframe tbody tr th:only-of-type {\n",
       "        vertical-align: middle;\n",
       "    }\n",
       "\n",
       "    .dataframe tbody tr th {\n",
       "        vertical-align: top;\n",
       "    }\n",
       "\n",
       "    .dataframe thead th {\n",
       "        text-align: right;\n",
       "    }\n",
       "</style>\n",
       "<table border=\"1\" class=\"dataframe\">\n",
       "  <thead>\n",
       "    <tr style=\"text-align: right;\">\n",
       "      <th></th>\n",
       "      <th>created</th>\n",
       "      <th>title</th>\n",
       "      <th>score</th>\n",
       "      <th>num_comments</th>\n",
       "      <th>url</th>\n",
       "      <th>date</th>\n",
       "    </tr>\n",
       "  </thead>\n",
       "  <tbody>\n",
       "    <tr>\n",
       "      <th>0</th>\n",
       "      <td>2024-08-28 07:54:05</td>\n",
       "      <td>Binance complies with Israeli request, seizes ...</td>\n",
       "      <td>1153</td>\n",
       "      <td>442</td>\n",
       "      <td>https://www.reddit.com/r/CryptoCurrency/commen...</td>\n",
       "      <td>2024-08-28</td>\n",
       "    </tr>\n",
       "    <tr>\n",
       "      <th>1</th>\n",
       "      <td>2024-09-27 07:07:02</td>\n",
       "      <td>The world's richest inmate is free. What will ...</td>\n",
       "      <td>1453</td>\n",
       "      <td>228</td>\n",
       "      <td>https://www.reddit.com/r/CryptoCurrency/commen...</td>\n",
       "      <td>2024-09-27</td>\n",
       "    </tr>\n",
       "    <tr>\n",
       "      <th>2</th>\n",
       "      <td>2024-10-07 19:27:32</td>\n",
       "      <td>Binance rejected 86% of requests by Israel to ...</td>\n",
       "      <td>816</td>\n",
       "      <td>178</td>\n",
       "      <td>https://www.reddit.com/r/CryptoCurrency/commen...</td>\n",
       "      <td>2024-10-07</td>\n",
       "    </tr>\n",
       "    <tr>\n",
       "      <th>3</th>\n",
       "      <td>2024-08-28 22:10:43</td>\n",
       "      <td>Binance seizes Palestinian funds at Israel's r...</td>\n",
       "      <td>548</td>\n",
       "      <td>246</td>\n",
       "      <td>https://www.reddit.com/r/CryptoCurrency/commen...</td>\n",
       "      <td>2024-08-28</td>\n",
       "    </tr>\n",
       "    <tr>\n",
       "      <th>4</th>\n",
       "      <td>2024-04-24 14:14:40</td>\n",
       "      <td>US seeks 36 months' jail for Binance founder Zhao</td>\n",
       "      <td>647</td>\n",
       "      <td>187</td>\n",
       "      <td>https://www.reddit.com/r/CryptoCurrency/commen...</td>\n",
       "      <td>2024-04-24</td>\n",
       "    </tr>\n",
       "  </tbody>\n",
       "</table>\n",
       "</div>"
      ],
      "text/plain": [
       "               created                                              title  \\\n",
       "0  2024-08-28 07:54:05  Binance complies with Israeli request, seizes ...   \n",
       "1  2024-09-27 07:07:02  The world's richest inmate is free. What will ...   \n",
       "2  2024-10-07 19:27:32  Binance rejected 86% of requests by Israel to ...   \n",
       "3  2024-08-28 22:10:43  Binance seizes Palestinian funds at Israel's r...   \n",
       "4  2024-04-24 14:14:40  US seeks 36 months' jail for Binance founder Zhao   \n",
       "\n",
       "   score  num_comments                                                url  \\\n",
       "0   1153           442  https://www.reddit.com/r/CryptoCurrency/commen...   \n",
       "1   1453           228  https://www.reddit.com/r/CryptoCurrency/commen...   \n",
       "2    816           178  https://www.reddit.com/r/CryptoCurrency/commen...   \n",
       "3    548           246  https://www.reddit.com/r/CryptoCurrency/commen...   \n",
       "4    647           187  https://www.reddit.com/r/CryptoCurrency/commen...   \n",
       "\n",
       "         date  \n",
       "0  2024-08-28  \n",
       "1  2024-09-27  \n",
       "2  2024-10-07  \n",
       "3  2024-08-28  \n",
       "4  2024-04-24  "
      ]
     },
     "execution_count": 5,
     "metadata": {},
     "output_type": "execute_result"
    }
   ],
   "source": [
    "bnb_df = pd.read_csv('./individual coin/bnb_reddit.csv', delimiter='\\t', encoding='utf-16')\n",
    "bnb_df.head()"
   ]
  },
  {
   "cell_type": "code",
   "execution_count": 6,
   "metadata": {},
   "outputs": [
    {
     "name": "stdout",
     "output_type": "stream",
     "text": [
      "Index(['created', 'title', 'score', 'num_comments', 'url', 'date'], dtype='object')\n",
      "<class 'pandas.core.frame.DataFrame'>\n",
      "RangeIndex: 35 entries, 0 to 34\n",
      "Data columns (total 6 columns):\n",
      " #   Column        Non-Null Count  Dtype \n",
      "---  ------        --------------  ----- \n",
      " 0   created       35 non-null     object\n",
      " 1   title         35 non-null     object\n",
      " 2   score         35 non-null     int64 \n",
      " 3   num_comments  35 non-null     int64 \n",
      " 4   url           35 non-null     object\n",
      " 5   date          35 non-null     object\n",
      "dtypes: int64(2), object(4)\n",
      "memory usage: 1.8+ KB\n",
      "None\n",
      "<class 'pandas.core.frame.DataFrame'>\n",
      "RangeIndex: 29 entries, 0 to 28\n",
      "Data columns (total 6 columns):\n",
      " #   Column        Non-Null Count  Dtype \n",
      "---  ------        --------------  ----- \n",
      " 0   created       29 non-null     object\n",
      " 1   title         29 non-null     object\n",
      " 2   score         29 non-null     int64 \n",
      " 3   num_comments  29 non-null     int64 \n",
      " 4   url           29 non-null     object\n",
      " 5   date          29 non-null     object\n",
      "dtypes: int64(2), object(4)\n",
      "memory usage: 1.5+ KB\n",
      "None\n",
      "<class 'pandas.core.frame.DataFrame'>\n",
      "RangeIndex: 42 entries, 0 to 41\n",
      "Data columns (total 6 columns):\n",
      " #   Column        Non-Null Count  Dtype \n",
      "---  ------        --------------  ----- \n",
      " 0   created       42 non-null     object\n",
      " 1   title         42 non-null     object\n",
      " 2   score         42 non-null     int64 \n",
      " 3   num_comments  42 non-null     int64 \n",
      " 4   url           42 non-null     object\n",
      " 5   date          42 non-null     object\n",
      "dtypes: int64(2), object(4)\n",
      "memory usage: 2.1+ KB\n",
      "None\n",
      "<class 'pandas.core.frame.DataFrame'>\n",
      "RangeIndex: 18 entries, 0 to 17\n",
      "Data columns (total 6 columns):\n",
      " #   Column        Non-Null Count  Dtype \n",
      "---  ------        --------------  ----- \n",
      " 0   created       18 non-null     object\n",
      " 1   title         18 non-null     object\n",
      " 2   score         18 non-null     int64 \n",
      " 3   num_comments  18 non-null     int64 \n",
      " 4   url           18 non-null     object\n",
      " 5   date          18 non-null     object\n",
      "dtypes: int64(2), object(4)\n",
      "memory usage: 996.0+ bytes\n",
      "None\n"
     ]
    }
   ],
   "source": [
    "print(bitcoin_df.columns)\n",
    "print(bitcoin_df.info())\n",
    "print(ethereum_df.info())\n",
    "print(tether_df.info())\n",
    "print(bnb_df.info())"
   ]
  },
  {
   "cell_type": "markdown",
   "metadata": {},
   "source": [
    "# VADER ANALYSIS\n"
   ]
  },
  {
   "cell_type": "code",
   "execution_count": 7,
   "metadata": {},
   "outputs": [
    {
     "data": {
      "text/html": [
       "<div>\n",
       "<style scoped>\n",
       "    .dataframe tbody tr th:only-of-type {\n",
       "        vertical-align: middle;\n",
       "    }\n",
       "\n",
       "    .dataframe tbody tr th {\n",
       "        vertical-align: top;\n",
       "    }\n",
       "\n",
       "    .dataframe thead th {\n",
       "        text-align: right;\n",
       "    }\n",
       "</style>\n",
       "<table border=\"1\" class=\"dataframe\">\n",
       "  <thead>\n",
       "    <tr style=\"text-align: right;\">\n",
       "      <th></th>\n",
       "      <th>created</th>\n",
       "      <th>title</th>\n",
       "      <th>score</th>\n",
       "      <th>num_comments</th>\n",
       "      <th>url</th>\n",
       "      <th>date</th>\n",
       "      <th>sentiment</th>\n",
       "    </tr>\n",
       "  </thead>\n",
       "  <tbody>\n",
       "    <tr>\n",
       "      <th>0</th>\n",
       "      <td>2024-08-23 14:37:13</td>\n",
       "      <td>Man who begged everyone to buy just $1 of Bitc...</td>\n",
       "      <td>3249</td>\n",
       "      <td>328</td>\n",
       "      <td>https://www.reddit.com/r/CryptoCurrency/commen...</td>\n",
       "      <td>2024-08-23</td>\n",
       "      <td>0.3612</td>\n",
       "    </tr>\n",
       "    <tr>\n",
       "      <th>1</th>\n",
       "      <td>2024-05-19 19:07:08</td>\n",
       "      <td>Elon bragging about his \"diamond hands,\" exact...</td>\n",
       "      <td>3733</td>\n",
       "      <td>438</td>\n",
       "      <td>https://www.reddit.com/r/CryptoCurrency/commen...</td>\n",
       "      <td>2024-05-19</td>\n",
       "      <td>0.5106</td>\n",
       "    </tr>\n",
       "    <tr>\n",
       "      <th>2</th>\n",
       "      <td>2024-10-04 20:46:59</td>\n",
       "      <td>Mark Cuban saying he'd buy bananas over Bitcoi...</td>\n",
       "      <td>1411</td>\n",
       "      <td>536</td>\n",
       "      <td>https://www.reddit.com/r/CryptoCurrency/commen...</td>\n",
       "      <td>2024-10-04</td>\n",
       "      <td>0.0000</td>\n",
       "    </tr>\n",
       "  </tbody>\n",
       "</table>\n",
       "</div>"
      ],
      "text/plain": [
       "               created                                              title  \\\n",
       "0  2024-08-23 14:37:13  Man who begged everyone to buy just $1 of Bitc...   \n",
       "1  2024-05-19 19:07:08  Elon bragging about his \"diamond hands,\" exact...   \n",
       "2  2024-10-04 20:46:59  Mark Cuban saying he'd buy bananas over Bitcoi...   \n",
       "\n",
       "   score  num_comments                                                url  \\\n",
       "0   3249           328  https://www.reddit.com/r/CryptoCurrency/commen...   \n",
       "1   3733           438  https://www.reddit.com/r/CryptoCurrency/commen...   \n",
       "2   1411           536  https://www.reddit.com/r/CryptoCurrency/commen...   \n",
       "\n",
       "         date  sentiment  \n",
       "0  2024-08-23     0.3612  \n",
       "1  2024-05-19     0.5106  \n",
       "2  2024-10-04     0.0000  "
      ]
     },
     "execution_count": 7,
     "metadata": {},
     "output_type": "execute_result"
    }
   ],
   "source": [
    "import pandas as pd\n",
    "from nltk.sentiment.vader import SentimentIntensityAnalyzer\n",
    "import nltk\n",
    "\n",
    "sid = SentimentIntensityAnalyzer()\n",
    "\n",
    "bitcoin_df['sentiment'] = bitcoin_df['title'].apply(lambda title: sid.polarity_scores(title)['compound'])\n",
    "\n",
    "bitcoin_df.head(3)"
   ]
  },
  {
   "cell_type": "markdown",
   "metadata": {},
   "source": []
  },
  {
   "cell_type": "code",
   "execution_count": 8,
   "metadata": {},
   "outputs": [
    {
     "data": {
      "text/html": [
       "<div>\n",
       "<style scoped>\n",
       "    .dataframe tbody tr th:only-of-type {\n",
       "        vertical-align: middle;\n",
       "    }\n",
       "\n",
       "    .dataframe tbody tr th {\n",
       "        vertical-align: top;\n",
       "    }\n",
       "\n",
       "    .dataframe thead th {\n",
       "        text-align: right;\n",
       "    }\n",
       "</style>\n",
       "<table border=\"1\" class=\"dataframe\">\n",
       "  <thead>\n",
       "    <tr style=\"text-align: right;\">\n",
       "      <th></th>\n",
       "      <th>created</th>\n",
       "      <th>title</th>\n",
       "      <th>score</th>\n",
       "      <th>num_comments</th>\n",
       "      <th>url</th>\n",
       "      <th>date</th>\n",
       "      <th>sentiment</th>\n",
       "    </tr>\n",
       "  </thead>\n",
       "  <tbody>\n",
       "    <tr>\n",
       "      <th>0</th>\n",
       "      <td>2024-09-17 02:31:25</td>\n",
       "      <td>Ethereum falls to new 42-month low vs. Bitcoin...</td>\n",
       "      <td>146</td>\n",
       "      <td>109</td>\n",
       "      <td>https://www.reddit.com/r/CryptoCurrency/commen...</td>\n",
       "      <td>2024-09-17</td>\n",
       "      <td>-0.6901</td>\n",
       "    </tr>\n",
       "    <tr>\n",
       "      <th>1</th>\n",
       "      <td>2024-08-27 08:30:37</td>\n",
       "      <td>Can Ethereum regain momentum and outperform Bi...</td>\n",
       "      <td>42</td>\n",
       "      <td>57</td>\n",
       "      <td>https://www.reddit.com/r/CryptoCurrency/commen...</td>\n",
       "      <td>2024-08-27</td>\n",
       "      <td>0.0000</td>\n",
       "    </tr>\n",
       "    <tr>\n",
       "      <th>2</th>\n",
       "      <td>2024-07-19 21:21:07</td>\n",
       "      <td>This outrage is insane, BUT, Ethereum and Bitc...</td>\n",
       "      <td>848</td>\n",
       "      <td>431</td>\n",
       "      <td>https://www.reddit.com/r/CryptoCurrency/commen...</td>\n",
       "      <td>2024-07-19</td>\n",
       "      <td>-0.4588</td>\n",
       "    </tr>\n",
       "    <tr>\n",
       "      <th>3</th>\n",
       "      <td>2024-05-24 05:12:17</td>\n",
       "      <td>Ethereum Spot ETFs Approved by SEC</td>\n",
       "      <td>956</td>\n",
       "      <td>315</td>\n",
       "      <td>https://www.reddit.com/r/CryptoCurrency/commen...</td>\n",
       "      <td>2024-05-24</td>\n",
       "      <td>0.4215</td>\n",
       "    </tr>\n",
       "    <tr>\n",
       "      <th>4</th>\n",
       "      <td>2024-05-13 18:43:32</td>\n",
       "      <td>Ethereum Gas Prices Plummet 93% to Reach Rock-...</td>\n",
       "      <td>867</td>\n",
       "      <td>329</td>\n",
       "      <td>https://www.reddit.com/r/CryptoCurrency/commen...</td>\n",
       "      <td>2024-05-13</td>\n",
       "      <td>0.0258</td>\n",
       "    </tr>\n",
       "  </tbody>\n",
       "</table>\n",
       "</div>"
      ],
      "text/plain": [
       "               created                                              title  \\\n",
       "0  2024-09-17 02:31:25  Ethereum falls to new 42-month low vs. Bitcoin...   \n",
       "1  2024-08-27 08:30:37  Can Ethereum regain momentum and outperform Bi...   \n",
       "2  2024-07-19 21:21:07  This outrage is insane, BUT, Ethereum and Bitc...   \n",
       "3  2024-05-24 05:12:17                 Ethereum Spot ETFs Approved by SEC   \n",
       "4  2024-05-13 18:43:32  Ethereum Gas Prices Plummet 93% to Reach Rock-...   \n",
       "\n",
       "   score  num_comments                                                url  \\\n",
       "0    146           109  https://www.reddit.com/r/CryptoCurrency/commen...   \n",
       "1     42            57  https://www.reddit.com/r/CryptoCurrency/commen...   \n",
       "2    848           431  https://www.reddit.com/r/CryptoCurrency/commen...   \n",
       "3    956           315  https://www.reddit.com/r/CryptoCurrency/commen...   \n",
       "4    867           329  https://www.reddit.com/r/CryptoCurrency/commen...   \n",
       "\n",
       "         date  sentiment  \n",
       "0  2024-09-17    -0.6901  \n",
       "1  2024-08-27     0.0000  \n",
       "2  2024-07-19    -0.4588  \n",
       "3  2024-05-24     0.4215  \n",
       "4  2024-05-13     0.0258  "
      ]
     },
     "execution_count": 8,
     "metadata": {},
     "output_type": "execute_result"
    }
   ],
   "source": [
    "ethereum_df['sentiment'] = ethereum_df['title'].apply(lambda title: sid.polarity_scores(title)['compound'])\n",
    "\n",
    "ethereum_df.head()"
   ]
  },
  {
   "cell_type": "code",
   "execution_count": 9,
   "metadata": {},
   "outputs": [
    {
     "data": {
      "text/html": [
       "<div>\n",
       "<style scoped>\n",
       "    .dataframe tbody tr th:only-of-type {\n",
       "        vertical-align: middle;\n",
       "    }\n",
       "\n",
       "    .dataframe tbody tr th {\n",
       "        vertical-align: top;\n",
       "    }\n",
       "\n",
       "    .dataframe thead th {\n",
       "        text-align: right;\n",
       "    }\n",
       "</style>\n",
       "<table border=\"1\" class=\"dataframe\">\n",
       "  <thead>\n",
       "    <tr style=\"text-align: right;\">\n",
       "      <th></th>\n",
       "      <th>created</th>\n",
       "      <th>title</th>\n",
       "      <th>score</th>\n",
       "      <th>num_comments</th>\n",
       "      <th>url</th>\n",
       "      <th>date</th>\n",
       "      <th>sentiment</th>\n",
       "    </tr>\n",
       "  </thead>\n",
       "  <tbody>\n",
       "    <tr>\n",
       "      <th>0</th>\n",
       "      <td>2024-09-15 19:29:27</td>\n",
       "      <td>“Tether is a 118 Billion Dollar Scam; Bigger T...</td>\n",
       "      <td>416</td>\n",
       "      <td>187</td>\n",
       "      <td>https://www.reddit.com/r/CryptoCurrency/commen...</td>\n",
       "      <td>2024-09-15</td>\n",
       "      <td>-0.5719</td>\n",
       "    </tr>\n",
       "    <tr>\n",
       "      <th>1</th>\n",
       "      <td>2024-04-19 18:05:52</td>\n",
       "      <td>Why the Big Four apparently won’t audit Tether...</td>\n",
       "      <td>386</td>\n",
       "      <td>227</td>\n",
       "      <td>https://www.reddit.com/r/CryptoCurrency/commen...</td>\n",
       "      <td>2024-04-19</td>\n",
       "      <td>0.0000</td>\n",
       "    </tr>\n",
       "    <tr>\n",
       "      <th>2</th>\n",
       "      <td>2024-04-21 11:26:52</td>\n",
       "      <td>If the Tether Treasury keeps on minting USDT l...</td>\n",
       "      <td>212</td>\n",
       "      <td>234</td>\n",
       "      <td>https://www.reddit.com/r/CryptoCurrency/commen...</td>\n",
       "      <td>2024-04-21</td>\n",
       "      <td>0.7319</td>\n",
       "    </tr>\n",
       "    <tr>\n",
       "      <th>3</th>\n",
       "      <td>2024-09-11 20:18:22</td>\n",
       "      <td>Tether has achieved higher profits than BlackRock</td>\n",
       "      <td>149</td>\n",
       "      <td>112</td>\n",
       "      <td>https://www.reddit.com/r/CryptoCurrency/commen...</td>\n",
       "      <td>2024-09-11</td>\n",
       "      <td>0.4404</td>\n",
       "    </tr>\n",
       "    <tr>\n",
       "      <th>4</th>\n",
       "      <td>2024-10-05 21:17:25</td>\n",
       "      <td>Coinbase to Delist Tether and Other Non-Compli...</td>\n",
       "      <td>188</td>\n",
       "      <td>54</td>\n",
       "      <td>https://www.reddit.com/r/CryptoCurrency/commen...</td>\n",
       "      <td>2024-10-05</td>\n",
       "      <td>0.0000</td>\n",
       "    </tr>\n",
       "  </tbody>\n",
       "</table>\n",
       "</div>"
      ],
      "text/plain": [
       "               created                                              title  \\\n",
       "0  2024-09-15 19:29:27  “Tether is a 118 Billion Dollar Scam; Bigger T...   \n",
       "1  2024-04-19 18:05:52  Why the Big Four apparently won’t audit Tether...   \n",
       "2  2024-04-21 11:26:52  If the Tether Treasury keeps on minting USDT l...   \n",
       "3  2024-09-11 20:18:22  Tether has achieved higher profits than BlackRock   \n",
       "4  2024-10-05 21:17:25  Coinbase to Delist Tether and Other Non-Compli...   \n",
       "\n",
       "   score  num_comments                                                url  \\\n",
       "0    416           187  https://www.reddit.com/r/CryptoCurrency/commen...   \n",
       "1    386           227  https://www.reddit.com/r/CryptoCurrency/commen...   \n",
       "2    212           234  https://www.reddit.com/r/CryptoCurrency/commen...   \n",
       "3    149           112  https://www.reddit.com/r/CryptoCurrency/commen...   \n",
       "4    188            54  https://www.reddit.com/r/CryptoCurrency/commen...   \n",
       "\n",
       "         date  sentiment  \n",
       "0  2024-09-15    -0.5719  \n",
       "1  2024-04-19     0.0000  \n",
       "2  2024-04-21     0.7319  \n",
       "3  2024-09-11     0.4404  \n",
       "4  2024-10-05     0.0000  "
      ]
     },
     "execution_count": 9,
     "metadata": {},
     "output_type": "execute_result"
    }
   ],
   "source": [
    "tether_df['sentiment'] = tether_df['title'].apply(lambda title: sid.polarity_scores(title)['compound'])\n",
    "\n",
    "tether_df.head()"
   ]
  },
  {
   "cell_type": "code",
   "execution_count": 10,
   "metadata": {},
   "outputs": [
    {
     "data": {
      "text/html": [
       "<div>\n",
       "<style scoped>\n",
       "    .dataframe tbody tr th:only-of-type {\n",
       "        vertical-align: middle;\n",
       "    }\n",
       "\n",
       "    .dataframe tbody tr th {\n",
       "        vertical-align: top;\n",
       "    }\n",
       "\n",
       "    .dataframe thead th {\n",
       "        text-align: right;\n",
       "    }\n",
       "</style>\n",
       "<table border=\"1\" class=\"dataframe\">\n",
       "  <thead>\n",
       "    <tr style=\"text-align: right;\">\n",
       "      <th></th>\n",
       "      <th>created</th>\n",
       "      <th>title</th>\n",
       "      <th>score</th>\n",
       "      <th>num_comments</th>\n",
       "      <th>url</th>\n",
       "      <th>date</th>\n",
       "      <th>sentiment</th>\n",
       "    </tr>\n",
       "  </thead>\n",
       "  <tbody>\n",
       "    <tr>\n",
       "      <th>0</th>\n",
       "      <td>2024-08-28 07:54:05</td>\n",
       "      <td>Binance complies with Israeli request, seizes ...</td>\n",
       "      <td>1153</td>\n",
       "      <td>442</td>\n",
       "      <td>https://www.reddit.com/r/CryptoCurrency/commen...</td>\n",
       "      <td>2024-08-28</td>\n",
       "      <td>0.0000</td>\n",
       "    </tr>\n",
       "    <tr>\n",
       "      <th>1</th>\n",
       "      <td>2024-09-27 07:07:02</td>\n",
       "      <td>The world's richest inmate is free. What will ...</td>\n",
       "      <td>1453</td>\n",
       "      <td>228</td>\n",
       "      <td>https://www.reddit.com/r/CryptoCurrency/commen...</td>\n",
       "      <td>2024-09-27</td>\n",
       "      <td>0.7717</td>\n",
       "    </tr>\n",
       "    <tr>\n",
       "      <th>2</th>\n",
       "      <td>2024-10-07 19:27:32</td>\n",
       "      <td>Binance rejected 86% of requests by Israel to ...</td>\n",
       "      <td>816</td>\n",
       "      <td>178</td>\n",
       "      <td>https://www.reddit.com/r/CryptoCurrency/commen...</td>\n",
       "      <td>2024-10-07</td>\n",
       "      <td>-0.4767</td>\n",
       "    </tr>\n",
       "    <tr>\n",
       "      <th>3</th>\n",
       "      <td>2024-08-28 22:10:43</td>\n",
       "      <td>Binance seizes Palestinian funds at Israel's r...</td>\n",
       "      <td>548</td>\n",
       "      <td>246</td>\n",
       "      <td>https://www.reddit.com/r/CryptoCurrency/commen...</td>\n",
       "      <td>2024-08-28</td>\n",
       "      <td>0.0000</td>\n",
       "    </tr>\n",
       "    <tr>\n",
       "      <th>4</th>\n",
       "      <td>2024-04-24 14:14:40</td>\n",
       "      <td>US seeks 36 months' jail for Binance founder Zhao</td>\n",
       "      <td>647</td>\n",
       "      <td>187</td>\n",
       "      <td>https://www.reddit.com/r/CryptoCurrency/commen...</td>\n",
       "      <td>2024-04-24</td>\n",
       "      <td>0.0000</td>\n",
       "    </tr>\n",
       "  </tbody>\n",
       "</table>\n",
       "</div>"
      ],
      "text/plain": [
       "               created                                              title  \\\n",
       "0  2024-08-28 07:54:05  Binance complies with Israeli request, seizes ...   \n",
       "1  2024-09-27 07:07:02  The world's richest inmate is free. What will ...   \n",
       "2  2024-10-07 19:27:32  Binance rejected 86% of requests by Israel to ...   \n",
       "3  2024-08-28 22:10:43  Binance seizes Palestinian funds at Israel's r...   \n",
       "4  2024-04-24 14:14:40  US seeks 36 months' jail for Binance founder Zhao   \n",
       "\n",
       "   score  num_comments                                                url  \\\n",
       "0   1153           442  https://www.reddit.com/r/CryptoCurrency/commen...   \n",
       "1   1453           228  https://www.reddit.com/r/CryptoCurrency/commen...   \n",
       "2    816           178  https://www.reddit.com/r/CryptoCurrency/commen...   \n",
       "3    548           246  https://www.reddit.com/r/CryptoCurrency/commen...   \n",
       "4    647           187  https://www.reddit.com/r/CryptoCurrency/commen...   \n",
       "\n",
       "         date  sentiment  \n",
       "0  2024-08-28     0.0000  \n",
       "1  2024-09-27     0.7717  \n",
       "2  2024-10-07    -0.4767  \n",
       "3  2024-08-28     0.0000  \n",
       "4  2024-04-24     0.0000  "
      ]
     },
     "execution_count": 10,
     "metadata": {},
     "output_type": "execute_result"
    }
   ],
   "source": [
    "bnb_df['sentiment'] = bnb_df['title'].apply(lambda title: sid.polarity_scores(title)['compound'])\n",
    "\n",
    "bnb_df.head()"
   ]
  },
  {
   "cell_type": "code",
   "execution_count": 11,
   "metadata": {},
   "outputs": [
    {
     "data": {
      "text/plain": [
       "Index(['created', 'title', 'score', 'num_comments', 'url', 'date',\n",
       "       'sentiment'],\n",
       "      dtype='object')"
      ]
     },
     "execution_count": 11,
     "metadata": {},
     "output_type": "execute_result"
    }
   ],
   "source": [
    "bitcoin_df.columns"
   ]
  },
  {
   "cell_type": "code",
   "execution_count": 17,
   "metadata": {},
   "outputs": [
    {
     "data": {
      "application/vnd.plotly.v1+json": {
       "config": {
        "plotlyServerURL": "https://plot.ly"
       },
       "data": [
        {
         "hoverinfo": "text",
         "line": {
          "width": 2
         },
         "marker": {
          "size": 8
         },
         "mode": "lines+markers",
         "name": "Bitcoin",
         "text": [
          "Date: 2024-04-14<br>Title: Crypto Markets Suffer a $400 Billion Loss Amid Bitcoin's $10k Decline in 48 Hours<br>Sentiment: -0.7003",
          "Date: 2024-04-17<br>Title: Kraken Bitcoin Halving Giveaway Competition<br>Sentiment: 0.0",
          "Date: 2024-04-20<br>Title: Bitcoin completes its fourth halving, block rewards now stand at 3.125 BTC<br>Sentiment: 0.0516",
          "Date: 2024-04-26<br>Title: eXch Bitcoin Post-Halving Giveaway Competition<br>Sentiment: 0.0",
          "Date: 2024-05-12<br>Title: ✨ 2 years ago today, this legend dropped one of the most iconic Reddit posts about Bitcoin.<br>Sentiment: 0.0",
          "Date: 2024-05-16<br>Title: 13 years ago today, a $110 million Bitcoin mistake ✨<br>Sentiment: -0.34",
          "Date: 2024-05-19<br>Title: Elon bragging about his \"diamond hands,\" exactly 3 years ago. He's since sold $2 billion worth of Bitcoin 💀<br>Sentiment: 0.5106",
          "Date: 2024-05-29<br>Title: Bitcoin price: $8. Legend 🔥<br>Sentiment: 0.0",
          "Date: 2024-06-02<br>Title: ✨ 50 Cent accepting Bitcoin for his new album, 10 years ago in 2014. He earned 700 BTC ‼️<br>Sentiment: 0.3818",
          "Date: 2024-06-03<br>Title: ✨ Apple co-founder on what makes Bitcoin truly unique at $7k in 2018<br>Sentiment: 0.4404",
          "Date: 2024-06-12<br>Title: In a Bizarre Statement, Trump Says Bitcoin Should Only be Mined in the US<br>Sentiment: -0.3182",
          "Date: 2024-06-27<br>Title: Bitcoin whale donates 8 BTC to Julian Assange, covers private jet costs <br>Sentiment: 0.0",
          "Date: 2024-07-19<br>Title: This outrage is insane, BUT, Ethereum and Bitcoin are still... working.<br>Sentiment: -0.4588",
          "Date: 2024-07-25<br>Title: Kamala Harris 'Will Not Be Speaking' at Bitcoin Conference: CEO - Decrypt<br>Sentiment: 0.0",
          "Date: 2024-07-27<br>Title: RFK Jr. says he stores 'most' of his millions in Bitcoin<br>Sentiment: 0.0",
          "Date: 2024-07-27<br>Title: Edward Snowden Tells Bitcoin Fans to Vote—But ‘Don’t Join a Cult’ - Decrypt<br>Sentiment: 0.296",
          "Date: 2024-08-05<br>Title: Bitcoin dips to $53K after Bank of Japan’s rate hike, Ether follows drop as global market panic ensues<br>Sentiment: -0.6597",
          "Date: 2024-08-14<br>Title: Read JD Vance's financial disclosure, which includes at least $4 million in total assets and $250,000 in bitcoin<br>Sentiment: 0.1779",
          "Date: 2024-08-23<br>Title: 14 years ago there was a website (faucet) that gave 5 Bitcoins to visitors<br>Sentiment: 0.0",
          "Date: 2024-08-23<br>Title: Man who begged everyone to buy just $1 of Bitcoin in 2013 revealed what his life looks like now<br>Sentiment: 0.3612",
          "Date: 2024-08-30<br>Title: El Salvador's $135M Bitcoin bet now worth $400M—President Bukele says we have done well<br>Sentiment: 0.4588",
          "Date: 2024-09-07<br>Title: Crypto market enters ‘extreme fear’ as analysts warn of Bitcoin below $50K<br>Sentiment: -0.1027",
          "Date: 2024-09-10<br>Title: MicroStrategy's Michael Saylor Predicts Bitcoin Price Will Rise to $13 Million<br>Sentiment: 0.0",
          "Date: 2024-09-12<br>Title: Bitcoin could soon hit six figures regardless of who wins U.S. election, investors say<br>Sentiment: 0.5719",
          "Date: 2024-09-15<br>Title: ‘Shock And Awe’—China Could Be About To Trigger A $1.4 Trillion Bitcoin And Crypto Price Earthquake<br>Sentiment: 0.0",
          "Date: 2024-09-16<br>Title: Residents of a Norwegian town complained about a Bitcoin mine's noise; now that it’s shut down, they face a 20% energy bill hike<br>Sentiment: -0.1531",
          "Date: 2024-09-19<br>Title: Rare photo of an early Bitcoin order book, taken exactly 13 years ago. 25 BTC cost $100 ✨\n<br>Sentiment: 0.0",
          "Date: 2024-09-20<br>Title: MicroStrategy buys Bitcoin worth $458m, total holdings hit 252,220 BTC<br>Sentiment: 0.2263",
          "Date: 2024-09-22<br>Title: Ancient Bitcoin Addresses Abruptly Wake Up After Lying Low Since 2009, Move 250 BTC at 8,000,000,000%+ Profit - The Daily Hodl<br>Sentiment: -0.3818",
          "Date: 2024-09-28<br>Title: A ‘Rapid Pace’ $100,000 Bitcoin Price Earthquake Is Suddenly Predicted To Shock Crypto<br>Sentiment: -0.3818",
          "Date: 2024-10-01<br>Title: Bitcoin Surges 7.3% in September, Marking Its Biggest Gain in 11 Years<br>Sentiment: 0.5267",
          "Date: 2024-10-02<br>Title: How to Invest in Bitcoin - Proper Way vs Our Way<br>Sentiment: 0.0",
          "Date: 2024-10-04<br>Title: Mark Cuban saying he'd buy bananas over Bitcoin, 5 years ago. Bitcoin is up 6x since 💀<br>Sentiment: 0.0",
          "Date: 2024-10-08<br>Title: Supreme Court Allows the US to Sell 69,370 Seized Silk Road Bitcoin<br>Sentiment: 0.5574",
          "Date: 2024-10-09<br>Title: ‘I'm Not Satoshi’: HBO Documentary Money Electric Misfires on Bitcoin Creator Reveal - Decrypt<br>Sentiment: 0.0"
         ],
         "type": "scatter",
         "x": [
          "2024-04-14T00:00:00",
          "2024-04-17T00:00:00",
          "2024-04-20T00:00:00",
          "2024-04-26T00:00:00",
          "2024-05-12T00:00:00",
          "2024-05-16T00:00:00",
          "2024-05-19T00:00:00",
          "2024-05-29T00:00:00",
          "2024-06-02T00:00:00",
          "2024-06-03T00:00:00",
          "2024-06-12T00:00:00",
          "2024-06-27T00:00:00",
          "2024-07-19T00:00:00",
          "2024-07-25T00:00:00",
          "2024-07-27T00:00:00",
          "2024-07-27T00:00:00",
          "2024-08-05T00:00:00",
          "2024-08-14T00:00:00",
          "2024-08-23T00:00:00",
          "2024-08-23T00:00:00",
          "2024-08-30T00:00:00",
          "2024-09-07T00:00:00",
          "2024-09-10T00:00:00",
          "2024-09-12T00:00:00",
          "2024-09-15T00:00:00",
          "2024-09-16T00:00:00",
          "2024-09-19T00:00:00",
          "2024-09-20T00:00:00",
          "2024-09-22T00:00:00",
          "2024-09-28T00:00:00",
          "2024-10-01T00:00:00",
          "2024-10-02T00:00:00",
          "2024-10-04T00:00:00",
          "2024-10-08T00:00:00",
          "2024-10-09T00:00:00"
         ],
         "y": [
          -0.7003,
          0,
          0.0516,
          0,
          0,
          -0.34,
          0.5106,
          0,
          0.3818,
          0.4404,
          -0.3182,
          0,
          -0.4588,
          0,
          0,
          0.296,
          -0.6597,
          0.1779,
          0,
          0.3612,
          0.4588,
          -0.1027,
          0,
          0.5719,
          0,
          -0.1531,
          0,
          0.2263,
          -0.3818,
          -0.3818,
          0.5267,
          0,
          0,
          0.5574,
          0
         ]
        },
        {
         "hoverinfo": "text",
         "line": {
          "width": 2
         },
         "marker": {
          "size": 8
         },
         "mode": "lines+markers",
         "name": "Ethereum",
         "text": [
          "Date: 2024-04-29<br>Title: SEC considers Ethereum unregistered security for at least a year: FOX Business<br>Sentiment: 0.34",
          "Date: 2024-05-01<br>Title: Ethereum drops below $3k as liquidations hit $320 million<br>Sentiment: 0.0",
          "Date: 2024-05-03<br>Title: SEC will classify ETH as security and reject spot Ethereum ETFs, says Michael Saylor<br>Sentiment: -0.0772",
          "Date: 2024-05-13<br>Title: Ethereum Gas Prices Plummet 93% to Reach Rock-Bottom Levels<br>Sentiment: 0.0258",
          "Date: 2024-05-13<br>Title: Visa, Mastercard, JPMorgan And Citi Reveal Game-Changing Crypto Plan For ‘Mass Institutional Adoption’ After Bitcoin, Ethereum And XRP Price Pump<br>Sentiment: 0.0",
          "Date: 2024-05-17<br>Title: Former CEO of MicroStrategy, Michael Saylor, believes that the SEC will classify Ethereum as a security this summer and reject the corresponding applications for spot ETFs. In his opinion, only BTC has full institutional recognition, calling it the “only universal” institutional-level crypto asset<br>Sentiment: 0.296",
          "Date: 2024-05-24<br>Title: Ethereum Spot ETFs Approved by SEC<br>Sentiment: 0.4215",
          "Date: 2024-05-27<br>Title: Ethereum Nears Critical $4,200 Resistance: Will ETH Surge to a New ATH Soon?<br>Sentiment: -0.3182",
          "Date: 2024-05-30<br>Title: All the meme coins moving to Solana is a good thing for Ethereum<br>Sentiment: 0.4404",
          "Date: 2024-06-02<br>Title: Altseason incoming? Ethereum reclaims key trend line against Bitcoin<br>Sentiment: 0.0",
          "Date: 2024-06-04<br>Title: Kraken Witnesses Largest Bitcoin and Ethereum Outflows Since 2017: What's Behind the Trend?<br>Sentiment: 0.0",
          "Date: 2024-06-06<br>Title: VanEck Predicts Ethereum Price to Hit $22,000 by 2030<br>Sentiment: 0.0",
          "Date: 2024-06-12<br>Title: Biggest Bank in the World Says Ethereum Is ‘Digital Oil,’ Bitcoin ‘Digital Gold’: Report<br>Sentiment: 0.0",
          "Date: 2024-06-19<br>Title: The SEC closes investigation into Ethereum 2.0, no securities charges against ETH: Consensys<br>Sentiment: -0.2732",
          "Date: 2024-06-25<br>Title: \"It will soon be confirmed that Ethereum is not a security\": Galaxy<br>Sentiment: 0.0",
          "Date: 2024-06-26<br>Title: Ethereum’s supply has been inflating for 73 days straight<br>Sentiment: 0.2263",
          "Date: 2024-07-16<br>Title: Ethereum ETFs to launch July 23, Bloomberg analyst says<br>Sentiment: 0.0",
          "Date: 2024-07-19<br>Title: This outrage is insane, BUT, Ethereum and Bitcoin are still... working.<br>Sentiment: -0.4588",
          "Date: 2024-07-23<br>Title: BlackRock's spot Ethereum ETF begins pre-market trading<br>Sentiment: 0.0",
          "Date: 2024-07-26<br>Title: Blackrock foresees “very little interest” in crypto ETFs beyond Bitcoin, Ethereum <br>Sentiment: 0.0",
          "Date: 2024-08-02<br>Title: 2025 Bull Run: Analyst Predicts Bitcoin at $250K, Ethereum at $15K<br>Sentiment: 0.0",
          "Date: 2024-08-09<br>Title: Ethereum Can't Keep Up With Bitcoin Or Solana: What's Going On? - Decrypt<br>Sentiment: 0.0",
          "Date: 2024-08-23<br>Title: Sony is launching an Ethereum L2 called Soneium to 'realize the open internet'<br>Sentiment: 0.0",
          "Date: 2024-08-25<br>Title: Ethereum Foundation Criticized for Lack of Transparency in $100 Million Kraken Transfer<br>Sentiment: -0.5859",
          "Date: 2024-08-27<br>Title: Can Ethereum regain momentum and outperform Bitcoin in 2024?<br>Sentiment: 0.0",
          "Date: 2024-09-04<br>Title: Ethereum activity hit ATHs as fees plunge 99%<br>Sentiment: 0.0",
          "Date: 2024-09-16<br>Title: Early Ethereum investor sells 350 ETH after 8.5 years, 446x gains realized<br>Sentiment: 0.34",
          "Date: 2024-09-17<br>Title: Ethereum falls to new 42-month low vs. Bitcoin — Bottom or more pain ahead?<br>Sentiment: -0.6901",
          "Date: 2024-10-09<br>Title: This User Paid $700K for a Single Ethereum Transaction<br>Sentiment: 0.0"
         ],
         "type": "scatter",
         "x": [
          "2024-04-29T00:00:00",
          "2024-05-01T00:00:00",
          "2024-05-03T00:00:00",
          "2024-05-13T00:00:00",
          "2024-05-13T00:00:00",
          "2024-05-17T00:00:00",
          "2024-05-24T00:00:00",
          "2024-05-27T00:00:00",
          "2024-05-30T00:00:00",
          "2024-06-02T00:00:00",
          "2024-06-04T00:00:00",
          "2024-06-06T00:00:00",
          "2024-06-12T00:00:00",
          "2024-06-19T00:00:00",
          "2024-06-25T00:00:00",
          "2024-06-26T00:00:00",
          "2024-07-16T00:00:00",
          "2024-07-19T00:00:00",
          "2024-07-23T00:00:00",
          "2024-07-26T00:00:00",
          "2024-08-02T00:00:00",
          "2024-08-09T00:00:00",
          "2024-08-23T00:00:00",
          "2024-08-25T00:00:00",
          "2024-08-27T00:00:00",
          "2024-09-04T00:00:00",
          "2024-09-16T00:00:00",
          "2024-09-17T00:00:00",
          "2024-10-09T00:00:00"
         ],
         "y": [
          0.34,
          0,
          -0.0772,
          0.0258,
          0,
          0.296,
          0.4215,
          -0.3182,
          0.4404,
          0,
          0,
          0,
          0,
          -0.2732,
          0,
          0.2263,
          0,
          -0.4588,
          0,
          0,
          0,
          0,
          0,
          -0.5859,
          0,
          0,
          0.34,
          -0.6901,
          0
         ]
        },
        {
         "hoverinfo": "text",
         "line": {
          "width": 2
         },
         "marker": {
          "size": 8
         },
         "mode": "lines+markers",
         "name": "Tether",
         "text": [
          "Date: 2024-04-19<br>Title: Why the Big Four apparently won’t audit Tethers $108bn reserves<br>Sentiment: 0.0",
          "Date: 2024-04-21<br>Title: If the Tether Treasury keeps on minting USDT like this, what makes them different from the government that prints fiat money? What will happen in the future if it stays like this?<br>Sentiment: 0.7319",
          "Date: 2024-05-01<br>Title: Tether reports record $4.52 billion Q1 profit<br>Sentiment: 0.4404",
          "Date: 2024-05-12<br>Title: US Scrutiny of Tether Could Disrupt Crypto Ecosystem, Ripple CEO Warns <br>Sentiment: -0.1027",
          "Date: 2024-05-20<br>Title: If Tether (USDT) doesn’t comply in the EU, Kraken and others could be forced to delist it ahead of the upcoming MiCA regulation in July<br>Sentiment: -0.4588",
          "Date: 2024-06-04<br>Title: ‘Inevitable’ – Tether Co-Founder Says China Is Going To Open Up to Crypto: Report<br>Sentiment: 0.0",
          "Date: 2024-06-17<br>Title: Tether introduces its new gold-backed digital asset called Alloy<br>Sentiment: 0.3612",
          "Date: 2024-07-02<br>Title: EU banning stablecoins like Tether / from June 30th 2024<br>Sentiment: 0.3612",
          "Date: 2024-07-15<br>Title: Tether freezes $28m in USDT linked to Cambodian fraud<br>Sentiment: -0.5994",
          "Date: 2024-07-16<br>Title: Tether Freezes $29,620,000 in Tron Address With Links to Cambodian Ruling Family: Report<br>Sentiment: -0.0258",
          "Date: 2024-08-01<br>Title: Tether generates a record $5.2 billion profit in first half of the year.<br>Sentiment: 0.4404",
          "Date: 2024-08-09<br>Title: Tether mints $1.3B USDT since market bottom — Can it push Bitcoin above $65K?<br>Sentiment: 0.0",
          "Date: 2024-08-10<br>Title: Celsius Sues Tether for $2.4 Billion Over BTC Liquidation, Tether says it will Defend Itself Against “Shake Down” Litigation Commenced by Celsius<br>Sentiment: -0.2023",
          "Date: 2024-08-13<br>Title: Tether Co-Founder Faces the Unraveling of a Crypto Dream in Puerto Rico<br>Sentiment: 0.25",
          "Date: 2024-08-15<br>Title: Tether Transfers $955M USDT to Kraken, Sparking Market Shift Speculations<br>Sentiment: 0.0",
          "Date: 2024-08-21<br>Title: Tether Treasury minted 1 billion USDT. Since the crash on August 5, 2024, Tether has continuously transferred USDT to various exchanges such as Coinbase, Kraken, OKX, and Binance via wallet 0x1db (likely Cumberland), totaling 1.476B USDT.<br>Sentiment: -0.2263",
          "Date: 2024-08-22<br>Title: Tether backing betting<br>Sentiment: 0.0258",
          "Date: 2024-08-25<br>Title: Tether and DOJ Team Up to Combat 'Pig Butchering' Scams, Recovering Millions<br>Sentiment: -0.7351",
          "Date: 2024-09-03<br>Title: Tether Decides Against Creating Its Own Blockchain Amid Market Saturation<br>Sentiment: 0.296",
          "Date: 2024-09-06<br>Title: When Tether flips Ethereum by m/cap will that be the point the majority of the crypto community finally calls it out? <br>Sentiment: 0.0",
          "Date: 2024-09-09<br>Title: Tether addresses $102 million agricultural investment: land is \"crucial asset class\"<br>Sentiment: 0.3612",
          "Date: 2024-09-11<br>Title: Does Tether create systemic risk for the US?<br>Sentiment: 0.0",
          "Date: 2024-09-11<br>Title: Tether Invests $100M in Agriculture Amid Rising Stablecoin Competition<br>Sentiment: 0.0",
          "Date: 2024-09-11<br>Title: Tether has achieved higher profits than BlackRock<br>Sentiment: 0.4404",
          "Date: 2024-09-13<br>Title: Consumer protection watchdog warns about Tether's reserves<br>Sentiment: -0.1027",
          "Date: 2024-09-13<br>Title: Consumer Watchdog Calls Tether a 'Disaster for Consumers Waiting to Happen' - Decrypt<br>Sentiment: -0.6249",
          "Date: 2024-09-15<br>Title: “Tether is a 118 Billion Dollar Scam; Bigger Than FTX & Bernie Madoff Combined”: Cyber Capital Founder Justin Bons Claims<br>Sentiment: -0.5719",
          "Date: 2024-09-16<br>Title: Another 1B USDT minted at Tether Treasuries, Paolo Ardoino clarifies allocation<br>Sentiment: 0.4215",
          "Date: 2024-09-16<br>Title: Tether Is the Biggest Crypto Scam Ever, Warns Cyber Capital Founder<br>Sentiment: -0.6249",
          "Date: 2024-09-17<br>Title: Tether's market share grows from 55% to 75% in the last 2 years | Cryptopolitan<br>Sentiment: 0.296",
          "Date: 2024-09-25<br>Title: 'Uptober' looms for crypto as Tether's market cap hits a record high<br>Sentiment: -0.1531",
          "Date: 2024-09-27<br>Title: Robinhood Plans to Enter the Stablecoin Market: Can It Challenge Tether?<br>Sentiment: 0.0772",
          "Date: 2024-09-28<br>Title: FBI Recovers Over $6 Million in Stolen Cryptocurrency: Tether Linked to International Fraud Scheme<br>Sentiment: -0.7906",
          "Date: 2024-10-02<br>Title: Tether USDT Market Cap Reaches All Time High of 120 Billions | Data on Tether Market Cap and Share | September 2024<br>Sentiment: 0.34",
          "Date: 2024-10-04<br>Title: Tether is ‘best friend’ of US, says CEO Paolo Ardoino<br>Sentiment: 0.0",
          "Date: 2024-10-05<br>Title: Vitalik Donates Ether to “Free Alexey & Roman” Campaign After Dumping Memecoins and Tether’s USDT<br>Sentiment: -0.3182",
          "Date: 2024-10-05<br>Title: Coinbase to Delist Tether and Other Non-Compliant Stablecoins Ahead of MiCA Compliance in Europe<br>Sentiment: 0.0",
          "Date: 2024-10-07<br>Title: The Impressive Amount of Treasury Bonds Tether Holds Surpasses Entire Nations!<br>Sentiment: 0.6588",
          "Date: 2024-10-07<br>Title: Tether teases USDT documentary on 10th anniversary<br>Sentiment: -0.296",
          "Date: 2024-10-08<br>Title: Tether user base hits 350M in 2024 following 24% surge<br>Sentiment: 0.0",
          "Date: 2024-10-11<br>Title: Tether CEO Open to Big Four Audit in Transparency Drive<br>Sentiment: 0.0",
          "Date: 2024-10-13<br>Title: Stablecoin Giant Tether Celebrates 10th Anniversary: The Journey So Far<br>Sentiment: 0.5719"
         ],
         "type": "scatter",
         "x": [
          "2024-04-19T00:00:00",
          "2024-04-21T00:00:00",
          "2024-05-01T00:00:00",
          "2024-05-12T00:00:00",
          "2024-05-20T00:00:00",
          "2024-06-04T00:00:00",
          "2024-06-17T00:00:00",
          "2024-07-02T00:00:00",
          "2024-07-15T00:00:00",
          "2024-07-16T00:00:00",
          "2024-08-01T00:00:00",
          "2024-08-09T00:00:00",
          "2024-08-10T00:00:00",
          "2024-08-13T00:00:00",
          "2024-08-15T00:00:00",
          "2024-08-21T00:00:00",
          "2024-08-22T00:00:00",
          "2024-08-25T00:00:00",
          "2024-09-03T00:00:00",
          "2024-09-06T00:00:00",
          "2024-09-09T00:00:00",
          "2024-09-11T00:00:00",
          "2024-09-11T00:00:00",
          "2024-09-11T00:00:00",
          "2024-09-13T00:00:00",
          "2024-09-13T00:00:00",
          "2024-09-15T00:00:00",
          "2024-09-16T00:00:00",
          "2024-09-16T00:00:00",
          "2024-09-17T00:00:00",
          "2024-09-25T00:00:00",
          "2024-09-27T00:00:00",
          "2024-09-28T00:00:00",
          "2024-10-02T00:00:00",
          "2024-10-04T00:00:00",
          "2024-10-05T00:00:00",
          "2024-10-05T00:00:00",
          "2024-10-07T00:00:00",
          "2024-10-07T00:00:00",
          "2024-10-08T00:00:00",
          "2024-10-11T00:00:00",
          "2024-10-13T00:00:00"
         ],
         "y": [
          0,
          0.7319,
          0.4404,
          -0.1027,
          -0.4588,
          0,
          0.3612,
          0.3612,
          -0.5994,
          -0.0258,
          0.4404,
          0,
          -0.2023,
          0.25,
          0,
          -0.2263,
          0.0258,
          -0.7351,
          0.296,
          0,
          0.3612,
          0,
          0,
          0.4404,
          -0.1027,
          -0.6249,
          -0.5719,
          0.4215,
          -0.6249,
          0.296,
          -0.1531,
          0.0772,
          -0.7906,
          0.34,
          0,
          -0.3182,
          0,
          0.6588,
          -0.296,
          0,
          0,
          0.5719
         ]
        },
        {
         "hoverinfo": "text",
         "line": {
          "width": 2
         },
         "marker": {
          "size": 8
         },
         "mode": "lines+markers",
         "name": "BNB",
         "text": [
          "Date: 2024-04-24<br>Title: US seeks 36 months' jail for Binance founder Zhao<br>Sentiment: 0.0",
          "Date: 2024-05-01<br>Title: Binance founder Changpeng Zhao sentenced to four months in prison<br>Sentiment: -0.5267",
          "Date: 2024-05-04<br>Title: Withdraw your XMR from Binance until May 20 or lost everything!<br>Sentiment: -0.3802",
          "Date: 2024-06-01<br>Title: The Fall of CZ: Binance Founder Begins Prison Sentence<br>Sentiment: -0.4588",
          "Date: 2024-06-03<br>Title: Hackers exploit Chrome plugin to steal millions from Binance accounts<br>Sentiment: -0.5574",
          "Date: 2024-06-22<br>Title: Chainlink Unlocks $295 Million in LINK Tokens, Transfers $264 Million to Binance<br>Sentiment: 0.0",
          "Date: 2024-06-27<br>Title: Dormant Bitcoin miner sends $3m to Binance after 14 years of inactivity<br>Sentiment: 0.0",
          "Date: 2024-07-01<br>Title: Bitcoin Wallet Last Active in the Satoshi Era Moved 50 BTC to Binance<br>Sentiment: 0.4019",
          "Date: 2024-08-21<br>Title: BlackRock’s Bitcoin Stash Nears 350,000, Trails Only Satoshi and Binance<br>Sentiment: 0.0",
          "Date: 2024-08-28<br>Title: Binance complies with Israeli request, seizes Palestinian funds<br>Sentiment: 0.0",
          "Date: 2024-08-28<br>Title: Binance seizes Palestinian funds at Israel's request<br>Sentiment: 0.0",
          "Date: 2024-09-03<br>Title: Why Are You Doing This To Me?’: Detained Binance Exec.\n<br>Sentiment: -0.4019",
          "Date: 2024-09-13<br>Title: Whale Withdraws $45 Million in Bitcoin from Binance After $40 Million Loss<br>Sentiment: -0.3182",
          "Date: 2024-09-14<br>Title: SEC clarifies and admits that cryptocurrencies are not \"securities\" in Binance case<br>Sentiment: 0.4767",
          "Date: 2024-09-27<br>Title: The world's richest inmate is free. What will Binance billionaire 'CZ' do next?<br>Sentiment: 0.7717",
          "Date: 2024-09-29<br>Title: Binance’s CZ makes his first tweet after release from prison<br>Sentiment: -0.5106",
          "Date: 2024-10-01<br>Title: Binance founder CZ made over $25 million per day while in prison, report<br>Sentiment: -0.5106",
          "Date: 2024-10-07<br>Title: Binance rejected 86% of requests by Israel to freeze Palestinian users’ crypto wallet<br>Sentiment: -0.4767"
         ],
         "type": "scatter",
         "x": [
          "2024-04-24T00:00:00",
          "2024-05-01T00:00:00",
          "2024-05-04T00:00:00",
          "2024-06-01T00:00:00",
          "2024-06-03T00:00:00",
          "2024-06-22T00:00:00",
          "2024-06-27T00:00:00",
          "2024-07-01T00:00:00",
          "2024-08-21T00:00:00",
          "2024-08-28T00:00:00",
          "2024-08-28T00:00:00",
          "2024-09-03T00:00:00",
          "2024-09-13T00:00:00",
          "2024-09-14T00:00:00",
          "2024-09-27T00:00:00",
          "2024-09-29T00:00:00",
          "2024-10-01T00:00:00",
          "2024-10-07T00:00:00"
         ],
         "y": [
          0,
          -0.5267,
          -0.3802,
          -0.4588,
          -0.5574,
          0,
          0,
          0.4019,
          0,
          0,
          0,
          -0.4019,
          -0.3182,
          0.4767,
          0.7717,
          -0.5106,
          -0.5106,
          -0.4767
         ]
        }
       ],
       "layout": {
        "height": 600,
        "legend": {
         "title": {
          "text": "Coins"
         }
        },
        "template": {
         "data": {
          "bar": [
           {
            "error_x": {
             "color": "#f2f5fa"
            },
            "error_y": {
             "color": "#f2f5fa"
            },
            "marker": {
             "line": {
              "color": "rgb(17,17,17)",
              "width": 0.5
             },
             "pattern": {
              "fillmode": "overlay",
              "size": 10,
              "solidity": 0.2
             }
            },
            "type": "bar"
           }
          ],
          "barpolar": [
           {
            "marker": {
             "line": {
              "color": "rgb(17,17,17)",
              "width": 0.5
             },
             "pattern": {
              "fillmode": "overlay",
              "size": 10,
              "solidity": 0.2
             }
            },
            "type": "barpolar"
           }
          ],
          "carpet": [
           {
            "aaxis": {
             "endlinecolor": "#A2B1C6",
             "gridcolor": "#506784",
             "linecolor": "#506784",
             "minorgridcolor": "#506784",
             "startlinecolor": "#A2B1C6"
            },
            "baxis": {
             "endlinecolor": "#A2B1C6",
             "gridcolor": "#506784",
             "linecolor": "#506784",
             "minorgridcolor": "#506784",
             "startlinecolor": "#A2B1C6"
            },
            "type": "carpet"
           }
          ],
          "choropleth": [
           {
            "colorbar": {
             "outlinewidth": 0,
             "ticks": ""
            },
            "type": "choropleth"
           }
          ],
          "contour": [
           {
            "colorbar": {
             "outlinewidth": 0,
             "ticks": ""
            },
            "colorscale": [
             [
              0,
              "#0d0887"
             ],
             [
              0.1111111111111111,
              "#46039f"
             ],
             [
              0.2222222222222222,
              "#7201a8"
             ],
             [
              0.3333333333333333,
              "#9c179e"
             ],
             [
              0.4444444444444444,
              "#bd3786"
             ],
             [
              0.5555555555555556,
              "#d8576b"
             ],
             [
              0.6666666666666666,
              "#ed7953"
             ],
             [
              0.7777777777777778,
              "#fb9f3a"
             ],
             [
              0.8888888888888888,
              "#fdca26"
             ],
             [
              1,
              "#f0f921"
             ]
            ],
            "type": "contour"
           }
          ],
          "contourcarpet": [
           {
            "colorbar": {
             "outlinewidth": 0,
             "ticks": ""
            },
            "type": "contourcarpet"
           }
          ],
          "heatmap": [
           {
            "colorbar": {
             "outlinewidth": 0,
             "ticks": ""
            },
            "colorscale": [
             [
              0,
              "#0d0887"
             ],
             [
              0.1111111111111111,
              "#46039f"
             ],
             [
              0.2222222222222222,
              "#7201a8"
             ],
             [
              0.3333333333333333,
              "#9c179e"
             ],
             [
              0.4444444444444444,
              "#bd3786"
             ],
             [
              0.5555555555555556,
              "#d8576b"
             ],
             [
              0.6666666666666666,
              "#ed7953"
             ],
             [
              0.7777777777777778,
              "#fb9f3a"
             ],
             [
              0.8888888888888888,
              "#fdca26"
             ],
             [
              1,
              "#f0f921"
             ]
            ],
            "type": "heatmap"
           }
          ],
          "heatmapgl": [
           {
            "colorbar": {
             "outlinewidth": 0,
             "ticks": ""
            },
            "colorscale": [
             [
              0,
              "#0d0887"
             ],
             [
              0.1111111111111111,
              "#46039f"
             ],
             [
              0.2222222222222222,
              "#7201a8"
             ],
             [
              0.3333333333333333,
              "#9c179e"
             ],
             [
              0.4444444444444444,
              "#bd3786"
             ],
             [
              0.5555555555555556,
              "#d8576b"
             ],
             [
              0.6666666666666666,
              "#ed7953"
             ],
             [
              0.7777777777777778,
              "#fb9f3a"
             ],
             [
              0.8888888888888888,
              "#fdca26"
             ],
             [
              1,
              "#f0f921"
             ]
            ],
            "type": "heatmapgl"
           }
          ],
          "histogram": [
           {
            "marker": {
             "pattern": {
              "fillmode": "overlay",
              "size": 10,
              "solidity": 0.2
             }
            },
            "type": "histogram"
           }
          ],
          "histogram2d": [
           {
            "colorbar": {
             "outlinewidth": 0,
             "ticks": ""
            },
            "colorscale": [
             [
              0,
              "#0d0887"
             ],
             [
              0.1111111111111111,
              "#46039f"
             ],
             [
              0.2222222222222222,
              "#7201a8"
             ],
             [
              0.3333333333333333,
              "#9c179e"
             ],
             [
              0.4444444444444444,
              "#bd3786"
             ],
             [
              0.5555555555555556,
              "#d8576b"
             ],
             [
              0.6666666666666666,
              "#ed7953"
             ],
             [
              0.7777777777777778,
              "#fb9f3a"
             ],
             [
              0.8888888888888888,
              "#fdca26"
             ],
             [
              1,
              "#f0f921"
             ]
            ],
            "type": "histogram2d"
           }
          ],
          "histogram2dcontour": [
           {
            "colorbar": {
             "outlinewidth": 0,
             "ticks": ""
            },
            "colorscale": [
             [
              0,
              "#0d0887"
             ],
             [
              0.1111111111111111,
              "#46039f"
             ],
             [
              0.2222222222222222,
              "#7201a8"
             ],
             [
              0.3333333333333333,
              "#9c179e"
             ],
             [
              0.4444444444444444,
              "#bd3786"
             ],
             [
              0.5555555555555556,
              "#d8576b"
             ],
             [
              0.6666666666666666,
              "#ed7953"
             ],
             [
              0.7777777777777778,
              "#fb9f3a"
             ],
             [
              0.8888888888888888,
              "#fdca26"
             ],
             [
              1,
              "#f0f921"
             ]
            ],
            "type": "histogram2dcontour"
           }
          ],
          "mesh3d": [
           {
            "colorbar": {
             "outlinewidth": 0,
             "ticks": ""
            },
            "type": "mesh3d"
           }
          ],
          "parcoords": [
           {
            "line": {
             "colorbar": {
              "outlinewidth": 0,
              "ticks": ""
             }
            },
            "type": "parcoords"
           }
          ],
          "pie": [
           {
            "automargin": true,
            "type": "pie"
           }
          ],
          "scatter": [
           {
            "marker": {
             "line": {
              "color": "#283442"
             }
            },
            "type": "scatter"
           }
          ],
          "scatter3d": [
           {
            "line": {
             "colorbar": {
              "outlinewidth": 0,
              "ticks": ""
             }
            },
            "marker": {
             "colorbar": {
              "outlinewidth": 0,
              "ticks": ""
             }
            },
            "type": "scatter3d"
           }
          ],
          "scattercarpet": [
           {
            "marker": {
             "colorbar": {
              "outlinewidth": 0,
              "ticks": ""
             }
            },
            "type": "scattercarpet"
           }
          ],
          "scattergeo": [
           {
            "marker": {
             "colorbar": {
              "outlinewidth": 0,
              "ticks": ""
             }
            },
            "type": "scattergeo"
           }
          ],
          "scattergl": [
           {
            "marker": {
             "line": {
              "color": "#283442"
             }
            },
            "type": "scattergl"
           }
          ],
          "scattermapbox": [
           {
            "marker": {
             "colorbar": {
              "outlinewidth": 0,
              "ticks": ""
             }
            },
            "type": "scattermapbox"
           }
          ],
          "scatterpolar": [
           {
            "marker": {
             "colorbar": {
              "outlinewidth": 0,
              "ticks": ""
             }
            },
            "type": "scatterpolar"
           }
          ],
          "scatterpolargl": [
           {
            "marker": {
             "colorbar": {
              "outlinewidth": 0,
              "ticks": ""
             }
            },
            "type": "scatterpolargl"
           }
          ],
          "scatterternary": [
           {
            "marker": {
             "colorbar": {
              "outlinewidth": 0,
              "ticks": ""
             }
            },
            "type": "scatterternary"
           }
          ],
          "surface": [
           {
            "colorbar": {
             "outlinewidth": 0,
             "ticks": ""
            },
            "colorscale": [
             [
              0,
              "#0d0887"
             ],
             [
              0.1111111111111111,
              "#46039f"
             ],
             [
              0.2222222222222222,
              "#7201a8"
             ],
             [
              0.3333333333333333,
              "#9c179e"
             ],
             [
              0.4444444444444444,
              "#bd3786"
             ],
             [
              0.5555555555555556,
              "#d8576b"
             ],
             [
              0.6666666666666666,
              "#ed7953"
             ],
             [
              0.7777777777777778,
              "#fb9f3a"
             ],
             [
              0.8888888888888888,
              "#fdca26"
             ],
             [
              1,
              "#f0f921"
             ]
            ],
            "type": "surface"
           }
          ],
          "table": [
           {
            "cells": {
             "fill": {
              "color": "#506784"
             },
             "line": {
              "color": "rgb(17,17,17)"
             }
            },
            "header": {
             "fill": {
              "color": "#2a3f5f"
             },
             "line": {
              "color": "rgb(17,17,17)"
             }
            },
            "type": "table"
           }
          ]
         },
         "layout": {
          "annotationdefaults": {
           "arrowcolor": "#f2f5fa",
           "arrowhead": 0,
           "arrowwidth": 1
          },
          "autotypenumbers": "strict",
          "coloraxis": {
           "colorbar": {
            "outlinewidth": 0,
            "ticks": ""
           }
          },
          "colorscale": {
           "diverging": [
            [
             0,
             "#8e0152"
            ],
            [
             0.1,
             "#c51b7d"
            ],
            [
             0.2,
             "#de77ae"
            ],
            [
             0.3,
             "#f1b6da"
            ],
            [
             0.4,
             "#fde0ef"
            ],
            [
             0.5,
             "#f7f7f7"
            ],
            [
             0.6,
             "#e6f5d0"
            ],
            [
             0.7,
             "#b8e186"
            ],
            [
             0.8,
             "#7fbc41"
            ],
            [
             0.9,
             "#4d9221"
            ],
            [
             1,
             "#276419"
            ]
           ],
           "sequential": [
            [
             0,
             "#0d0887"
            ],
            [
             0.1111111111111111,
             "#46039f"
            ],
            [
             0.2222222222222222,
             "#7201a8"
            ],
            [
             0.3333333333333333,
             "#9c179e"
            ],
            [
             0.4444444444444444,
             "#bd3786"
            ],
            [
             0.5555555555555556,
             "#d8576b"
            ],
            [
             0.6666666666666666,
             "#ed7953"
            ],
            [
             0.7777777777777778,
             "#fb9f3a"
            ],
            [
             0.8888888888888888,
             "#fdca26"
            ],
            [
             1,
             "#f0f921"
            ]
           ],
           "sequentialminus": [
            [
             0,
             "#0d0887"
            ],
            [
             0.1111111111111111,
             "#46039f"
            ],
            [
             0.2222222222222222,
             "#7201a8"
            ],
            [
             0.3333333333333333,
             "#9c179e"
            ],
            [
             0.4444444444444444,
             "#bd3786"
            ],
            [
             0.5555555555555556,
             "#d8576b"
            ],
            [
             0.6666666666666666,
             "#ed7953"
            ],
            [
             0.7777777777777778,
             "#fb9f3a"
            ],
            [
             0.8888888888888888,
             "#fdca26"
            ],
            [
             1,
             "#f0f921"
            ]
           ]
          },
          "colorway": [
           "#636efa",
           "#EF553B",
           "#00cc96",
           "#ab63fa",
           "#FFA15A",
           "#19d3f3",
           "#FF6692",
           "#B6E880",
           "#FF97FF",
           "#FECB52"
          ],
          "font": {
           "color": "#f2f5fa"
          },
          "geo": {
           "bgcolor": "rgb(17,17,17)",
           "lakecolor": "rgb(17,17,17)",
           "landcolor": "rgb(17,17,17)",
           "showlakes": true,
           "showland": true,
           "subunitcolor": "#506784"
          },
          "hoverlabel": {
           "align": "left"
          },
          "hovermode": "closest",
          "mapbox": {
           "style": "dark"
          },
          "paper_bgcolor": "rgb(17,17,17)",
          "plot_bgcolor": "rgb(17,17,17)",
          "polar": {
           "angularaxis": {
            "gridcolor": "#506784",
            "linecolor": "#506784",
            "ticks": ""
           },
           "bgcolor": "rgb(17,17,17)",
           "radialaxis": {
            "gridcolor": "#506784",
            "linecolor": "#506784",
            "ticks": ""
           }
          },
          "scene": {
           "xaxis": {
            "backgroundcolor": "rgb(17,17,17)",
            "gridcolor": "#506784",
            "gridwidth": 2,
            "linecolor": "#506784",
            "showbackground": true,
            "ticks": "",
            "zerolinecolor": "#C8D4E3"
           },
           "yaxis": {
            "backgroundcolor": "rgb(17,17,17)",
            "gridcolor": "#506784",
            "gridwidth": 2,
            "linecolor": "#506784",
            "showbackground": true,
            "ticks": "",
            "zerolinecolor": "#C8D4E3"
           },
           "zaxis": {
            "backgroundcolor": "rgb(17,17,17)",
            "gridcolor": "#506784",
            "gridwidth": 2,
            "linecolor": "#506784",
            "showbackground": true,
            "ticks": "",
            "zerolinecolor": "#C8D4E3"
           }
          },
          "shapedefaults": {
           "line": {
            "color": "#f2f5fa"
           }
          },
          "sliderdefaults": {
           "bgcolor": "#C8D4E3",
           "bordercolor": "rgb(17,17,17)",
           "borderwidth": 1,
           "tickwidth": 0
          },
          "ternary": {
           "aaxis": {
            "gridcolor": "#506784",
            "linecolor": "#506784",
            "ticks": ""
           },
           "baxis": {
            "gridcolor": "#506784",
            "linecolor": "#506784",
            "ticks": ""
           },
           "bgcolor": "rgb(17,17,17)",
           "caxis": {
            "gridcolor": "#506784",
            "linecolor": "#506784",
            "ticks": ""
           }
          },
          "title": {
           "x": 0.05
          },
          "updatemenudefaults": {
           "bgcolor": "#506784",
           "borderwidth": 0
          },
          "xaxis": {
           "automargin": true,
           "gridcolor": "#283442",
           "linecolor": "#506784",
           "ticks": "",
           "title": {
            "standoff": 15
           },
           "zerolinecolor": "#283442",
           "zerolinewidth": 2
          },
          "yaxis": {
           "automargin": true,
           "gridcolor": "#283442",
           "linecolor": "#506784",
           "ticks": "",
           "title": {
            "standoff": 15
           },
           "zerolinecolor": "#283442",
           "zerolinewidth": 2
          }
         }
        },
        "title": {
         "text": "Sentiment Score of CyrptoCurrency posts on Reddit over 180 days (14/4 - 14/10)"
        },
        "width": 1200,
        "xaxis": {
         "title": {
          "text": "Date"
         }
        },
        "yaxis": {
         "title": {
          "text": "Sentiment Score"
         }
        }
       }
      }
     },
     "metadata": {},
     "output_type": "display_data"
    }
   ],
   "source": [
    "import plotly.graph_objects as go\n",
    "\n",
    "coin_names = ['Bitcoin', 'Ethereum', 'Tether', 'BNB']\n",
    "\n",
    "dataframes = [bitcoin_df, ethereum_df, tether_df, bnb_df]\n",
    "\n",
    "fig = go.Figure()\n",
    "\n",
    "for dataframe in dataframes:\n",
    "    dataframe['date'] = pd.to_datetime(dataframe['date'])\n",
    "    dataframe.sort_values('date', inplace=True)\n",
    "    \n",
    "#add traces for each df\n",
    "for i, (dataframe, name) in enumerate(zip(dataframes, coin_names)):\n",
    "    fig.add_trace(go.Scatter(\n",
    "        x=dataframe['date'], \n",
    "        y=dataframe['sentiment'], \n",
    "        mode='lines+markers', \n",
    "        name=name,\n",
    "        marker=dict(size=8),\n",
    "        line=dict(width=2),\n",
    "        hoverinfo='text',\n",
    "        text=[f\"Date: {dataframe['date'].iloc[j].date()}<br>Title: {dataframe['title'].iloc[j]}<br>Sentiment: {dataframe['sentiment'].iloc[j]}\" for j in range(len(dataframe))]\n",
    "    ))\n",
    "\n",
    "fig.update_layout(\n",
    "    title='Sentiment Score of CyrptoCurrency posts on Reddit over 180 days (14/4 - 14/10)',\n",
    "    xaxis_title=\"Date\",\n",
    "    yaxis_title='Sentiment Score',\n",
    "    legend_title='Coins',\n",
    "    width=1200,\n",
    "    height=600,\n",
    "    template=\"plotly_dark\"\n",
    ")\n",
    "\n",
    "fig.show()\n",
    "\n",
    "# fig.write_html('./HTML/coin_sentiment_score.html')\n"
   ]
  },
  {
   "cell_type": "markdown",
   "metadata": {},
   "source": [
    "**Analysis**\n",
    "-"
   ]
  },
  {
   "cell_type": "code",
   "execution_count": null,
   "metadata": {},
   "outputs": [],
   "source": []
  }
 ],
 "metadata": {
  "kernelspec": {
   "display_name": "Python (Anaconda)",
   "language": "python",
   "name": "anaconda"
  },
  "language_info": {
   "codemirror_mode": {
    "name": "ipython",
    "version": 3
   },
   "file_extension": ".py",
   "mimetype": "text/x-python",
   "name": "python",
   "nbconvert_exporter": "python",
   "pygments_lexer": "ipython3",
   "version": "3.12.3"
  }
 },
 "nbformat": 4,
 "nbformat_minor": 2
}
