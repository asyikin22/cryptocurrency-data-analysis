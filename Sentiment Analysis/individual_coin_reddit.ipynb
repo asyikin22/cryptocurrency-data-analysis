{
 "cells": [
  {
   "cell_type": "markdown",
   "metadata": {},
   "source": [
    "**FETCH BITCOIN POSTS**"
   ]
  },
  {
   "cell_type": "code",
   "execution_count": 3,
   "metadata": {},
   "outputs": [
    {
     "name": "stdout",
     "output_type": "stream",
     "text": [
      "Total posts found: 35\n"
     ]
    }
   ],
   "source": [
    "import praw\n",
    "import os\n",
    "from dotenv import load_dotenv\n",
    "import datetime\n",
    "import pandas as pd\n",
    "\n",
    "#load env variables from .env file\n",
    "load_dotenv()\n",
    "\n",
    "reddit = praw.Reddit(\n",
    "    client_id = os.getenv(\"REDDIT_CLIENT_ID\"),\n",
    "    client_secret = os.getenv(\"REDDIT_CLIENT_SECRET\"),\n",
    "    user_agent = \"script:data_analysis:v1.0 (by /u/anon)\"\n",
    ")\n",
    "\n",
    "subreddit = reddit.subreddit(\"CryptoCurrency\")\n",
    "search_term = 'bitcoin'\n",
    "\n",
    "#define data\n",
    "start_date = datetime.datetime(2024, 4, 14)\n",
    "end_date = datetime.datetime(2024, 10, 14)\n",
    "\n",
    "#store crpto posts\n",
    "bitcoin_posts = []\n",
    "seen_ids = set()\n",
    "reddit_base_url = \"https://www.reddit.com\"\n",
    "\n",
    "for submission in subreddit.search(search_term, limit=1000):\n",
    "    try:\n",
    "        post_time = datetime.datetime.fromtimestamp(submission.created_utc)\n",
    "        if start_date <= post_time <= end_date and submission.id not in seen_ids:\n",
    "            seen_ids.add(submission.id)\n",
    "\n",
    "            if submission.num_comments > 0 or submission.score > 0:\n",
    "                bitcoin_posts.append({\n",
    "                    \"created\": post_time,\n",
    "                    \"title\": submission.title, \n",
    "                    \"score\": submission.score,\n",
    "                    \"num_comments\": submission.num_comments,\n",
    "                    \"url\": reddit_base_url + submission.permalink\n",
    "                })\n",
    "    except Exception as e:\n",
    "        print(f'error processing submission {submission.id}: {e}')\n",
    "    \n",
    "#convert fetched post to dataframe\n",
    "bitcoin_df = pd.DataFrame(bitcoin_posts)\n",
    "\n",
    "#split 'created' column into date and tme\n",
    "bitcoin_df['date'] = bitcoin_df['created'].dt.date\n",
    "\n",
    "print(f'Total posts found: {len(bitcoin_posts)}')\n",
    "\n",
    "# bitcoin_df.to_csv('bitcoin_reddit.csv', index=False, encoding='utf-16', sep='\\t')\n",
    "\n"
   ]
  },
  {
   "cell_type": "markdown",
   "metadata": {},
   "source": [
    "**FETCH ETHEREUM POSTS**"
   ]
  },
  {
   "cell_type": "code",
   "execution_count": 2,
   "metadata": {},
   "outputs": [
    {
     "name": "stdout",
     "output_type": "stream",
     "text": [
      "Total posts found: 29\n"
     ]
    }
   ],
   "source": [
    "subreddit = reddit.subreddit(\"CryptoCurrency\")\n",
    "search_term = 'ethereum'\n",
    "\n",
    "#define data\n",
    "start_date = datetime.datetime(2024, 4, 14)\n",
    "end_date = datetime.datetime(2024, 10, 14)\n",
    "\n",
    "#store crpto posts\n",
    "ethereum_posts = []\n",
    "seen_ids = set()\n",
    "reddit_base_url = \"https://www.reddit.com\"\n",
    "\n",
    "for submission in subreddit.search(search_term, limit=1000):\n",
    "    try:\n",
    "        post_time = datetime.datetime.fromtimestamp(submission.created_utc)\n",
    "        if start_date <= post_time <= end_date and submission.id not in seen_ids:\n",
    "            seen_ids.add(submission.id)\n",
    "\n",
    "            if submission.num_comments > 0 or submission.score > 0:\n",
    "                ethereum_posts.append({\n",
    "                    \"created\": post_time,\n",
    "                    \"title\": submission.title, \n",
    "                    \"score\": submission.score,\n",
    "                    \"num_comments\": submission.num_comments,\n",
    "                    \"url\": reddit_base_url + submission.permalink\n",
    "                })\n",
    "    except Exception as e:\n",
    "        print(f'error processing submission {submission.id}: {e}')\n",
    "    \n",
    "#convert fetched post to dataframe\n",
    "ethereum_df = pd.DataFrame(ethereum_posts)\n",
    "\n",
    "#split 'created' column into date and tme\n",
    "ethereum_df['date'] = ethereum_df['created'].dt.date\n",
    "\n",
    "print(f'Total posts found: {len(ethereum_posts)}')\n",
    "\n",
    "# ethereum_df.to_csv('ethereum_reddit.csv', index=False, encoding='utf-16', sep='\\t')\n",
    "\n"
   ]
  },
  {
   "cell_type": "markdown",
   "metadata": {},
   "source": [
    "**FETCH TETHER POST**"
   ]
  },
  {
   "cell_type": "code",
   "execution_count": 4,
   "metadata": {},
   "outputs": [
    {
     "name": "stdout",
     "output_type": "stream",
     "text": [
      "Total posts found: 42\n"
     ]
    }
   ],
   "source": [
    "subreddit = reddit.subreddit(\"CryptoCurrency\")\n",
    "search_term = 'tether'\n",
    "\n",
    "#define data\n",
    "start_date = datetime.datetime(2024, 4, 14)\n",
    "end_date = datetime.datetime(2024, 10, 14)\n",
    "\n",
    "#store crpto posts\n",
    "tether_posts = []\n",
    "seen_ids = set()\n",
    "reddit_base_url = \"https://www.reddit.com\"\n",
    "\n",
    "for submission in subreddit.search(search_term, limit=1000):\n",
    "    try:\n",
    "        post_time = datetime.datetime.fromtimestamp(submission.created_utc)\n",
    "        if start_date <= post_time <= end_date and submission.id not in seen_ids:\n",
    "            seen_ids.add(submission.id)\n",
    "\n",
    "            if submission.num_comments > 0 or submission.score > 0:\n",
    "                tether_posts.append({\n",
    "                    \"created\": post_time,\n",
    "                    \"title\": submission.title, \n",
    "                    \"score\": submission.score,\n",
    "                    \"num_comments\": submission.num_comments,\n",
    "                    \"url\": reddit_base_url + submission.permalink\n",
    "                })\n",
    "    except Exception as e:\n",
    "        print(f'error processing submission {submission.id}: {e}')\n",
    "    \n",
    "#convert fetched post to dataframe\n",
    "tether_df = pd.DataFrame(tether_posts)\n",
    "\n",
    "#split 'created' column into date and tme\n",
    "tether_df['date'] = tether_df['created'].dt.date\n",
    "\n",
    "print(f'Total posts found: {len(tether_posts)}')\n",
    "\n",
    "# tether_df.to_csv('tether_reddit.csv', index=False, encoding='utf-16', sep='\\t')\n",
    "\n"
   ]
  },
  {
   "cell_type": "markdown",
   "metadata": {},
   "source": [
    "**FETCH BNB POSTS**"
   ]
  },
  {
   "cell_type": "code",
   "execution_count": 5,
   "metadata": {},
   "outputs": [
    {
     "name": "stdout",
     "output_type": "stream",
     "text": [
      "Total posts found: 18\n"
     ]
    }
   ],
   "source": [
    "subreddit = reddit.subreddit(\"CryptoCurrency\")\n",
    "search_term = 'binance'\n",
    "\n",
    "#define data\n",
    "start_date = datetime.datetime(2024, 4, 14)\n",
    "end_date = datetime.datetime(2024, 10, 14)\n",
    "\n",
    "#store crpto posts\n",
    "bnb_posts = []\n",
    "seen_ids = set()\n",
    "reddit_base_url = \"https://www.reddit.com\"\n",
    "\n",
    "for submission in subreddit.search(search_term, limit=1000):\n",
    "    try:\n",
    "        post_time = datetime.datetime.fromtimestamp(submission.created_utc)\n",
    "        if start_date <= post_time <= end_date and submission.id not in seen_ids:\n",
    "            seen_ids.add(submission.id)\n",
    "\n",
    "            if submission.num_comments > 0 or submission.score > 0:\n",
    "                bnb_posts.append({\n",
    "                    \"created\": post_time,\n",
    "                    \"title\": submission.title, \n",
    "                    \"score\": submission.score,\n",
    "                    \"num_comments\": submission.num_comments,\n",
    "                    \"url\": reddit_base_url + submission.permalink\n",
    "                })\n",
    "    except Exception as e:\n",
    "        print(f'error processing submission {submission.id}: {e}')\n",
    "    \n",
    "#convert fetched post to dataframe\n",
    "bnb_df = pd.DataFrame(bnb_posts)\n",
    "\n",
    "#split 'created' column into date and tme\n",
    "bnb_df['date'] = bnb_df['created'].dt.date\n",
    "\n",
    "print(f'Total posts found: {len(bnb_posts)}')\n",
    "\n",
    "# bnb_df.to_csv('bnb_reddit.csv', index=False, encoding='utf-16', sep='\\t')\n",
    "\n"
   ]
  },
  {
   "cell_type": "code",
   "execution_count": null,
   "metadata": {},
   "outputs": [],
   "source": []
  },
  {
   "cell_type": "code",
   "execution_count": null,
   "metadata": {},
   "outputs": [],
   "source": []
  }
 ],
 "metadata": {
  "kernelspec": {
   "display_name": "Python (Anaconda)",
   "language": "python",
   "name": "anaconda"
  },
  "language_info": {
   "codemirror_mode": {
    "name": "ipython",
    "version": 3
   },
   "file_extension": ".py",
   "mimetype": "text/x-python",
   "name": "python",
   "nbconvert_exporter": "python",
   "pygments_lexer": "ipython3",
   "version": "3.12.3"
  }
 },
 "nbformat": 4,
 "nbformat_minor": 2
}
