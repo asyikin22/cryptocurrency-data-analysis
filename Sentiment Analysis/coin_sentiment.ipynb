{
 "cells": [
  {
   "cell_type": "code",
   "execution_count": 1,
   "metadata": {},
   "outputs": [
    {
     "data": {
      "text/html": [
       "<div>\n",
       "<style scoped>\n",
       "    .dataframe tbody tr th:only-of-type {\n",
       "        vertical-align: middle;\n",
       "    }\n",
       "\n",
       "    .dataframe tbody tr th {\n",
       "        vertical-align: top;\n",
       "    }\n",
       "\n",
       "    .dataframe thead th {\n",
       "        text-align: right;\n",
       "    }\n",
       "</style>\n",
       "<table border=\"1\" class=\"dataframe\">\n",
       "  <thead>\n",
       "    <tr style=\"text-align: right;\">\n",
       "      <th></th>\n",
       "      <th>created</th>\n",
       "      <th>title</th>\n",
       "      <th>score</th>\n",
       "      <th>num_comments</th>\n",
       "      <th>url</th>\n",
       "      <th>date</th>\n",
       "    </tr>\n",
       "  </thead>\n",
       "  <tbody>\n",
       "    <tr>\n",
       "      <th>0</th>\n",
       "      <td>2024-08-23 14:37:13</td>\n",
       "      <td>Man who begged everyone to buy just $1 of Bitc...</td>\n",
       "      <td>3249</td>\n",
       "      <td>328</td>\n",
       "      <td>https://www.reddit.com/r/CryptoCurrency/commen...</td>\n",
       "      <td>2024-08-23</td>\n",
       "    </tr>\n",
       "    <tr>\n",
       "      <th>1</th>\n",
       "      <td>2024-05-19 19:07:08</td>\n",
       "      <td>Elon bragging about his \"diamond hands,\" exact...</td>\n",
       "      <td>3733</td>\n",
       "      <td>438</td>\n",
       "      <td>https://www.reddit.com/r/CryptoCurrency/commen...</td>\n",
       "      <td>2024-05-19</td>\n",
       "    </tr>\n",
       "    <tr>\n",
       "      <th>2</th>\n",
       "      <td>2024-10-04 20:46:59</td>\n",
       "      <td>Mark Cuban saying he'd buy bananas over Bitcoi...</td>\n",
       "      <td>1411</td>\n",
       "      <td>536</td>\n",
       "      <td>https://www.reddit.com/r/CryptoCurrency/commen...</td>\n",
       "      <td>2024-10-04</td>\n",
       "    </tr>\n",
       "    <tr>\n",
       "      <th>3</th>\n",
       "      <td>2024-05-16 18:52:39</td>\n",
       "      <td>13 years ago today, a $110 million Bitcoin mis...</td>\n",
       "      <td>3688</td>\n",
       "      <td>270</td>\n",
       "      <td>https://www.reddit.com/r/CryptoCurrency/commen...</td>\n",
       "      <td>2024-05-16</td>\n",
       "    </tr>\n",
       "    <tr>\n",
       "      <th>4</th>\n",
       "      <td>2024-06-02 21:22:29</td>\n",
       "      <td>✨ 50 Cent accepting Bitcoin for his new album,...</td>\n",
       "      <td>2890</td>\n",
       "      <td>273</td>\n",
       "      <td>https://www.reddit.com/r/CryptoCurrency/commen...</td>\n",
       "      <td>2024-06-02</td>\n",
       "    </tr>\n",
       "  </tbody>\n",
       "</table>\n",
       "</div>"
      ],
      "text/plain": [
       "               created                                              title  \\\n",
       "0  2024-08-23 14:37:13  Man who begged everyone to buy just $1 of Bitc...   \n",
       "1  2024-05-19 19:07:08  Elon bragging about his \"diamond hands,\" exact...   \n",
       "2  2024-10-04 20:46:59  Mark Cuban saying he'd buy bananas over Bitcoi...   \n",
       "3  2024-05-16 18:52:39  13 years ago today, a $110 million Bitcoin mis...   \n",
       "4  2024-06-02 21:22:29  ✨ 50 Cent accepting Bitcoin for his new album,...   \n",
       "\n",
       "   score  num_comments                                                url  \\\n",
       "0   3249           328  https://www.reddit.com/r/CryptoCurrency/commen...   \n",
       "1   3733           438  https://www.reddit.com/r/CryptoCurrency/commen...   \n",
       "2   1411           536  https://www.reddit.com/r/CryptoCurrency/commen...   \n",
       "3   3688           270  https://www.reddit.com/r/CryptoCurrency/commen...   \n",
       "4   2890           273  https://www.reddit.com/r/CryptoCurrency/commen...   \n",
       "\n",
       "         date  \n",
       "0  2024-08-23  \n",
       "1  2024-05-19  \n",
       "2  2024-10-04  \n",
       "3  2024-05-16  \n",
       "4  2024-06-02  "
      ]
     },
     "execution_count": 1,
     "metadata": {},
     "output_type": "execute_result"
    }
   ],
   "source": [
    "import pandas as pd \n",
    "\n",
    "bitcoin_df = pd.read_csv('./individual coin/bitcoin_reddit.csv', delimiter='\\t', encoding='utf-16')\n",
    "bitcoin_df.head()"
   ]
  },
  {
   "cell_type": "code",
   "execution_count": 2,
   "metadata": {},
   "outputs": [
    {
     "data": {
      "text/html": [
       "<div>\n",
       "<style scoped>\n",
       "    .dataframe tbody tr th:only-of-type {\n",
       "        vertical-align: middle;\n",
       "    }\n",
       "\n",
       "    .dataframe tbody tr th {\n",
       "        vertical-align: top;\n",
       "    }\n",
       "\n",
       "    .dataframe thead th {\n",
       "        text-align: right;\n",
       "    }\n",
       "</style>\n",
       "<table border=\"1\" class=\"dataframe\">\n",
       "  <thead>\n",
       "    <tr style=\"text-align: right;\">\n",
       "      <th></th>\n",
       "      <th>created</th>\n",
       "      <th>title</th>\n",
       "      <th>score</th>\n",
       "      <th>num_comments</th>\n",
       "      <th>url</th>\n",
       "      <th>date</th>\n",
       "    </tr>\n",
       "  </thead>\n",
       "  <tbody>\n",
       "    <tr>\n",
       "      <th>0</th>\n",
       "      <td>2024-09-17 02:31:25</td>\n",
       "      <td>Ethereum falls to new 42-month low vs. Bitcoin...</td>\n",
       "      <td>146</td>\n",
       "      <td>109</td>\n",
       "      <td>https://www.reddit.com/r/CryptoCurrency/commen...</td>\n",
       "      <td>2024-09-17</td>\n",
       "    </tr>\n",
       "    <tr>\n",
       "      <th>1</th>\n",
       "      <td>2024-08-27 08:30:37</td>\n",
       "      <td>Can Ethereum regain momentum and outperform Bi...</td>\n",
       "      <td>42</td>\n",
       "      <td>57</td>\n",
       "      <td>https://www.reddit.com/r/CryptoCurrency/commen...</td>\n",
       "      <td>2024-08-27</td>\n",
       "    </tr>\n",
       "    <tr>\n",
       "      <th>2</th>\n",
       "      <td>2024-07-19 21:21:07</td>\n",
       "      <td>This outrage is insane, BUT, Ethereum and Bitc...</td>\n",
       "      <td>848</td>\n",
       "      <td>431</td>\n",
       "      <td>https://www.reddit.com/r/CryptoCurrency/commen...</td>\n",
       "      <td>2024-07-19</td>\n",
       "    </tr>\n",
       "    <tr>\n",
       "      <th>3</th>\n",
       "      <td>2024-05-24 05:12:17</td>\n",
       "      <td>Ethereum Spot ETFs Approved by SEC</td>\n",
       "      <td>956</td>\n",
       "      <td>315</td>\n",
       "      <td>https://www.reddit.com/r/CryptoCurrency/commen...</td>\n",
       "      <td>2024-05-24</td>\n",
       "    </tr>\n",
       "    <tr>\n",
       "      <th>4</th>\n",
       "      <td>2024-05-13 18:43:32</td>\n",
       "      <td>Ethereum Gas Prices Plummet 93% to Reach Rock-...</td>\n",
       "      <td>867</td>\n",
       "      <td>329</td>\n",
       "      <td>https://www.reddit.com/r/CryptoCurrency/commen...</td>\n",
       "      <td>2024-05-13</td>\n",
       "    </tr>\n",
       "  </tbody>\n",
       "</table>\n",
       "</div>"
      ],
      "text/plain": [
       "               created                                              title  \\\n",
       "0  2024-09-17 02:31:25  Ethereum falls to new 42-month low vs. Bitcoin...   \n",
       "1  2024-08-27 08:30:37  Can Ethereum regain momentum and outperform Bi...   \n",
       "2  2024-07-19 21:21:07  This outrage is insane, BUT, Ethereum and Bitc...   \n",
       "3  2024-05-24 05:12:17                 Ethereum Spot ETFs Approved by SEC   \n",
       "4  2024-05-13 18:43:32  Ethereum Gas Prices Plummet 93% to Reach Rock-...   \n",
       "\n",
       "   score  num_comments                                                url  \\\n",
       "0    146           109  https://www.reddit.com/r/CryptoCurrency/commen...   \n",
       "1     42            57  https://www.reddit.com/r/CryptoCurrency/commen...   \n",
       "2    848           431  https://www.reddit.com/r/CryptoCurrency/commen...   \n",
       "3    956           315  https://www.reddit.com/r/CryptoCurrency/commen...   \n",
       "4    867           329  https://www.reddit.com/r/CryptoCurrency/commen...   \n",
       "\n",
       "         date  \n",
       "0  2024-09-17  \n",
       "1  2024-08-27  \n",
       "2  2024-07-19  \n",
       "3  2024-05-24  \n",
       "4  2024-05-13  "
      ]
     },
     "execution_count": 2,
     "metadata": {},
     "output_type": "execute_result"
    }
   ],
   "source": [
    "ethereum_df = pd.read_csv('./individual coin/ethereum_reddit.csv', delimiter='\\t', encoding='utf-16')\n",
    "ethereum_df.head()"
   ]
  },
  {
   "cell_type": "code",
   "execution_count": 3,
   "metadata": {},
   "outputs": [
    {
     "data": {
      "text/html": [
       "<div>\n",
       "<style scoped>\n",
       "    .dataframe tbody tr th:only-of-type {\n",
       "        vertical-align: middle;\n",
       "    }\n",
       "\n",
       "    .dataframe tbody tr th {\n",
       "        vertical-align: top;\n",
       "    }\n",
       "\n",
       "    .dataframe thead th {\n",
       "        text-align: right;\n",
       "    }\n",
       "</style>\n",
       "<table border=\"1\" class=\"dataframe\">\n",
       "  <thead>\n",
       "    <tr style=\"text-align: right;\">\n",
       "      <th></th>\n",
       "      <th>created</th>\n",
       "      <th>title</th>\n",
       "      <th>score</th>\n",
       "      <th>num_comments</th>\n",
       "      <th>url</th>\n",
       "      <th>date</th>\n",
       "    </tr>\n",
       "  </thead>\n",
       "  <tbody>\n",
       "    <tr>\n",
       "      <th>0</th>\n",
       "      <td>2024-09-15 19:29:27</td>\n",
       "      <td>“Tether is a 118 Billion Dollar Scam; Bigger T...</td>\n",
       "      <td>416</td>\n",
       "      <td>187</td>\n",
       "      <td>https://www.reddit.com/r/CryptoCurrency/commen...</td>\n",
       "      <td>2024-09-15</td>\n",
       "    </tr>\n",
       "    <tr>\n",
       "      <th>1</th>\n",
       "      <td>2024-04-19 18:05:52</td>\n",
       "      <td>Why the Big Four apparently won’t audit Tether...</td>\n",
       "      <td>386</td>\n",
       "      <td>227</td>\n",
       "      <td>https://www.reddit.com/r/CryptoCurrency/commen...</td>\n",
       "      <td>2024-04-19</td>\n",
       "    </tr>\n",
       "    <tr>\n",
       "      <th>2</th>\n",
       "      <td>2024-04-21 11:26:52</td>\n",
       "      <td>If the Tether Treasury keeps on minting USDT l...</td>\n",
       "      <td>212</td>\n",
       "      <td>234</td>\n",
       "      <td>https://www.reddit.com/r/CryptoCurrency/commen...</td>\n",
       "      <td>2024-04-21</td>\n",
       "    </tr>\n",
       "    <tr>\n",
       "      <th>3</th>\n",
       "      <td>2024-09-11 20:18:22</td>\n",
       "      <td>Tether has achieved higher profits than BlackRock</td>\n",
       "      <td>149</td>\n",
       "      <td>112</td>\n",
       "      <td>https://www.reddit.com/r/CryptoCurrency/commen...</td>\n",
       "      <td>2024-09-11</td>\n",
       "    </tr>\n",
       "    <tr>\n",
       "      <th>4</th>\n",
       "      <td>2024-10-05 21:17:25</td>\n",
       "      <td>Coinbase to Delist Tether and Other Non-Compli...</td>\n",
       "      <td>188</td>\n",
       "      <td>54</td>\n",
       "      <td>https://www.reddit.com/r/CryptoCurrency/commen...</td>\n",
       "      <td>2024-10-05</td>\n",
       "    </tr>\n",
       "  </tbody>\n",
       "</table>\n",
       "</div>"
      ],
      "text/plain": [
       "               created                                              title  \\\n",
       "0  2024-09-15 19:29:27  “Tether is a 118 Billion Dollar Scam; Bigger T...   \n",
       "1  2024-04-19 18:05:52  Why the Big Four apparently won’t audit Tether...   \n",
       "2  2024-04-21 11:26:52  If the Tether Treasury keeps on minting USDT l...   \n",
       "3  2024-09-11 20:18:22  Tether has achieved higher profits than BlackRock   \n",
       "4  2024-10-05 21:17:25  Coinbase to Delist Tether and Other Non-Compli...   \n",
       "\n",
       "   score  num_comments                                                url  \\\n",
       "0    416           187  https://www.reddit.com/r/CryptoCurrency/commen...   \n",
       "1    386           227  https://www.reddit.com/r/CryptoCurrency/commen...   \n",
       "2    212           234  https://www.reddit.com/r/CryptoCurrency/commen...   \n",
       "3    149           112  https://www.reddit.com/r/CryptoCurrency/commen...   \n",
       "4    188            54  https://www.reddit.com/r/CryptoCurrency/commen...   \n",
       "\n",
       "         date  \n",
       "0  2024-09-15  \n",
       "1  2024-04-19  \n",
       "2  2024-04-21  \n",
       "3  2024-09-11  \n",
       "4  2024-10-05  "
      ]
     },
     "execution_count": 3,
     "metadata": {},
     "output_type": "execute_result"
    }
   ],
   "source": [
    "tether_df = pd.read_csv('./individual coin/tether_reddit.csv', delimiter='\\t', encoding='utf-16')\n",
    "tether_df.head()"
   ]
  },
  {
   "cell_type": "code",
   "execution_count": 4,
   "metadata": {},
   "outputs": [
    {
     "data": {
      "text/html": [
       "<div>\n",
       "<style scoped>\n",
       "    .dataframe tbody tr th:only-of-type {\n",
       "        vertical-align: middle;\n",
       "    }\n",
       "\n",
       "    .dataframe tbody tr th {\n",
       "        vertical-align: top;\n",
       "    }\n",
       "\n",
       "    .dataframe thead th {\n",
       "        text-align: right;\n",
       "    }\n",
       "</style>\n",
       "<table border=\"1\" class=\"dataframe\">\n",
       "  <thead>\n",
       "    <tr style=\"text-align: right;\">\n",
       "      <th></th>\n",
       "      <th>created</th>\n",
       "      <th>title</th>\n",
       "      <th>score</th>\n",
       "      <th>num_comments</th>\n",
       "      <th>url</th>\n",
       "      <th>date</th>\n",
       "    </tr>\n",
       "  </thead>\n",
       "  <tbody>\n",
       "    <tr>\n",
       "      <th>0</th>\n",
       "      <td>2024-08-28 07:54:05</td>\n",
       "      <td>Binance complies with Israeli request, seizes ...</td>\n",
       "      <td>1153</td>\n",
       "      <td>442</td>\n",
       "      <td>https://www.reddit.com/r/CryptoCurrency/commen...</td>\n",
       "      <td>2024-08-28</td>\n",
       "    </tr>\n",
       "    <tr>\n",
       "      <th>1</th>\n",
       "      <td>2024-09-27 07:07:02</td>\n",
       "      <td>The world's richest inmate is free. What will ...</td>\n",
       "      <td>1453</td>\n",
       "      <td>228</td>\n",
       "      <td>https://www.reddit.com/r/CryptoCurrency/commen...</td>\n",
       "      <td>2024-09-27</td>\n",
       "    </tr>\n",
       "    <tr>\n",
       "      <th>2</th>\n",
       "      <td>2024-10-07 19:27:32</td>\n",
       "      <td>Binance rejected 86% of requests by Israel to ...</td>\n",
       "      <td>816</td>\n",
       "      <td>178</td>\n",
       "      <td>https://www.reddit.com/r/CryptoCurrency/commen...</td>\n",
       "      <td>2024-10-07</td>\n",
       "    </tr>\n",
       "    <tr>\n",
       "      <th>3</th>\n",
       "      <td>2024-08-28 22:10:43</td>\n",
       "      <td>Binance seizes Palestinian funds at Israel's r...</td>\n",
       "      <td>548</td>\n",
       "      <td>246</td>\n",
       "      <td>https://www.reddit.com/r/CryptoCurrency/commen...</td>\n",
       "      <td>2024-08-28</td>\n",
       "    </tr>\n",
       "    <tr>\n",
       "      <th>4</th>\n",
       "      <td>2024-04-24 14:14:40</td>\n",
       "      <td>US seeks 36 months' jail for Binance founder Zhao</td>\n",
       "      <td>647</td>\n",
       "      <td>187</td>\n",
       "      <td>https://www.reddit.com/r/CryptoCurrency/commen...</td>\n",
       "      <td>2024-04-24</td>\n",
       "    </tr>\n",
       "  </tbody>\n",
       "</table>\n",
       "</div>"
      ],
      "text/plain": [
       "               created                                              title  \\\n",
       "0  2024-08-28 07:54:05  Binance complies with Israeli request, seizes ...   \n",
       "1  2024-09-27 07:07:02  The world's richest inmate is free. What will ...   \n",
       "2  2024-10-07 19:27:32  Binance rejected 86% of requests by Israel to ...   \n",
       "3  2024-08-28 22:10:43  Binance seizes Palestinian funds at Israel's r...   \n",
       "4  2024-04-24 14:14:40  US seeks 36 months' jail for Binance founder Zhao   \n",
       "\n",
       "   score  num_comments                                                url  \\\n",
       "0   1153           442  https://www.reddit.com/r/CryptoCurrency/commen...   \n",
       "1   1453           228  https://www.reddit.com/r/CryptoCurrency/commen...   \n",
       "2    816           178  https://www.reddit.com/r/CryptoCurrency/commen...   \n",
       "3    548           246  https://www.reddit.com/r/CryptoCurrency/commen...   \n",
       "4    647           187  https://www.reddit.com/r/CryptoCurrency/commen...   \n",
       "\n",
       "         date  \n",
       "0  2024-08-28  \n",
       "1  2024-09-27  \n",
       "2  2024-10-07  \n",
       "3  2024-08-28  \n",
       "4  2024-04-24  "
      ]
     },
     "execution_count": 4,
     "metadata": {},
     "output_type": "execute_result"
    }
   ],
   "source": [
    "bnb_df = pd.read_csv('./individual coin/bnb_reddit.csv', delimiter='\\t', encoding='utf-16')\n",
    "bnb_df.head()"
   ]
  },
  {
   "cell_type": "code",
   "execution_count": 6,
   "metadata": {},
   "outputs": [
    {
     "name": "stdout",
     "output_type": "stream",
     "text": [
      "Index(['created', 'title', 'score', 'num_comments', 'url', 'date'], dtype='object')\n",
      "<class 'pandas.core.frame.DataFrame'>\n",
      "RangeIndex: 35 entries, 0 to 34\n",
      "Data columns (total 6 columns):\n",
      " #   Column        Non-Null Count  Dtype \n",
      "---  ------        --------------  ----- \n",
      " 0   created       35 non-null     object\n",
      " 1   title         35 non-null     object\n",
      " 2   score         35 non-null     int64 \n",
      " 3   num_comments  35 non-null     int64 \n",
      " 4   url           35 non-null     object\n",
      " 5   date          35 non-null     object\n",
      "dtypes: int64(2), object(4)\n",
      "memory usage: 1.8+ KB\n",
      "None\n",
      "<class 'pandas.core.frame.DataFrame'>\n",
      "RangeIndex: 29 entries, 0 to 28\n",
      "Data columns (total 6 columns):\n",
      " #   Column        Non-Null Count  Dtype \n",
      "---  ------        --------------  ----- \n",
      " 0   created       29 non-null     object\n",
      " 1   title         29 non-null     object\n",
      " 2   score         29 non-null     int64 \n",
      " 3   num_comments  29 non-null     int64 \n",
      " 4   url           29 non-null     object\n",
      " 5   date          29 non-null     object\n",
      "dtypes: int64(2), object(4)\n",
      "memory usage: 1.5+ KB\n",
      "None\n",
      "<class 'pandas.core.frame.DataFrame'>\n",
      "RangeIndex: 42 entries, 0 to 41\n",
      "Data columns (total 6 columns):\n",
      " #   Column        Non-Null Count  Dtype \n",
      "---  ------        --------------  ----- \n",
      " 0   created       42 non-null     object\n",
      " 1   title         42 non-null     object\n",
      " 2   score         42 non-null     int64 \n",
      " 3   num_comments  42 non-null     int64 \n",
      " 4   url           42 non-null     object\n",
      " 5   date          42 non-null     object\n",
      "dtypes: int64(2), object(4)\n",
      "memory usage: 2.1+ KB\n",
      "None\n",
      "<class 'pandas.core.frame.DataFrame'>\n",
      "RangeIndex: 18 entries, 0 to 17\n",
      "Data columns (total 6 columns):\n",
      " #   Column        Non-Null Count  Dtype \n",
      "---  ------        --------------  ----- \n",
      " 0   created       18 non-null     object\n",
      " 1   title         18 non-null     object\n",
      " 2   score         18 non-null     int64 \n",
      " 3   num_comments  18 non-null     int64 \n",
      " 4   url           18 non-null     object\n",
      " 5   date          18 non-null     object\n",
      "dtypes: int64(2), object(4)\n",
      "memory usage: 996.0+ bytes\n",
      "None\n"
     ]
    }
   ],
   "source": [
    "print(bitcoin_df.columns)\n",
    "print(bitcoin_df.info())\n",
    "print(ethereum_df.info())\n",
    "print(tether_df.info())\n",
    "print(bnb_df.info())"
   ]
  },
  {
   "cell_type": "markdown",
   "metadata": {},
   "source": [
    "# VADER ANALYSIS\n"
   ]
  },
  {
   "cell_type": "code",
   "execution_count": 8,
   "metadata": {},
   "outputs": [
    {
     "data": {
      "text/html": [
       "<div>\n",
       "<style scoped>\n",
       "    .dataframe tbody tr th:only-of-type {\n",
       "        vertical-align: middle;\n",
       "    }\n",
       "\n",
       "    .dataframe tbody tr th {\n",
       "        vertical-align: top;\n",
       "    }\n",
       "\n",
       "    .dataframe thead th {\n",
       "        text-align: right;\n",
       "    }\n",
       "</style>\n",
       "<table border=\"1\" class=\"dataframe\">\n",
       "  <thead>\n",
       "    <tr style=\"text-align: right;\">\n",
       "      <th></th>\n",
       "      <th>created</th>\n",
       "      <th>title</th>\n",
       "      <th>score</th>\n",
       "      <th>num_comments</th>\n",
       "      <th>url</th>\n",
       "      <th>date</th>\n",
       "      <th>sentiment</th>\n",
       "    </tr>\n",
       "  </thead>\n",
       "  <tbody>\n",
       "    <tr>\n",
       "      <th>0</th>\n",
       "      <td>2024-08-23 14:37:13</td>\n",
       "      <td>Man who begged everyone to buy just $1 of Bitc...</td>\n",
       "      <td>3249</td>\n",
       "      <td>328</td>\n",
       "      <td>https://www.reddit.com/r/CryptoCurrency/commen...</td>\n",
       "      <td>2024-08-23</td>\n",
       "      <td>0.3612</td>\n",
       "    </tr>\n",
       "    <tr>\n",
       "      <th>1</th>\n",
       "      <td>2024-05-19 19:07:08</td>\n",
       "      <td>Elon bragging about his \"diamond hands,\" exact...</td>\n",
       "      <td>3733</td>\n",
       "      <td>438</td>\n",
       "      <td>https://www.reddit.com/r/CryptoCurrency/commen...</td>\n",
       "      <td>2024-05-19</td>\n",
       "      <td>0.5106</td>\n",
       "    </tr>\n",
       "    <tr>\n",
       "      <th>2</th>\n",
       "      <td>2024-10-04 20:46:59</td>\n",
       "      <td>Mark Cuban saying he'd buy bananas over Bitcoi...</td>\n",
       "      <td>1411</td>\n",
       "      <td>536</td>\n",
       "      <td>https://www.reddit.com/r/CryptoCurrency/commen...</td>\n",
       "      <td>2024-10-04</td>\n",
       "      <td>0.0000</td>\n",
       "    </tr>\n",
       "  </tbody>\n",
       "</table>\n",
       "</div>"
      ],
      "text/plain": [
       "               created                                              title  \\\n",
       "0  2024-08-23 14:37:13  Man who begged everyone to buy just $1 of Bitc...   \n",
       "1  2024-05-19 19:07:08  Elon bragging about his \"diamond hands,\" exact...   \n",
       "2  2024-10-04 20:46:59  Mark Cuban saying he'd buy bananas over Bitcoi...   \n",
       "\n",
       "   score  num_comments                                                url  \\\n",
       "0   3249           328  https://www.reddit.com/r/CryptoCurrency/commen...   \n",
       "1   3733           438  https://www.reddit.com/r/CryptoCurrency/commen...   \n",
       "2   1411           536  https://www.reddit.com/r/CryptoCurrency/commen...   \n",
       "\n",
       "         date  sentiment  \n",
       "0  2024-08-23     0.3612  \n",
       "1  2024-05-19     0.5106  \n",
       "2  2024-10-04     0.0000  "
      ]
     },
     "execution_count": 8,
     "metadata": {},
     "output_type": "execute_result"
    }
   ],
   "source": [
    "import pandas as pd\n",
    "from nltk.sentiment.vader import SentimentIntensityAnalyzer\n",
    "import nltk\n",
    "\n",
    "sid = SentimentIntensityAnalyzer()\n",
    "\n",
    "bitcoin_df['sentiment'] = bitcoin_df['title'].apply(lambda title: sid.polarity_scores(title)['compound'])\n",
    "\n",
    "bitcoin_df.head(3)"
   ]
  },
  {
   "cell_type": "markdown",
   "metadata": {},
   "source": []
  },
  {
   "cell_type": "code",
   "execution_count": 9,
   "metadata": {},
   "outputs": [
    {
     "data": {
      "text/html": [
       "<div>\n",
       "<style scoped>\n",
       "    .dataframe tbody tr th:only-of-type {\n",
       "        vertical-align: middle;\n",
       "    }\n",
       "\n",
       "    .dataframe tbody tr th {\n",
       "        vertical-align: top;\n",
       "    }\n",
       "\n",
       "    .dataframe thead th {\n",
       "        text-align: right;\n",
       "    }\n",
       "</style>\n",
       "<table border=\"1\" class=\"dataframe\">\n",
       "  <thead>\n",
       "    <tr style=\"text-align: right;\">\n",
       "      <th></th>\n",
       "      <th>created</th>\n",
       "      <th>title</th>\n",
       "      <th>score</th>\n",
       "      <th>num_comments</th>\n",
       "      <th>url</th>\n",
       "      <th>date</th>\n",
       "      <th>sentiment</th>\n",
       "    </tr>\n",
       "  </thead>\n",
       "  <tbody>\n",
       "    <tr>\n",
       "      <th>0</th>\n",
       "      <td>2024-09-17 02:31:25</td>\n",
       "      <td>Ethereum falls to new 42-month low vs. Bitcoin...</td>\n",
       "      <td>146</td>\n",
       "      <td>109</td>\n",
       "      <td>https://www.reddit.com/r/CryptoCurrency/commen...</td>\n",
       "      <td>2024-09-17</td>\n",
       "      <td>-0.6901</td>\n",
       "    </tr>\n",
       "    <tr>\n",
       "      <th>1</th>\n",
       "      <td>2024-08-27 08:30:37</td>\n",
       "      <td>Can Ethereum regain momentum and outperform Bi...</td>\n",
       "      <td>42</td>\n",
       "      <td>57</td>\n",
       "      <td>https://www.reddit.com/r/CryptoCurrency/commen...</td>\n",
       "      <td>2024-08-27</td>\n",
       "      <td>0.0000</td>\n",
       "    </tr>\n",
       "    <tr>\n",
       "      <th>2</th>\n",
       "      <td>2024-07-19 21:21:07</td>\n",
       "      <td>This outrage is insane, BUT, Ethereum and Bitc...</td>\n",
       "      <td>848</td>\n",
       "      <td>431</td>\n",
       "      <td>https://www.reddit.com/r/CryptoCurrency/commen...</td>\n",
       "      <td>2024-07-19</td>\n",
       "      <td>-0.4588</td>\n",
       "    </tr>\n",
       "    <tr>\n",
       "      <th>3</th>\n",
       "      <td>2024-05-24 05:12:17</td>\n",
       "      <td>Ethereum Spot ETFs Approved by SEC</td>\n",
       "      <td>956</td>\n",
       "      <td>315</td>\n",
       "      <td>https://www.reddit.com/r/CryptoCurrency/commen...</td>\n",
       "      <td>2024-05-24</td>\n",
       "      <td>0.4215</td>\n",
       "    </tr>\n",
       "    <tr>\n",
       "      <th>4</th>\n",
       "      <td>2024-05-13 18:43:32</td>\n",
       "      <td>Ethereum Gas Prices Plummet 93% to Reach Rock-...</td>\n",
       "      <td>867</td>\n",
       "      <td>329</td>\n",
       "      <td>https://www.reddit.com/r/CryptoCurrency/commen...</td>\n",
       "      <td>2024-05-13</td>\n",
       "      <td>0.0258</td>\n",
       "    </tr>\n",
       "  </tbody>\n",
       "</table>\n",
       "</div>"
      ],
      "text/plain": [
       "               created                                              title  \\\n",
       "0  2024-09-17 02:31:25  Ethereum falls to new 42-month low vs. Bitcoin...   \n",
       "1  2024-08-27 08:30:37  Can Ethereum regain momentum and outperform Bi...   \n",
       "2  2024-07-19 21:21:07  This outrage is insane, BUT, Ethereum and Bitc...   \n",
       "3  2024-05-24 05:12:17                 Ethereum Spot ETFs Approved by SEC   \n",
       "4  2024-05-13 18:43:32  Ethereum Gas Prices Plummet 93% to Reach Rock-...   \n",
       "\n",
       "   score  num_comments                                                url  \\\n",
       "0    146           109  https://www.reddit.com/r/CryptoCurrency/commen...   \n",
       "1     42            57  https://www.reddit.com/r/CryptoCurrency/commen...   \n",
       "2    848           431  https://www.reddit.com/r/CryptoCurrency/commen...   \n",
       "3    956           315  https://www.reddit.com/r/CryptoCurrency/commen...   \n",
       "4    867           329  https://www.reddit.com/r/CryptoCurrency/commen...   \n",
       "\n",
       "         date  sentiment  \n",
       "0  2024-09-17    -0.6901  \n",
       "1  2024-08-27     0.0000  \n",
       "2  2024-07-19    -0.4588  \n",
       "3  2024-05-24     0.4215  \n",
       "4  2024-05-13     0.0258  "
      ]
     },
     "execution_count": 9,
     "metadata": {},
     "output_type": "execute_result"
    }
   ],
   "source": [
    "ethereum_df['sentiment'] = ethereum_df['title'].apply(lambda title: sid.polarity_scores(title)['compound'])\n",
    "\n",
    "ethereum_df.head()"
   ]
  },
  {
   "cell_type": "code",
   "execution_count": 10,
   "metadata": {},
   "outputs": [
    {
     "data": {
      "text/html": [
       "<div>\n",
       "<style scoped>\n",
       "    .dataframe tbody tr th:only-of-type {\n",
       "        vertical-align: middle;\n",
       "    }\n",
       "\n",
       "    .dataframe tbody tr th {\n",
       "        vertical-align: top;\n",
       "    }\n",
       "\n",
       "    .dataframe thead th {\n",
       "        text-align: right;\n",
       "    }\n",
       "</style>\n",
       "<table border=\"1\" class=\"dataframe\">\n",
       "  <thead>\n",
       "    <tr style=\"text-align: right;\">\n",
       "      <th></th>\n",
       "      <th>created</th>\n",
       "      <th>title</th>\n",
       "      <th>score</th>\n",
       "      <th>num_comments</th>\n",
       "      <th>url</th>\n",
       "      <th>date</th>\n",
       "      <th>sentiment</th>\n",
       "    </tr>\n",
       "  </thead>\n",
       "  <tbody>\n",
       "    <tr>\n",
       "      <th>0</th>\n",
       "      <td>2024-09-15 19:29:27</td>\n",
       "      <td>“Tether is a 118 Billion Dollar Scam; Bigger T...</td>\n",
       "      <td>416</td>\n",
       "      <td>187</td>\n",
       "      <td>https://www.reddit.com/r/CryptoCurrency/commen...</td>\n",
       "      <td>2024-09-15</td>\n",
       "      <td>-0.5719</td>\n",
       "    </tr>\n",
       "    <tr>\n",
       "      <th>1</th>\n",
       "      <td>2024-04-19 18:05:52</td>\n",
       "      <td>Why the Big Four apparently won’t audit Tether...</td>\n",
       "      <td>386</td>\n",
       "      <td>227</td>\n",
       "      <td>https://www.reddit.com/r/CryptoCurrency/commen...</td>\n",
       "      <td>2024-04-19</td>\n",
       "      <td>0.0000</td>\n",
       "    </tr>\n",
       "    <tr>\n",
       "      <th>2</th>\n",
       "      <td>2024-04-21 11:26:52</td>\n",
       "      <td>If the Tether Treasury keeps on minting USDT l...</td>\n",
       "      <td>212</td>\n",
       "      <td>234</td>\n",
       "      <td>https://www.reddit.com/r/CryptoCurrency/commen...</td>\n",
       "      <td>2024-04-21</td>\n",
       "      <td>0.7319</td>\n",
       "    </tr>\n",
       "    <tr>\n",
       "      <th>3</th>\n",
       "      <td>2024-09-11 20:18:22</td>\n",
       "      <td>Tether has achieved higher profits than BlackRock</td>\n",
       "      <td>149</td>\n",
       "      <td>112</td>\n",
       "      <td>https://www.reddit.com/r/CryptoCurrency/commen...</td>\n",
       "      <td>2024-09-11</td>\n",
       "      <td>0.4404</td>\n",
       "    </tr>\n",
       "    <tr>\n",
       "      <th>4</th>\n",
       "      <td>2024-10-05 21:17:25</td>\n",
       "      <td>Coinbase to Delist Tether and Other Non-Compli...</td>\n",
       "      <td>188</td>\n",
       "      <td>54</td>\n",
       "      <td>https://www.reddit.com/r/CryptoCurrency/commen...</td>\n",
       "      <td>2024-10-05</td>\n",
       "      <td>0.0000</td>\n",
       "    </tr>\n",
       "  </tbody>\n",
       "</table>\n",
       "</div>"
      ],
      "text/plain": [
       "               created                                              title  \\\n",
       "0  2024-09-15 19:29:27  “Tether is a 118 Billion Dollar Scam; Bigger T...   \n",
       "1  2024-04-19 18:05:52  Why the Big Four apparently won’t audit Tether...   \n",
       "2  2024-04-21 11:26:52  If the Tether Treasury keeps on minting USDT l...   \n",
       "3  2024-09-11 20:18:22  Tether has achieved higher profits than BlackRock   \n",
       "4  2024-10-05 21:17:25  Coinbase to Delist Tether and Other Non-Compli...   \n",
       "\n",
       "   score  num_comments                                                url  \\\n",
       "0    416           187  https://www.reddit.com/r/CryptoCurrency/commen...   \n",
       "1    386           227  https://www.reddit.com/r/CryptoCurrency/commen...   \n",
       "2    212           234  https://www.reddit.com/r/CryptoCurrency/commen...   \n",
       "3    149           112  https://www.reddit.com/r/CryptoCurrency/commen...   \n",
       "4    188            54  https://www.reddit.com/r/CryptoCurrency/commen...   \n",
       "\n",
       "         date  sentiment  \n",
       "0  2024-09-15    -0.5719  \n",
       "1  2024-04-19     0.0000  \n",
       "2  2024-04-21     0.7319  \n",
       "3  2024-09-11     0.4404  \n",
       "4  2024-10-05     0.0000  "
      ]
     },
     "execution_count": 10,
     "metadata": {},
     "output_type": "execute_result"
    }
   ],
   "source": [
    "tether_df['sentiment'] = tether_df['title'].apply(lambda title: sid.polarity_scores(title)['compound'])\n",
    "\n",
    "tether_df.head()"
   ]
  },
  {
   "cell_type": "code",
   "execution_count": 11,
   "metadata": {},
   "outputs": [
    {
     "data": {
      "text/html": [
       "<div>\n",
       "<style scoped>\n",
       "    .dataframe tbody tr th:only-of-type {\n",
       "        vertical-align: middle;\n",
       "    }\n",
       "\n",
       "    .dataframe tbody tr th {\n",
       "        vertical-align: top;\n",
       "    }\n",
       "\n",
       "    .dataframe thead th {\n",
       "        text-align: right;\n",
       "    }\n",
       "</style>\n",
       "<table border=\"1\" class=\"dataframe\">\n",
       "  <thead>\n",
       "    <tr style=\"text-align: right;\">\n",
       "      <th></th>\n",
       "      <th>created</th>\n",
       "      <th>title</th>\n",
       "      <th>score</th>\n",
       "      <th>num_comments</th>\n",
       "      <th>url</th>\n",
       "      <th>date</th>\n",
       "      <th>sentiment</th>\n",
       "    </tr>\n",
       "  </thead>\n",
       "  <tbody>\n",
       "    <tr>\n",
       "      <th>0</th>\n",
       "      <td>2024-08-28 07:54:05</td>\n",
       "      <td>Binance complies with Israeli request, seizes ...</td>\n",
       "      <td>1153</td>\n",
       "      <td>442</td>\n",
       "      <td>https://www.reddit.com/r/CryptoCurrency/commen...</td>\n",
       "      <td>2024-08-28</td>\n",
       "      <td>0.0000</td>\n",
       "    </tr>\n",
       "    <tr>\n",
       "      <th>1</th>\n",
       "      <td>2024-09-27 07:07:02</td>\n",
       "      <td>The world's richest inmate is free. What will ...</td>\n",
       "      <td>1453</td>\n",
       "      <td>228</td>\n",
       "      <td>https://www.reddit.com/r/CryptoCurrency/commen...</td>\n",
       "      <td>2024-09-27</td>\n",
       "      <td>0.7717</td>\n",
       "    </tr>\n",
       "    <tr>\n",
       "      <th>2</th>\n",
       "      <td>2024-10-07 19:27:32</td>\n",
       "      <td>Binance rejected 86% of requests by Israel to ...</td>\n",
       "      <td>816</td>\n",
       "      <td>178</td>\n",
       "      <td>https://www.reddit.com/r/CryptoCurrency/commen...</td>\n",
       "      <td>2024-10-07</td>\n",
       "      <td>-0.4767</td>\n",
       "    </tr>\n",
       "    <tr>\n",
       "      <th>3</th>\n",
       "      <td>2024-08-28 22:10:43</td>\n",
       "      <td>Binance seizes Palestinian funds at Israel's r...</td>\n",
       "      <td>548</td>\n",
       "      <td>246</td>\n",
       "      <td>https://www.reddit.com/r/CryptoCurrency/commen...</td>\n",
       "      <td>2024-08-28</td>\n",
       "      <td>0.0000</td>\n",
       "    </tr>\n",
       "    <tr>\n",
       "      <th>4</th>\n",
       "      <td>2024-04-24 14:14:40</td>\n",
       "      <td>US seeks 36 months' jail for Binance founder Zhao</td>\n",
       "      <td>647</td>\n",
       "      <td>187</td>\n",
       "      <td>https://www.reddit.com/r/CryptoCurrency/commen...</td>\n",
       "      <td>2024-04-24</td>\n",
       "      <td>0.0000</td>\n",
       "    </tr>\n",
       "  </tbody>\n",
       "</table>\n",
       "</div>"
      ],
      "text/plain": [
       "               created                                              title  \\\n",
       "0  2024-08-28 07:54:05  Binance complies with Israeli request, seizes ...   \n",
       "1  2024-09-27 07:07:02  The world's richest inmate is free. What will ...   \n",
       "2  2024-10-07 19:27:32  Binance rejected 86% of requests by Israel to ...   \n",
       "3  2024-08-28 22:10:43  Binance seizes Palestinian funds at Israel's r...   \n",
       "4  2024-04-24 14:14:40  US seeks 36 months' jail for Binance founder Zhao   \n",
       "\n",
       "   score  num_comments                                                url  \\\n",
       "0   1153           442  https://www.reddit.com/r/CryptoCurrency/commen...   \n",
       "1   1453           228  https://www.reddit.com/r/CryptoCurrency/commen...   \n",
       "2    816           178  https://www.reddit.com/r/CryptoCurrency/commen...   \n",
       "3    548           246  https://www.reddit.com/r/CryptoCurrency/commen...   \n",
       "4    647           187  https://www.reddit.com/r/CryptoCurrency/commen...   \n",
       "\n",
       "         date  sentiment  \n",
       "0  2024-08-28     0.0000  \n",
       "1  2024-09-27     0.7717  \n",
       "2  2024-10-07    -0.4767  \n",
       "3  2024-08-28     0.0000  \n",
       "4  2024-04-24     0.0000  "
      ]
     },
     "execution_count": 11,
     "metadata": {},
     "output_type": "execute_result"
    }
   ],
   "source": [
    "bnb_df['sentiment'] = bnb_df['title'].apply(lambda title: sid.polarity_scores(title)['compound'])\n",
    "\n",
    "bnb_df.head()"
   ]
  },
  {
   "cell_type": "code",
   "execution_count": 12,
   "metadata": {},
   "outputs": [
    {
     "data": {
      "text/plain": [
       "Index(['created', 'title', 'score', 'num_comments', 'url', 'date',\n",
       "       'sentiment'],\n",
       "      dtype='object')"
      ]
     },
     "execution_count": 12,
     "metadata": {},
     "output_type": "execute_result"
    }
   ],
   "source": [
    "bitcoin_df.columns"
   ]
  },
  {
   "cell_type": "code",
   "execution_count": 26,
   "metadata": {},
   "outputs": [
    {
     "data": {
      "application/vnd.plotly.v1+json": {
       "config": {
        "plotlyServerURL": "https://plot.ly"
       },
       "data": [
        {
         "hoverinfo": "text",
         "line": {
          "width": 2
         },
         "marker": {
          "size": 8
         },
         "mode": "lines+markers",
         "name": "Bitcoin",
         "text": [
          "Crypto Markets Suffer a $400 Billion Loss Amid Bitcoin's $10k Decline in 48 Hours -0.7003",
          "Kraken Bitcoin Halving Giveaway Competition 0.0",
          "Bitcoin completes its fourth halving, block rewards now stand at 3.125 BTC 0.0516",
          "eXch Bitcoin Post-Halving Giveaway Competition 0.0",
          "✨ 2 years ago today, this legend dropped one of the most iconic Reddit posts about Bitcoin. 0.0",
          "13 years ago today, a $110 million Bitcoin mistake ✨ -0.34",
          "Elon bragging about his \"diamond hands,\" exactly 3 years ago. He's since sold $2 billion worth of Bitcoin 💀 0.5106",
          "Bitcoin price: $8. Legend 🔥 0.0",
          "✨ 50 Cent accepting Bitcoin for his new album, 10 years ago in 2014. He earned 700 BTC ‼️ 0.3818",
          "✨ Apple co-founder on what makes Bitcoin truly unique at $7k in 2018 0.4404",
          "In a Bizarre Statement, Trump Says Bitcoin Should Only be Mined in the US -0.3182",
          "Bitcoin whale donates 8 BTC to Julian Assange, covers private jet costs  0.0",
          "This outrage is insane, BUT, Ethereum and Bitcoin are still... working. -0.4588",
          "Kamala Harris 'Will Not Be Speaking' at Bitcoin Conference: CEO - Decrypt 0.0",
          "RFK Jr. says he stores 'most' of his millions in Bitcoin 0.0",
          "Edward Snowden Tells Bitcoin Fans to Vote—But ‘Don’t Join a Cult’ - Decrypt 0.296",
          "Bitcoin dips to $53K after Bank of Japan’s rate hike, Ether follows drop as global market panic ensues -0.6597",
          "Read JD Vance's financial disclosure, which includes at least $4 million in total assets and $250,000 in bitcoin 0.1779",
          "14 years ago there was a website (faucet) that gave 5 Bitcoins to visitors 0.0",
          "Man who begged everyone to buy just $1 of Bitcoin in 2013 revealed what his life looks like now 0.3612",
          "El Salvador's $135M Bitcoin bet now worth $400M—President Bukele says we have done well 0.4588",
          "Crypto market enters ‘extreme fear’ as analysts warn of Bitcoin below $50K -0.1027",
          "MicroStrategy's Michael Saylor Predicts Bitcoin Price Will Rise to $13 Million 0.0",
          "Bitcoin could soon hit six figures regardless of who wins U.S. election, investors say 0.5719",
          "‘Shock And Awe’—China Could Be About To Trigger A $1.4 Trillion Bitcoin And Crypto Price Earthquake 0.0",
          "Residents of a Norwegian town complained about a Bitcoin mine's noise; now that it’s shut down, they face a 20% energy bill hike -0.1531",
          "Rare photo of an early Bitcoin order book, taken exactly 13 years ago. 25 BTC cost $100 ✨\n 0.0",
          "MicroStrategy buys Bitcoin worth $458m, total holdings hit 252,220 BTC 0.2263",
          "Ancient Bitcoin Addresses Abruptly Wake Up After Lying Low Since 2009, Move 250 BTC at 8,000,000,000%+ Profit - The Daily Hodl -0.3818",
          "A ‘Rapid Pace’ $100,000 Bitcoin Price Earthquake Is Suddenly Predicted To Shock Crypto -0.3818",
          "Bitcoin Surges 7.3% in September, Marking Its Biggest Gain in 11 Years 0.5267",
          "How to Invest in Bitcoin - Proper Way vs Our Way 0.0",
          "Mark Cuban saying he'd buy bananas over Bitcoin, 5 years ago. Bitcoin is up 6x since 💀 0.0",
          "Supreme Court Allows the US to Sell 69,370 Seized Silk Road Bitcoin 0.5574",
          "‘I'm Not Satoshi’: HBO Documentary Money Electric Misfires on Bitcoin Creator Reveal - Decrypt 0.0"
         ],
         "type": "scatter",
         "x": [
          "2024-04-14T00:00:00",
          "2024-04-17T00:00:00",
          "2024-04-20T00:00:00",
          "2024-04-26T00:00:00",
          "2024-05-12T00:00:00",
          "2024-05-16T00:00:00",
          "2024-05-19T00:00:00",
          "2024-05-29T00:00:00",
          "2024-06-02T00:00:00",
          "2024-06-03T00:00:00",
          "2024-06-12T00:00:00",
          "2024-06-27T00:00:00",
          "2024-07-19T00:00:00",
          "2024-07-25T00:00:00",
          "2024-07-27T00:00:00",
          "2024-07-27T00:00:00",
          "2024-08-05T00:00:00",
          "2024-08-14T00:00:00",
          "2024-08-23T00:00:00",
          "2024-08-23T00:00:00",
          "2024-08-30T00:00:00",
          "2024-09-07T00:00:00",
          "2024-09-10T00:00:00",
          "2024-09-12T00:00:00",
          "2024-09-15T00:00:00",
          "2024-09-16T00:00:00",
          "2024-09-19T00:00:00",
          "2024-09-20T00:00:00",
          "2024-09-22T00:00:00",
          "2024-09-28T00:00:00",
          "2024-10-01T00:00:00",
          "2024-10-02T00:00:00",
          "2024-10-04T00:00:00",
          "2024-10-08T00:00:00",
          "2024-10-09T00:00:00"
         ],
         "y": [
          -0.7003,
          0,
          0.0516,
          0,
          0,
          -0.34,
          0.5106,
          0,
          0.3818,
          0.4404,
          -0.3182,
          0,
          -0.4588,
          0,
          0,
          0.296,
          -0.6597,
          0.1779,
          0,
          0.3612,
          0.4588,
          -0.1027,
          0,
          0.5719,
          0,
          -0.1531,
          0,
          0.2263,
          -0.3818,
          -0.3818,
          0.5267,
          0,
          0,
          0.5574,
          0
         ]
        },
        {
         "hoverinfo": "text",
         "line": {
          "width": 2
         },
         "marker": {
          "size": 8
         },
         "mode": "lines+markers",
         "name": "Ethereum",
         "text": [
          "SEC considers Ethereum unregistered security for at least a year: FOX Business 0.34",
          "Ethereum drops below $3k as liquidations hit $320 million 0.0",
          "SEC will classify ETH as security and reject spot Ethereum ETFs, says Michael Saylor -0.0772",
          "Ethereum Gas Prices Plummet 93% to Reach Rock-Bottom Levels 0.0258",
          "Visa, Mastercard, JPMorgan And Citi Reveal Game-Changing Crypto Plan For ‘Mass Institutional Adoption’ After Bitcoin, Ethereum And XRP Price Pump 0.0",
          "Former CEO of MicroStrategy, Michael Saylor, believes that the SEC will classify Ethereum as a security this summer and reject the corresponding applications for spot ETFs. In his opinion, only BTC has full institutional recognition, calling it the “only universal” institutional-level crypto asset 0.296",
          "Ethereum Spot ETFs Approved by SEC 0.4215",
          "Ethereum Nears Critical $4,200 Resistance: Will ETH Surge to a New ATH Soon? -0.3182",
          "All the meme coins moving to Solana is a good thing for Ethereum 0.4404",
          "Altseason incoming? Ethereum reclaims key trend line against Bitcoin 0.0",
          "Kraken Witnesses Largest Bitcoin and Ethereum Outflows Since 2017: What's Behind the Trend? 0.0",
          "VanEck Predicts Ethereum Price to Hit $22,000 by 2030 0.0",
          "Biggest Bank in the World Says Ethereum Is ‘Digital Oil,’ Bitcoin ‘Digital Gold’: Report 0.0",
          "The SEC closes investigation into Ethereum 2.0, no securities charges against ETH: Consensys -0.2732",
          "\"It will soon be confirmed that Ethereum is not a security\": Galaxy 0.0",
          "Ethereum’s supply has been inflating for 73 days straight 0.2263",
          "Ethereum ETFs to launch July 23, Bloomberg analyst says 0.0",
          "This outrage is insane, BUT, Ethereum and Bitcoin are still... working. -0.4588",
          "BlackRock's spot Ethereum ETF begins pre-market trading 0.0",
          "Blackrock foresees “very little interest” in crypto ETFs beyond Bitcoin, Ethereum  0.0",
          "2025 Bull Run: Analyst Predicts Bitcoin at $250K, Ethereum at $15K 0.0",
          "Ethereum Can't Keep Up With Bitcoin Or Solana: What's Going On? - Decrypt 0.0",
          "Sony is launching an Ethereum L2 called Soneium to 'realize the open internet' 0.0",
          "Ethereum Foundation Criticized for Lack of Transparency in $100 Million Kraken Transfer -0.5859",
          "Can Ethereum regain momentum and outperform Bitcoin in 2024? 0.0",
          "Ethereum activity hit ATHs as fees plunge 99% 0.0",
          "Early Ethereum investor sells 350 ETH after 8.5 years, 446x gains realized 0.34",
          "Ethereum falls to new 42-month low vs. Bitcoin — Bottom or more pain ahead? -0.6901",
          "This User Paid $700K for a Single Ethereum Transaction 0.0"
         ],
         "type": "scatter",
         "x": [
          "2024-04-29T00:00:00",
          "2024-05-01T00:00:00",
          "2024-05-03T00:00:00",
          "2024-05-13T00:00:00",
          "2024-05-13T00:00:00",
          "2024-05-17T00:00:00",
          "2024-05-24T00:00:00",
          "2024-05-27T00:00:00",
          "2024-05-30T00:00:00",
          "2024-06-02T00:00:00",
          "2024-06-04T00:00:00",
          "2024-06-06T00:00:00",
          "2024-06-12T00:00:00",
          "2024-06-19T00:00:00",
          "2024-06-25T00:00:00",
          "2024-06-26T00:00:00",
          "2024-07-16T00:00:00",
          "2024-07-19T00:00:00",
          "2024-07-23T00:00:00",
          "2024-07-26T00:00:00",
          "2024-08-02T00:00:00",
          "2024-08-09T00:00:00",
          "2024-08-23T00:00:00",
          "2024-08-25T00:00:00",
          "2024-08-27T00:00:00",
          "2024-09-04T00:00:00",
          "2024-09-16T00:00:00",
          "2024-09-17T00:00:00",
          "2024-10-09T00:00:00"
         ],
         "y": [
          0.34,
          0,
          -0.0772,
          0.0258,
          0,
          0.296,
          0.4215,
          -0.3182,
          0.4404,
          0,
          0,
          0,
          0,
          -0.2732,
          0,
          0.2263,
          0,
          -0.4588,
          0,
          0,
          0,
          0,
          0,
          -0.5859,
          0,
          0,
          0.34,
          -0.6901,
          0
         ]
        },
        {
         "hoverinfo": "text",
         "line": {
          "width": 2
         },
         "marker": {
          "size": 8
         },
         "mode": "lines+markers",
         "name": "Tether",
         "text": [
          "Why the Big Four apparently won’t audit Tethers $108bn reserves 0.0",
          "If the Tether Treasury keeps on minting USDT like this, what makes them different from the government that prints fiat money? What will happen in the future if it stays like this? 0.7319",
          "Tether reports record $4.52 billion Q1 profit 0.4404",
          "US Scrutiny of Tether Could Disrupt Crypto Ecosystem, Ripple CEO Warns  -0.1027",
          "If Tether (USDT) doesn’t comply in the EU, Kraken and others could be forced to delist it ahead of the upcoming MiCA regulation in July -0.4588",
          "‘Inevitable’ – Tether Co-Founder Says China Is Going To Open Up to Crypto: Report 0.0",
          "Tether introduces its new gold-backed digital asset called Alloy 0.3612",
          "EU banning stablecoins like Tether / from June 30th 2024 0.3612",
          "Tether freezes $28m in USDT linked to Cambodian fraud -0.5994",
          "Tether Freezes $29,620,000 in Tron Address With Links to Cambodian Ruling Family: Report -0.0258",
          "Tether generates a record $5.2 billion profit in first half of the year. 0.4404",
          "Tether mints $1.3B USDT since market bottom — Can it push Bitcoin above $65K? 0.0",
          "Celsius Sues Tether for $2.4 Billion Over BTC Liquidation, Tether says it will Defend Itself Against “Shake Down” Litigation Commenced by Celsius -0.2023",
          "Tether Co-Founder Faces the Unraveling of a Crypto Dream in Puerto Rico 0.25",
          "Tether Transfers $955M USDT to Kraken, Sparking Market Shift Speculations 0.0",
          "Tether Treasury minted 1 billion USDT. Since the crash on August 5, 2024, Tether has continuously transferred USDT to various exchanges such as Coinbase, Kraken, OKX, and Binance via wallet 0x1db (likely Cumberland), totaling 1.476B USDT. -0.2263",
          "Tether backing betting 0.0258",
          "Tether and DOJ Team Up to Combat 'Pig Butchering' Scams, Recovering Millions -0.7351",
          "Tether Decides Against Creating Its Own Blockchain Amid Market Saturation 0.296",
          "When Tether flips Ethereum by m/cap will that be the point the majority of the crypto community finally calls it out?  0.0",
          "Tether addresses $102 million agricultural investment: land is \"crucial asset class\" 0.3612",
          "Does Tether create systemic risk for the US? 0.0",
          "Tether Invests $100M in Agriculture Amid Rising Stablecoin Competition 0.0",
          "Tether has achieved higher profits than BlackRock 0.4404",
          "Consumer protection watchdog warns about Tether's reserves -0.1027",
          "Consumer Watchdog Calls Tether a 'Disaster for Consumers Waiting to Happen' - Decrypt -0.6249",
          "“Tether is a 118 Billion Dollar Scam; Bigger Than FTX & Bernie Madoff Combined”: Cyber Capital Founder Justin Bons Claims -0.5719",
          "Another 1B USDT minted at Tether Treasuries, Paolo Ardoino clarifies allocation 0.4215",
          "Tether Is the Biggest Crypto Scam Ever, Warns Cyber Capital Founder -0.6249",
          "Tether's market share grows from 55% to 75% in the last 2 years | Cryptopolitan 0.296",
          "'Uptober' looms for crypto as Tether's market cap hits a record high -0.1531",
          "Robinhood Plans to Enter the Stablecoin Market: Can It Challenge Tether? 0.0772",
          "FBI Recovers Over $6 Million in Stolen Cryptocurrency: Tether Linked to International Fraud Scheme -0.7906",
          "Tether USDT Market Cap Reaches All Time High of 120 Billions | Data on Tether Market Cap and Share | September 2024 0.34",
          "Tether is ‘best friend’ of US, says CEO Paolo Ardoino 0.0",
          "Vitalik Donates Ether to “Free Alexey & Roman” Campaign After Dumping Memecoins and Tether’s USDT -0.3182",
          "Coinbase to Delist Tether and Other Non-Compliant Stablecoins Ahead of MiCA Compliance in Europe 0.0",
          "The Impressive Amount of Treasury Bonds Tether Holds Surpasses Entire Nations! 0.6588",
          "Tether teases USDT documentary on 10th anniversary -0.296",
          "Tether user base hits 350M in 2024 following 24% surge 0.0",
          "Tether CEO Open to Big Four Audit in Transparency Drive 0.0",
          "Stablecoin Giant Tether Celebrates 10th Anniversary: The Journey So Far 0.5719"
         ],
         "type": "scatter",
         "x": [
          "2024-04-19T00:00:00",
          "2024-04-21T00:00:00",
          "2024-05-01T00:00:00",
          "2024-05-12T00:00:00",
          "2024-05-20T00:00:00",
          "2024-06-04T00:00:00",
          "2024-06-17T00:00:00",
          "2024-07-02T00:00:00",
          "2024-07-15T00:00:00",
          "2024-07-16T00:00:00",
          "2024-08-01T00:00:00",
          "2024-08-09T00:00:00",
          "2024-08-10T00:00:00",
          "2024-08-13T00:00:00",
          "2024-08-15T00:00:00",
          "2024-08-21T00:00:00",
          "2024-08-22T00:00:00",
          "2024-08-25T00:00:00",
          "2024-09-03T00:00:00",
          "2024-09-06T00:00:00",
          "2024-09-09T00:00:00",
          "2024-09-11T00:00:00",
          "2024-09-11T00:00:00",
          "2024-09-11T00:00:00",
          "2024-09-13T00:00:00",
          "2024-09-13T00:00:00",
          "2024-09-15T00:00:00",
          "2024-09-16T00:00:00",
          "2024-09-16T00:00:00",
          "2024-09-17T00:00:00",
          "2024-09-25T00:00:00",
          "2024-09-27T00:00:00",
          "2024-09-28T00:00:00",
          "2024-10-02T00:00:00",
          "2024-10-04T00:00:00",
          "2024-10-05T00:00:00",
          "2024-10-05T00:00:00",
          "2024-10-07T00:00:00",
          "2024-10-07T00:00:00",
          "2024-10-08T00:00:00",
          "2024-10-11T00:00:00",
          "2024-10-13T00:00:00"
         ],
         "y": [
          0,
          0.7319,
          0.4404,
          -0.1027,
          -0.4588,
          0,
          0.3612,
          0.3612,
          -0.5994,
          -0.0258,
          0.4404,
          0,
          -0.2023,
          0.25,
          0,
          -0.2263,
          0.0258,
          -0.7351,
          0.296,
          0,
          0.3612,
          0,
          0,
          0.4404,
          -0.1027,
          -0.6249,
          -0.5719,
          0.4215,
          -0.6249,
          0.296,
          -0.1531,
          0.0772,
          -0.7906,
          0.34,
          0,
          -0.3182,
          0,
          0.6588,
          -0.296,
          0,
          0,
          0.5719
         ]
        },
        {
         "hoverinfo": "text",
         "line": {
          "width": 2
         },
         "marker": {
          "size": 8
         },
         "mode": "lines+markers",
         "name": "BNB",
         "text": [
          "US seeks 36 months' jail for Binance founder Zhao 0.0",
          "Binance founder Changpeng Zhao sentenced to four months in prison -0.5267",
          "Withdraw your XMR from Binance until May 20 or lost everything! -0.3802",
          "The Fall of CZ: Binance Founder Begins Prison Sentence -0.4588",
          "Hackers exploit Chrome plugin to steal millions from Binance accounts -0.5574",
          "Chainlink Unlocks $295 Million in LINK Tokens, Transfers $264 Million to Binance 0.0",
          "Dormant Bitcoin miner sends $3m to Binance after 14 years of inactivity 0.0",
          "Bitcoin Wallet Last Active in the Satoshi Era Moved 50 BTC to Binance 0.4019",
          "BlackRock’s Bitcoin Stash Nears 350,000, Trails Only Satoshi and Binance 0.0",
          "Binance complies with Israeli request, seizes Palestinian funds 0.0",
          "Binance seizes Palestinian funds at Israel's request 0.0",
          "Why Are You Doing This To Me?’: Detained Binance Exec.\n -0.4019",
          "Whale Withdraws $45 Million in Bitcoin from Binance After $40 Million Loss -0.3182",
          "SEC clarifies and admits that cryptocurrencies are not \"securities\" in Binance case 0.4767",
          "The world's richest inmate is free. What will Binance billionaire 'CZ' do next? 0.7717",
          "Binance’s CZ makes his first tweet after release from prison -0.5106",
          "Binance founder CZ made over $25 million per day while in prison, report -0.5106",
          "Binance rejected 86% of requests by Israel to freeze Palestinian users’ crypto wallet -0.4767"
         ],
         "type": "scatter",
         "x": [
          "2024-04-24T00:00:00",
          "2024-05-01T00:00:00",
          "2024-05-04T00:00:00",
          "2024-06-01T00:00:00",
          "2024-06-03T00:00:00",
          "2024-06-22T00:00:00",
          "2024-06-27T00:00:00",
          "2024-07-01T00:00:00",
          "2024-08-21T00:00:00",
          "2024-08-28T00:00:00",
          "2024-08-28T00:00:00",
          "2024-09-03T00:00:00",
          "2024-09-13T00:00:00",
          "2024-09-14T00:00:00",
          "2024-09-27T00:00:00",
          "2024-09-29T00:00:00",
          "2024-10-01T00:00:00",
          "2024-10-07T00:00:00"
         ],
         "y": [
          0,
          -0.5267,
          -0.3802,
          -0.4588,
          -0.5574,
          0,
          0,
          0.4019,
          0,
          0,
          0,
          -0.4019,
          -0.3182,
          0.4767,
          0.7717,
          -0.5106,
          -0.5106,
          -0.4767
         ]
        }
       ],
       "layout": {
        "height": 600,
        "legend": {
         "title": {
          "text": "Coins"
         }
        },
        "template": {
         "data": {
          "bar": [
           {
            "error_x": {
             "color": "#2a3f5f"
            },
            "error_y": {
             "color": "#2a3f5f"
            },
            "marker": {
             "line": {
              "color": "#E5ECF6",
              "width": 0.5
             },
             "pattern": {
              "fillmode": "overlay",
              "size": 10,
              "solidity": 0.2
             }
            },
            "type": "bar"
           }
          ],
          "barpolar": [
           {
            "marker": {
             "line": {
              "color": "#E5ECF6",
              "width": 0.5
             },
             "pattern": {
              "fillmode": "overlay",
              "size": 10,
              "solidity": 0.2
             }
            },
            "type": "barpolar"
           }
          ],
          "carpet": [
           {
            "aaxis": {
             "endlinecolor": "#2a3f5f",
             "gridcolor": "white",
             "linecolor": "white",
             "minorgridcolor": "white",
             "startlinecolor": "#2a3f5f"
            },
            "baxis": {
             "endlinecolor": "#2a3f5f",
             "gridcolor": "white",
             "linecolor": "white",
             "minorgridcolor": "white",
             "startlinecolor": "#2a3f5f"
            },
            "type": "carpet"
           }
          ],
          "choropleth": [
           {
            "colorbar": {
             "outlinewidth": 0,
             "ticks": ""
            },
            "type": "choropleth"
           }
          ],
          "contour": [
           {
            "colorbar": {
             "outlinewidth": 0,
             "ticks": ""
            },
            "colorscale": [
             [
              0,
              "#0d0887"
             ],
             [
              0.1111111111111111,
              "#46039f"
             ],
             [
              0.2222222222222222,
              "#7201a8"
             ],
             [
              0.3333333333333333,
              "#9c179e"
             ],
             [
              0.4444444444444444,
              "#bd3786"
             ],
             [
              0.5555555555555556,
              "#d8576b"
             ],
             [
              0.6666666666666666,
              "#ed7953"
             ],
             [
              0.7777777777777778,
              "#fb9f3a"
             ],
             [
              0.8888888888888888,
              "#fdca26"
             ],
             [
              1,
              "#f0f921"
             ]
            ],
            "type": "contour"
           }
          ],
          "contourcarpet": [
           {
            "colorbar": {
             "outlinewidth": 0,
             "ticks": ""
            },
            "type": "contourcarpet"
           }
          ],
          "heatmap": [
           {
            "colorbar": {
             "outlinewidth": 0,
             "ticks": ""
            },
            "colorscale": [
             [
              0,
              "#0d0887"
             ],
             [
              0.1111111111111111,
              "#46039f"
             ],
             [
              0.2222222222222222,
              "#7201a8"
             ],
             [
              0.3333333333333333,
              "#9c179e"
             ],
             [
              0.4444444444444444,
              "#bd3786"
             ],
             [
              0.5555555555555556,
              "#d8576b"
             ],
             [
              0.6666666666666666,
              "#ed7953"
             ],
             [
              0.7777777777777778,
              "#fb9f3a"
             ],
             [
              0.8888888888888888,
              "#fdca26"
             ],
             [
              1,
              "#f0f921"
             ]
            ],
            "type": "heatmap"
           }
          ],
          "heatmapgl": [
           {
            "colorbar": {
             "outlinewidth": 0,
             "ticks": ""
            },
            "colorscale": [
             [
              0,
              "#0d0887"
             ],
             [
              0.1111111111111111,
              "#46039f"
             ],
             [
              0.2222222222222222,
              "#7201a8"
             ],
             [
              0.3333333333333333,
              "#9c179e"
             ],
             [
              0.4444444444444444,
              "#bd3786"
             ],
             [
              0.5555555555555556,
              "#d8576b"
             ],
             [
              0.6666666666666666,
              "#ed7953"
             ],
             [
              0.7777777777777778,
              "#fb9f3a"
             ],
             [
              0.8888888888888888,
              "#fdca26"
             ],
             [
              1,
              "#f0f921"
             ]
            ],
            "type": "heatmapgl"
           }
          ],
          "histogram": [
           {
            "marker": {
             "pattern": {
              "fillmode": "overlay",
              "size": 10,
              "solidity": 0.2
             }
            },
            "type": "histogram"
           }
          ],
          "histogram2d": [
           {
            "colorbar": {
             "outlinewidth": 0,
             "ticks": ""
            },
            "colorscale": [
             [
              0,
              "#0d0887"
             ],
             [
              0.1111111111111111,
              "#46039f"
             ],
             [
              0.2222222222222222,
              "#7201a8"
             ],
             [
              0.3333333333333333,
              "#9c179e"
             ],
             [
              0.4444444444444444,
              "#bd3786"
             ],
             [
              0.5555555555555556,
              "#d8576b"
             ],
             [
              0.6666666666666666,
              "#ed7953"
             ],
             [
              0.7777777777777778,
              "#fb9f3a"
             ],
             [
              0.8888888888888888,
              "#fdca26"
             ],
             [
              1,
              "#f0f921"
             ]
            ],
            "type": "histogram2d"
           }
          ],
          "histogram2dcontour": [
           {
            "colorbar": {
             "outlinewidth": 0,
             "ticks": ""
            },
            "colorscale": [
             [
              0,
              "#0d0887"
             ],
             [
              0.1111111111111111,
              "#46039f"
             ],
             [
              0.2222222222222222,
              "#7201a8"
             ],
             [
              0.3333333333333333,
              "#9c179e"
             ],
             [
              0.4444444444444444,
              "#bd3786"
             ],
             [
              0.5555555555555556,
              "#d8576b"
             ],
             [
              0.6666666666666666,
              "#ed7953"
             ],
             [
              0.7777777777777778,
              "#fb9f3a"
             ],
             [
              0.8888888888888888,
              "#fdca26"
             ],
             [
              1,
              "#f0f921"
             ]
            ],
            "type": "histogram2dcontour"
           }
          ],
          "mesh3d": [
           {
            "colorbar": {
             "outlinewidth": 0,
             "ticks": ""
            },
            "type": "mesh3d"
           }
          ],
          "parcoords": [
           {
            "line": {
             "colorbar": {
              "outlinewidth": 0,
              "ticks": ""
             }
            },
            "type": "parcoords"
           }
          ],
          "pie": [
           {
            "automargin": true,
            "type": "pie"
           }
          ],
          "scatter": [
           {
            "fillpattern": {
             "fillmode": "overlay",
             "size": 10,
             "solidity": 0.2
            },
            "type": "scatter"
           }
          ],
          "scatter3d": [
           {
            "line": {
             "colorbar": {
              "outlinewidth": 0,
              "ticks": ""
             }
            },
            "marker": {
             "colorbar": {
              "outlinewidth": 0,
              "ticks": ""
             }
            },
            "type": "scatter3d"
           }
          ],
          "scattercarpet": [
           {
            "marker": {
             "colorbar": {
              "outlinewidth": 0,
              "ticks": ""
             }
            },
            "type": "scattercarpet"
           }
          ],
          "scattergeo": [
           {
            "marker": {
             "colorbar": {
              "outlinewidth": 0,
              "ticks": ""
             }
            },
            "type": "scattergeo"
           }
          ],
          "scattergl": [
           {
            "marker": {
             "colorbar": {
              "outlinewidth": 0,
              "ticks": ""
             }
            },
            "type": "scattergl"
           }
          ],
          "scattermapbox": [
           {
            "marker": {
             "colorbar": {
              "outlinewidth": 0,
              "ticks": ""
             }
            },
            "type": "scattermapbox"
           }
          ],
          "scatterpolar": [
           {
            "marker": {
             "colorbar": {
              "outlinewidth": 0,
              "ticks": ""
             }
            },
            "type": "scatterpolar"
           }
          ],
          "scatterpolargl": [
           {
            "marker": {
             "colorbar": {
              "outlinewidth": 0,
              "ticks": ""
             }
            },
            "type": "scatterpolargl"
           }
          ],
          "scatterternary": [
           {
            "marker": {
             "colorbar": {
              "outlinewidth": 0,
              "ticks": ""
             }
            },
            "type": "scatterternary"
           }
          ],
          "surface": [
           {
            "colorbar": {
             "outlinewidth": 0,
             "ticks": ""
            },
            "colorscale": [
             [
              0,
              "#0d0887"
             ],
             [
              0.1111111111111111,
              "#46039f"
             ],
             [
              0.2222222222222222,
              "#7201a8"
             ],
             [
              0.3333333333333333,
              "#9c179e"
             ],
             [
              0.4444444444444444,
              "#bd3786"
             ],
             [
              0.5555555555555556,
              "#d8576b"
             ],
             [
              0.6666666666666666,
              "#ed7953"
             ],
             [
              0.7777777777777778,
              "#fb9f3a"
             ],
             [
              0.8888888888888888,
              "#fdca26"
             ],
             [
              1,
              "#f0f921"
             ]
            ],
            "type": "surface"
           }
          ],
          "table": [
           {
            "cells": {
             "fill": {
              "color": "#EBF0F8"
             },
             "line": {
              "color": "white"
             }
            },
            "header": {
             "fill": {
              "color": "#C8D4E3"
             },
             "line": {
              "color": "white"
             }
            },
            "type": "table"
           }
          ]
         },
         "layout": {
          "annotationdefaults": {
           "arrowcolor": "#2a3f5f",
           "arrowhead": 0,
           "arrowwidth": 1
          },
          "autotypenumbers": "strict",
          "coloraxis": {
           "colorbar": {
            "outlinewidth": 0,
            "ticks": ""
           }
          },
          "colorscale": {
           "diverging": [
            [
             0,
             "#8e0152"
            ],
            [
             0.1,
             "#c51b7d"
            ],
            [
             0.2,
             "#de77ae"
            ],
            [
             0.3,
             "#f1b6da"
            ],
            [
             0.4,
             "#fde0ef"
            ],
            [
             0.5,
             "#f7f7f7"
            ],
            [
             0.6,
             "#e6f5d0"
            ],
            [
             0.7,
             "#b8e186"
            ],
            [
             0.8,
             "#7fbc41"
            ],
            [
             0.9,
             "#4d9221"
            ],
            [
             1,
             "#276419"
            ]
           ],
           "sequential": [
            [
             0,
             "#0d0887"
            ],
            [
             0.1111111111111111,
             "#46039f"
            ],
            [
             0.2222222222222222,
             "#7201a8"
            ],
            [
             0.3333333333333333,
             "#9c179e"
            ],
            [
             0.4444444444444444,
             "#bd3786"
            ],
            [
             0.5555555555555556,
             "#d8576b"
            ],
            [
             0.6666666666666666,
             "#ed7953"
            ],
            [
             0.7777777777777778,
             "#fb9f3a"
            ],
            [
             0.8888888888888888,
             "#fdca26"
            ],
            [
             1,
             "#f0f921"
            ]
           ],
           "sequentialminus": [
            [
             0,
             "#0d0887"
            ],
            [
             0.1111111111111111,
             "#46039f"
            ],
            [
             0.2222222222222222,
             "#7201a8"
            ],
            [
             0.3333333333333333,
             "#9c179e"
            ],
            [
             0.4444444444444444,
             "#bd3786"
            ],
            [
             0.5555555555555556,
             "#d8576b"
            ],
            [
             0.6666666666666666,
             "#ed7953"
            ],
            [
             0.7777777777777778,
             "#fb9f3a"
            ],
            [
             0.8888888888888888,
             "#fdca26"
            ],
            [
             1,
             "#f0f921"
            ]
           ]
          },
          "colorway": [
           "#636efa",
           "#EF553B",
           "#00cc96",
           "#ab63fa",
           "#FFA15A",
           "#19d3f3",
           "#FF6692",
           "#B6E880",
           "#FF97FF",
           "#FECB52"
          ],
          "font": {
           "color": "#2a3f5f"
          },
          "geo": {
           "bgcolor": "white",
           "lakecolor": "white",
           "landcolor": "#E5ECF6",
           "showlakes": true,
           "showland": true,
           "subunitcolor": "white"
          },
          "hoverlabel": {
           "align": "left"
          },
          "hovermode": "closest",
          "mapbox": {
           "style": "light"
          },
          "paper_bgcolor": "white",
          "plot_bgcolor": "#E5ECF6",
          "polar": {
           "angularaxis": {
            "gridcolor": "white",
            "linecolor": "white",
            "ticks": ""
           },
           "bgcolor": "#E5ECF6",
           "radialaxis": {
            "gridcolor": "white",
            "linecolor": "white",
            "ticks": ""
           }
          },
          "scene": {
           "xaxis": {
            "backgroundcolor": "#E5ECF6",
            "gridcolor": "white",
            "gridwidth": 2,
            "linecolor": "white",
            "showbackground": true,
            "ticks": "",
            "zerolinecolor": "white"
           },
           "yaxis": {
            "backgroundcolor": "#E5ECF6",
            "gridcolor": "white",
            "gridwidth": 2,
            "linecolor": "white",
            "showbackground": true,
            "ticks": "",
            "zerolinecolor": "white"
           },
           "zaxis": {
            "backgroundcolor": "#E5ECF6",
            "gridcolor": "white",
            "gridwidth": 2,
            "linecolor": "white",
            "showbackground": true,
            "ticks": "",
            "zerolinecolor": "white"
           }
          },
          "shapedefaults": {
           "line": {
            "color": "#2a3f5f"
           }
          },
          "ternary": {
           "aaxis": {
            "gridcolor": "white",
            "linecolor": "white",
            "ticks": ""
           },
           "baxis": {
            "gridcolor": "white",
            "linecolor": "white",
            "ticks": ""
           },
           "bgcolor": "#E5ECF6",
           "caxis": {
            "gridcolor": "white",
            "linecolor": "white",
            "ticks": ""
           }
          },
          "title": {
           "x": 0.05
          },
          "xaxis": {
           "automargin": true,
           "gridcolor": "white",
           "linecolor": "white",
           "ticks": "",
           "title": {
            "standoff": 15
           },
           "zerolinecolor": "white",
           "zerolinewidth": 2
          },
          "yaxis": {
           "automargin": true,
           "gridcolor": "white",
           "linecolor": "white",
           "ticks": "",
           "title": {
            "standoff": 15
           },
           "zerolinecolor": "white",
           "zerolinewidth": 2
          }
         }
        },
        "title": {
         "text": "Sentiment Score of CyrptoCurrency posts on Reddit over 180 days (14/4 - 14/10)"
        },
        "width": 1200,
        "xaxis": {
         "tickangle": -45,
         "title": {
          "text": "Date"
         }
        },
        "yaxis": {
         "title": {
          "text": "Sentiment Score"
         }
        }
       }
      }
     },
     "metadata": {},
     "output_type": "display_data"
    }
   ],
   "source": [
    "import plotly.graph_objects as go\n",
    "\n",
    "coin_names = ['Bitcoin', 'Ethereum', 'Tether', 'BNB']\n",
    "\n",
    "dataframes = [bitcoin_df, ethereum_df, tether_df, bnb_df]\n",
    "\n",
    "fig = go.Figure()\n",
    "\n",
    "for dataframe in dataframes:\n",
    "    dataframe['date'] = pd.to_datetime(dataframe['date'])\n",
    "    dataframe.sort_values('date', inplace=True)\n",
    "    \n",
    "#add traces for each df\n",
    "for i, (dataframe, name) in enumerate(zip(dataframes, coin_names)):\n",
    "    fig.add_trace(go.Scatter(\n",
    "        x=dataframe['date'], \n",
    "        y=dataframe['sentiment'], \n",
    "        mode='lines+markers', \n",
    "        name=name,\n",
    "        marker=dict(size=8),\n",
    "        line=dict(width=2),\n",
    "        hoverinfo='text',\n",
    "        text=[f\"{dataframe['title'].iloc[j]} {dataframe['sentiment'].iloc[j]}\" for j in range(len(dataframe))]\n",
    "    ))\n",
    "\n",
    "fig.update_layout(\n",
    "    title='Sentiment Score of CyrptoCurrency posts on Reddit over 180 days (14/4 - 14/10)',\n",
    "    xaxis_title=\"Date\",\n",
    "    yaxis_title='Sentiment Score',\n",
    "    legend_title='Coins',\n",
    "    xaxis=dict(tickangle=-45),\n",
    "    width=1200,\n",
    "    height=600\n",
    ")\n",
    "\n",
    "fig.show()\n",
    "\n",
    "# fig.write_html('./HTML/coin_sentiment_score.html')\n"
   ]
  },
  {
   "cell_type": "code",
   "execution_count": null,
   "metadata": {},
   "outputs": [],
   "source": []
  }
 ],
 "metadata": {
  "kernelspec": {
   "display_name": "Python (Anaconda)",
   "language": "python",
   "name": "anaconda"
  },
  "language_info": {
   "codemirror_mode": {
    "name": "ipython",
    "version": 3
   },
   "file_extension": ".py",
   "mimetype": "text/x-python",
   "name": "python",
   "nbconvert_exporter": "python",
   "pygments_lexer": "ipython3",
   "version": "3.12.3"
  }
 },
 "nbformat": 4,
 "nbformat_minor": 2
}
