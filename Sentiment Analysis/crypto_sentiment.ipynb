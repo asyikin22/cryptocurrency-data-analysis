{
 "cells": [
  {
   "cell_type": "code",
   "execution_count": 2,
   "metadata": {},
   "outputs": [
    {
     "data": {
      "text/html": [
       "<div>\n",
       "<style scoped>\n",
       "    .dataframe tbody tr th:only-of-type {\n",
       "        vertical-align: middle;\n",
       "    }\n",
       "\n",
       "    .dataframe tbody tr th {\n",
       "        vertical-align: top;\n",
       "    }\n",
       "\n",
       "    .dataframe thead th {\n",
       "        text-align: right;\n",
       "    }\n",
       "</style>\n",
       "<table border=\"1\" class=\"dataframe\">\n",
       "  <thead>\n",
       "    <tr style=\"text-align: right;\">\n",
       "      <th></th>\n",
       "      <th>created</th>\n",
       "      <th>title</th>\n",
       "      <th>score</th>\n",
       "      <th>num_comments</th>\n",
       "      <th>url</th>\n",
       "      <th>top_5_comments</th>\n",
       "    </tr>\n",
       "  </thead>\n",
       "  <tbody>\n",
       "    <tr>\n",
       "      <th>0</th>\n",
       "      <td>2024-05-29 18:15:58</td>\n",
       "      <td>Bitcoin price: $8. Legend 🔥</td>\n",
       "      <td>1885</td>\n",
       "      <td>260</td>\n",
       "      <td>https://www.reddit.com/r/CryptoCurrency/commen...</td>\n",
       "      <td>[('And has that happened yet? Has BTC made gov...</td>\n",
       "    </tr>\n",
       "    <tr>\n",
       "      <th>1</th>\n",
       "      <td>2024-09-15 02:51:23</td>\n",
       "      <td>‘Shock And Awe’—China Could Be About To Trigge...</td>\n",
       "      <td>940</td>\n",
       "      <td>263</td>\n",
       "      <td>https://www.reddit.com/r/CryptoCurrency/commen...</td>\n",
       "      <td>[('Oh, is it finally Chinese New Year 2017?', ...</td>\n",
       "    </tr>\n",
       "    <tr>\n",
       "      <th>2</th>\n",
       "      <td>2024-09-08 17:28:20</td>\n",
       "      <td>Elon Musk Posts “Dogecoin” Text Image But Fail...</td>\n",
       "      <td>1044</td>\n",
       "      <td>221</td>\n",
       "      <td>https://www.reddit.com/r/CryptoCurrency/commen...</td>\n",
       "      <td>[('The world is healing.', 1315), (\"So glad he...</td>\n",
       "    </tr>\n",
       "    <tr>\n",
       "      <th>3</th>\n",
       "      <td>2024-09-28 02:57:53</td>\n",
       "      <td>A ‘Rapid Pace’ $100,000 Bitcoin Price Earthqua...</td>\n",
       "      <td>744</td>\n",
       "      <td>246</td>\n",
       "      <td>https://www.reddit.com/r/CryptoCurrency/commen...</td>\n",
       "      <td>[('We just pumped 3% then 100k back to menu', ...</td>\n",
       "    </tr>\n",
       "    <tr>\n",
       "      <th>4</th>\n",
       "      <td>2024-09-10 03:30:55</td>\n",
       "      <td>MicroStrategy's Michael Saylor Predicts Bitcoi...</td>\n",
       "      <td>529</td>\n",
       "      <td>316</td>\n",
       "      <td>https://www.reddit.com/r/CryptoCurrency/commen...</td>\n",
       "      <td>[('Great. Maybe we could start with just getti...</td>\n",
       "    </tr>\n",
       "  </tbody>\n",
       "</table>\n",
       "</div>"
      ],
      "text/plain": [
       "               created                                              title  \\\n",
       "0  2024-05-29 18:15:58                        Bitcoin price: $8. Legend 🔥   \n",
       "1  2024-09-15 02:51:23  ‘Shock And Awe’—China Could Be About To Trigge...   \n",
       "2  2024-09-08 17:28:20  Elon Musk Posts “Dogecoin” Text Image But Fail...   \n",
       "3  2024-09-28 02:57:53  A ‘Rapid Pace’ $100,000 Bitcoin Price Earthqua...   \n",
       "4  2024-09-10 03:30:55  MicroStrategy's Michael Saylor Predicts Bitcoi...   \n",
       "\n",
       "   score  num_comments                                                url  \\\n",
       "0   1885           260  https://www.reddit.com/r/CryptoCurrency/commen...   \n",
       "1    940           263  https://www.reddit.com/r/CryptoCurrency/commen...   \n",
       "2   1044           221  https://www.reddit.com/r/CryptoCurrency/commen...   \n",
       "3    744           246  https://www.reddit.com/r/CryptoCurrency/commen...   \n",
       "4    529           316  https://www.reddit.com/r/CryptoCurrency/commen...   \n",
       "\n",
       "                                      top_5_comments  \n",
       "0  [('And has that happened yet? Has BTC made gov...  \n",
       "1  [('Oh, is it finally Chinese New Year 2017?', ...  \n",
       "2  [('The world is healing.', 1315), (\"So glad he...  \n",
       "3  [('We just pumped 3% then 100k back to menu', ...  \n",
       "4  [('Great. Maybe we could start with just getti...  "
      ]
     },
     "execution_count": 2,
     "metadata": {},
     "output_type": "execute_result"
    }
   ],
   "source": [
    "import pandas as pd\n",
    "\n",
    "crypto_sentiment = pd.read_csv('./data sources/comments_reddit.csv', delimiter='\\t', encoding='utf-16')\n",
    "\n",
    "crypto_sentiment.head()\n"
   ]
  },
  {
   "cell_type": "code",
   "execution_count": 3,
   "metadata": {},
   "outputs": [
    {
     "data": {
      "text/plain": [
       "Index(['created', 'title', 'score', 'num_comments', 'url', 'top_5_comments'], dtype='object')"
      ]
     },
     "execution_count": 3,
     "metadata": {},
     "output_type": "execute_result"
    }
   ],
   "source": [
    "crypto_sentiment.columns"
   ]
  },
  {
   "cell_type": "code",
   "execution_count": 6,
   "metadata": {},
   "outputs": [],
   "source": [
    "# crypto_sentiment.info()"
   ]
  },
  {
   "cell_type": "code",
   "execution_count": 4,
   "metadata": {},
   "outputs": [
    {
     "data": {
      "text/html": [
       "<div>\n",
       "<style scoped>\n",
       "    .dataframe tbody tr th:only-of-type {\n",
       "        vertical-align: middle;\n",
       "    }\n",
       "\n",
       "    .dataframe tbody tr th {\n",
       "        vertical-align: top;\n",
       "    }\n",
       "\n",
       "    .dataframe thead th {\n",
       "        text-align: right;\n",
       "    }\n",
       "</style>\n",
       "<table border=\"1\" class=\"dataframe\">\n",
       "  <thead>\n",
       "    <tr style=\"text-align: right;\">\n",
       "      <th></th>\n",
       "      <th>date</th>\n",
       "      <th>title</th>\n",
       "      <th>score</th>\n",
       "      <th>num_comments</th>\n",
       "    </tr>\n",
       "  </thead>\n",
       "  <tbody>\n",
       "    <tr>\n",
       "      <th>0</th>\n",
       "      <td>2024-05-29</td>\n",
       "      <td>Bitcoin price: $8. Legend 🔥</td>\n",
       "      <td>1885</td>\n",
       "      <td>260</td>\n",
       "    </tr>\n",
       "    <tr>\n",
       "      <th>1</th>\n",
       "      <td>2024-09-15</td>\n",
       "      <td>‘Shock And Awe’—China Could Be About To Trigge...</td>\n",
       "      <td>940</td>\n",
       "      <td>263</td>\n",
       "    </tr>\n",
       "    <tr>\n",
       "      <th>2</th>\n",
       "      <td>2024-09-08</td>\n",
       "      <td>Elon Musk Posts “Dogecoin” Text Image But Fail...</td>\n",
       "      <td>1044</td>\n",
       "      <td>221</td>\n",
       "    </tr>\n",
       "    <tr>\n",
       "      <th>3</th>\n",
       "      <td>2024-09-28</td>\n",
       "      <td>A ‘Rapid Pace’ $100,000 Bitcoin Price Earthqua...</td>\n",
       "      <td>744</td>\n",
       "      <td>246</td>\n",
       "    </tr>\n",
       "    <tr>\n",
       "      <th>4</th>\n",
       "      <td>2024-09-10</td>\n",
       "      <td>MicroStrategy's Michael Saylor Predicts Bitcoi...</td>\n",
       "      <td>529</td>\n",
       "      <td>316</td>\n",
       "    </tr>\n",
       "  </tbody>\n",
       "</table>\n",
       "</div>"
      ],
      "text/plain": [
       "         date                                              title  score  \\\n",
       "0  2024-05-29                        Bitcoin price: $8. Legend 🔥   1885   \n",
       "1  2024-09-15  ‘Shock And Awe’—China Could Be About To Trigge...    940   \n",
       "2  2024-09-08  Elon Musk Posts “Dogecoin” Text Image But Fail...   1044   \n",
       "3  2024-09-28  A ‘Rapid Pace’ $100,000 Bitcoin Price Earthqua...    744   \n",
       "4  2024-09-10  MicroStrategy's Michael Saylor Predicts Bitcoi...    529   \n",
       "\n",
       "   num_comments  \n",
       "0           260  \n",
       "1           263  \n",
       "2           221  \n",
       "3           246  \n",
       "4           316  "
      ]
     },
     "execution_count": 4,
     "metadata": {},
     "output_type": "execute_result"
    }
   ],
   "source": [
    "crypto_sentiment['created'] = pd.to_datetime(crypto_sentiment['created'])\n",
    "crypto_sentiment['date'] = crypto_sentiment['created'].dt.date\n",
    "crypto_sentiment['time'] = crypto_sentiment['created'].dt.time\n",
    "\n",
    "crypto2 = crypto_sentiment[['date', 'title', 'score', 'num_comments']]\n",
    "\n",
    "crypto2.head()"
   ]
  },
  {
   "cell_type": "markdown",
   "metadata": {},
   "source": [
    "**Sentiment Analysis using VADER**"
   ]
  },
  {
   "cell_type": "code",
   "execution_count": 5,
   "metadata": {},
   "outputs": [
    {
     "name": "stderr",
     "output_type": "stream",
     "text": [
      "C:\\Users\\ASYIKIN\\AppData\\Local\\Temp\\ipykernel_2640\\232306156.py:9: SettingWithCopyWarning: \n",
      "A value is trying to be set on a copy of a slice from a DataFrame.\n",
      "Try using .loc[row_indexer,col_indexer] = value instead\n",
      "\n",
      "See the caveats in the documentation: https://pandas.pydata.org/pandas-docs/stable/user_guide/indexing.html#returning-a-view-versus-a-copy\n",
      "  crypto2['sentiment'] = crypto2['title'].apply(lambda title: sid.polarity_scores(title)['compound'])\n"
     ]
    },
    {
     "data": {
      "text/html": [
       "<div>\n",
       "<style scoped>\n",
       "    .dataframe tbody tr th:only-of-type {\n",
       "        vertical-align: middle;\n",
       "    }\n",
       "\n",
       "    .dataframe tbody tr th {\n",
       "        vertical-align: top;\n",
       "    }\n",
       "\n",
       "    .dataframe thead th {\n",
       "        text-align: right;\n",
       "    }\n",
       "</style>\n",
       "<table border=\"1\" class=\"dataframe\">\n",
       "  <thead>\n",
       "    <tr style=\"text-align: right;\">\n",
       "      <th></th>\n",
       "      <th>date</th>\n",
       "      <th>title</th>\n",
       "      <th>score</th>\n",
       "      <th>num_comments</th>\n",
       "      <th>sentiment</th>\n",
       "    </tr>\n",
       "  </thead>\n",
       "  <tbody>\n",
       "    <tr>\n",
       "      <th>0</th>\n",
       "      <td>2024-05-29</td>\n",
       "      <td>Bitcoin price: $8. Legend 🔥</td>\n",
       "      <td>1885</td>\n",
       "      <td>260</td>\n",
       "      <td>0.0000</td>\n",
       "    </tr>\n",
       "    <tr>\n",
       "      <th>1</th>\n",
       "      <td>2024-09-15</td>\n",
       "      <td>‘Shock And Awe’—China Could Be About To Trigge...</td>\n",
       "      <td>940</td>\n",
       "      <td>263</td>\n",
       "      <td>0.0000</td>\n",
       "    </tr>\n",
       "    <tr>\n",
       "      <th>2</th>\n",
       "      <td>2024-09-08</td>\n",
       "      <td>Elon Musk Posts “Dogecoin” Text Image But Fail...</td>\n",
       "      <td>1044</td>\n",
       "      <td>221</td>\n",
       "      <td>-0.0387</td>\n",
       "    </tr>\n",
       "    <tr>\n",
       "      <th>3</th>\n",
       "      <td>2024-09-28</td>\n",
       "      <td>A ‘Rapid Pace’ $100,000 Bitcoin Price Earthqua...</td>\n",
       "      <td>744</td>\n",
       "      <td>246</td>\n",
       "      <td>-0.3818</td>\n",
       "    </tr>\n",
       "    <tr>\n",
       "      <th>4</th>\n",
       "      <td>2024-09-10</td>\n",
       "      <td>MicroStrategy's Michael Saylor Predicts Bitcoi...</td>\n",
       "      <td>529</td>\n",
       "      <td>316</td>\n",
       "      <td>0.0000</td>\n",
       "    </tr>\n",
       "  </tbody>\n",
       "</table>\n",
       "</div>"
      ],
      "text/plain": [
       "         date                                              title  score  \\\n",
       "0  2024-05-29                        Bitcoin price: $8. Legend 🔥   1885   \n",
       "1  2024-09-15  ‘Shock And Awe’—China Could Be About To Trigge...    940   \n",
       "2  2024-09-08  Elon Musk Posts “Dogecoin” Text Image But Fail...   1044   \n",
       "3  2024-09-28  A ‘Rapid Pace’ $100,000 Bitcoin Price Earthqua...    744   \n",
       "4  2024-09-10  MicroStrategy's Michael Saylor Predicts Bitcoi...    529   \n",
       "\n",
       "   num_comments  sentiment  \n",
       "0           260     0.0000  \n",
       "1           263     0.0000  \n",
       "2           221    -0.0387  \n",
       "3           246    -0.3818  \n",
       "4           316     0.0000  "
      ]
     },
     "execution_count": 5,
     "metadata": {},
     "output_type": "execute_result"
    }
   ],
   "source": [
    "import pandas as pd\n",
    "from nltk.sentiment.vader import SentimentIntensityAnalyzer\n",
    "import nltk\n",
    "\n",
    "# nltk.download('vader_lexicon')\n",
    "\n",
    "sid = SentimentIntensityAnalyzer()\n",
    "\n",
    "crypto2['sentiment'] = crypto2['title'].apply(lambda title: sid.polarity_scores(title)['compound'])\n",
    "\n",
    "# crypto2.to_csv('crypto_sentiment_score.csv', index=False)\n",
    "\n",
    "crypto2.head()"
   ]
  },
  {
   "cell_type": "code",
   "execution_count": 7,
   "metadata": {},
   "outputs": [
    {
     "name": "stdout",
     "output_type": "stream",
     "text": [
      "Index(['date', 'title', 'score', 'num_comments', 'sentiment'], dtype='object')\n",
      "<class 'pandas.core.frame.DataFrame'>\n",
      "RangeIndex: 438 entries, 0 to 437\n",
      "Data columns (total 5 columns):\n",
      " #   Column        Non-Null Count  Dtype  \n",
      "---  ------        --------------  -----  \n",
      " 0   date          438 non-null    object \n",
      " 1   title         438 non-null    object \n",
      " 2   score         438 non-null    int64  \n",
      " 3   num_comments  438 non-null    int64  \n",
      " 4   sentiment     438 non-null    float64\n",
      "dtypes: float64(1), int64(2), object(2)\n",
      "memory usage: 17.2+ KB\n",
      "None\n"
     ]
    }
   ],
   "source": [
    "print(crypto2.columns)\n",
    "print(crypto2.info())"
   ]
  },
  {
   "cell_type": "code",
   "execution_count": 24,
   "metadata": {},
   "outputs": [
    {
     "data": {
      "application/vnd.plotly.v1+json": {
       "config": {
        "plotlyServerURL": "https://plot.ly"
       },
       "data": [
        {
         "customdata": [
          [
           "Bitcoin price: $8. Legend 🔥"
          ],
          [
           "‘Shock And Awe’—China Could Be About To Trigger A $1.4 Trillion Bitcoin And Crypto Price Earthquake"
          ],
          [
           "Elon Musk Posts “Dogecoin” Text Image But Fails To Boost Dogecoin Price - Bitcoinik"
          ],
          [
           "A ‘Rapid Pace’ $100,000 Bitcoin Price Earthquake Is Suddenly Predicted To Shock Crypto"
          ],
          [
           "MicroStrategy's Michael Saylor Predicts Bitcoin Price Will Rise to $13 Million"
          ],
          [
           "Ethereum Gas Prices Plummet 93% to Reach Rock-Bottom Levels"
          ],
          [
           "ETH price: $200 💀"
          ],
          [
           "‘Expect Fireworks’—BlackRock CEO Issues ‘Crazy’ Fed Warning As A China ‘Tsunami’ Is Predicted To Hit Crypto And The Bitcoin Price"
          ],
          [
           "‘$16 Trillion By 2030’—BlackRock Is Quietly Backing A Radical New U.S. Dollar Rival Amid A Bitcoin And Crypto Price Boom"
          ],
          [
           "✨ The Simpsons predicting an infinity Bitcoin price, exactly 3 years ago"
          ],
          [
           "Bitcoin price: $15 💀"
          ],
          [
           "Bitcoin Whales Accumulate $941M BTC in 24 Hours as Prices Drop, What Does This Mean?"
          ],
          [
           "Bitcoin price target rises to $78K after Chinese stimulus package"
          ],
          [
           "Bitcoin Price Dips Below $60,000, More than $8 Million Longs Liquidated"
          ],
          [
           "Bitcoin Price Soars Above $65K - We are a hair away from major short liquidations - Is This the Start of a New Bull Run?"
          ],
          [
           "Forget The Fed—China Could Be About To Drop A $420 Billion Bitcoin And Crypto Price Bombshell"
          ],
          [
           "Trump NFT Prices Double as Jimmy Kimmel Calls Collectors 'Freaks' and 'Suckers'"
          ],
          [
           "Bitcoin Price Nears $60,000 as Traders Anticipate Jumbo Rate Cut"
          ],
          [
           "Visa, Mastercard, JPMorgan And Citi Reveal Game-Changing Crypto Plan For ‘Mass Institutional Adoption’ After Bitcoin, Ethereum And XRP Price Pump"
          ],
          [
           "Can we stop with all the price prediction and coin movement posts?"
          ],
          [
           "Mt. Gox to repay creditors in BTC and BCH starting July 2024. They are holding 141,686 BTC worth $8.63B 🥶. The Market seem to shocked and BTC price drop from $62.8K to $60.8K in only a few minutes."
          ],
          [
           "Bitcoin Price Tanks as Nearly $300 Million in Longs Get Rekt"
          ],
          [
           "VanEck Predicts Ethereum Price to Hit $22,000 by 2030"
          ],
          [
           "It's way more fun to just forget about crypto for a while and then look back and see prices have risen "
          ],
          [
           "Paper Bitcoin wallets printed when the price was $500 in 2014 ✨"
          ],
          [
           "Bitcoin price could surge to $140,000 in three months if history repeats itself!"
          ],
          [
           "Bitcoin Prices Rally Nearly 6% After Plunging To Lowest Since February"
          ],
          [
           "As fast as altcoins crash in price, they recover as fast, too...even some can outperform!"
          ],
          [
           "Bitcoin Price Dips: Who's Selling, How Much, and Why?"
          ],
          [
           "✨ 2 years ago today, the crypto market was about to forever change"
          ],
          [
           "✨ 14 years ago today, the pizza order that changed history"
          ],
          [
           "‘Bitcoin changed my life’: Taxi driver cashes in on El Salvador’s crypto gamble"
          ],
          [
           "A sovereign wealth fund of 1.5B ADA (~$500M) unlocks later today to be used by and for every single member in the Cardano ecosystem. The most consequential upgrade (Chang hard fork) brings the most advanced governance system in the history of the cryptocurrency industry."
          ],
          [
           "Crpyto gaming needs a lot of change to become mainstream "
          ],
          [
           "FTX payout plan last-minute changes leave creditors feeling ‘scammed twice’"
          ],
          [
           "Cardano's Chang hard fork set to launch tomorrow — Here's what you should expect"
          ],
          [
           "Ethereum Prepares for Pectra Upgrade: What Will Change?"
          ],
          [
           "Why Internet Computer (ICP) Will Change the World"
          ],
          [
           "Biggest Changes Coming in Ethereum’s Super-Sized Pectra Upgrade"
          ],
          [
           "CARDANO (ADA) Chang Hard Fork Scheduled for 1st Sept"
          ],
          [
           "Old user, gone for a bit, newly back. Lots has changed with Moons I 'm seeing.. What function do they serve/what good are they [other than their token value ofc] now that vault isn't supported and one's not able to purchase memberships or special features with them?"
          ],
          [
           "Sell the News: Crypto Whales Offload $326 Million in Cardano (ADA) After Chang Hard Fork"
          ],
          [
           "Cardano Validators Begin Migration In Preparation for Chang Hard Fork"
          ],
          [
           "Billionaire Shark Mark Cuban Warns The SEC's Anti-Crypto Stance Could Cost Biden The Election "
          ],
          [
           "People who have been in crypto for more than one cycle, probably saw this drop coming from a mile away. It was textbook crypto volatility. They are also probably not worried about this dip, and maybe even relieved to see it. So far, everything continues to play out like clockwork."
          ],
          [
           "Most of the people you see panicking are those who are new to crypto and haven't experienced such volatility before"
          ],
          [
           "Volatility spike leadings to a liquidity unwind. Get ready for a fun few weeks"
          ],
          [
           "Bitcoin falls below $54,000 as U.S. job report stirs huge volatility"
          ],
          [
           "How I lost $24.389,51 And Much More Due To A Hack For Not Following My Gut"
          ],
          [
           "Bitcoin Whales Make a Bold Move: 84,000 BTC Purchased in July Amid Market Volatility."
          ],
          [
           "96% of NFTs Deemed ‘Dead’ as Market Struggles with Speculation and Volatility"
          ],
          [
           "BTC Experiences Volatility Following Fed Announcement; Altcoins Begin Recovery"
          ],
          [
           "Post-halving volatility triggers significant Bitcoin futures liquidations"
          ],
          [
           "Crypto market volatility is rising as Fed rate decision approaches"
          ],
          [
           "Ampleforth introduces ‘low-volatility’ alternative to fiat stablecoins"
          ],
          [
           "Dramatic highlights of the German government's Bitcoin sell-off from June 18 until now. Their impact on the daily trading volume of Bitcoin isn't significant, but are they testing their influence on market volatility?"
          ],
          [
           "Crypto Market Braces for Volatility as $10B in Bitcoin and Ether Options Set to Expire | CoinMarketCap"
          ],
          [
           "German Government Reclaims 1,915 Bitcoins from Major Exchanges"
          ],
          [
           "Bitcoin reduced volatility points to market growth and institutional influence "
          ],
          [
           "Why Bitcoin Matters — The Real Value Of BTC Beyond Its Volatility"
          ],
          [
           "Bitcoin Volatility Index Rises To 52.7, Up By 4.42%"
          ],
          [
           "Here's why I'm selling all my bags and no longer believe. This game is rigged."
          ],
          [
           "Any Particular Crypto’s You Are Choosing During This Downfall? "
          ],
          [
           "Market is RED again. Here is why"
          ],
          [
           "Mark Cuban advocates for CFTC to regulate 'all crypto' ahead of US election day"
          ],
          [
           "IMF pressures El Salvador to overhaul Bitcoin regulations"
          ],
          [
           "Half of crypto ads on Facebook are scams or violate Meta’s policies, consumer regulator alleges"
          ],
          [
           "\nArchax makes abrdn’s €3.8 billion Euro Money Market fund accessible and transferable on Algorand blockchain using Europe's first fully regulated digital euro Quantoz EURD electronic money token."
          ],
          [
           "Coinbase Wants SEC To Produce Documents That Could Expose Regulator’s Inconsistent Views on Digital Assets - The Daily Hodl"
          ],
          [
           "Turkey sees surge in crypto license applications amid new regulations"
          ],
          [
           "Crypto Companies paid $19B in Settlements to US Regulators in 2024"
          ],
          [
           "Vitalik Buterin says crypto regulations have created ‘anarcho-tyranny’"
          ],
          [
           "Exchange claims minimum transfer amounts are regulated. True? Why?  "
          ],
          [
           "New U.S. president must bring clarity to crypto regulation, analyst says"
          ],
          [
           "LUNA crashing to $0 in 1 day, exactly 2 years ago. A lasting reminder of the risks of crypto ✨"
          ],
          [
           "✨ Bitcoin crashing from a high of $30, 13 years ago. They called it the \"Great Bubble of 2011.\" Anyone who bought the top is up 200,000% 💫"
          ],
          [
           "Crypto crash wipes out $1 billion, Bitcoin plunges toward $49,000"
          ],
          [
           "'THIS IS IT': Man Watches Bitcoin Crash to Below $0.01, exactly 13 years ago\n"
          ],
          [
           "Reminder : The Covid Crash Led to the Biggest Bull Run Ever"
          ],
          [
           "Texas leaders worry that Bitcoin mines threaten to crash the state power grid"
          ],
          [
           "Bitcoin's June Crash: How Miner Sell-Offs Triggered a Market Meltdown"
          ],
          [
           "Crypto traders lost $333 million in 24 hours amid market crash"
          ],
          [
           "Why BTC will keep going up as long as people keep predicting a crash "
          ],
          [
           "Detailed Market Analysis - Why we will likely see a major flash crash the next days and how to avoid panic"
          ],
          [
           "Another BTC Crash and Top Alts from 2021 once again reach a new ATL against BTC. "
          ],
          [
           "Crypto market crashes below $2 trillion"
          ],
          [
           "Bitcoin Price Crashes Below $57K as Total Liquidations Exceed $200 Million"
          ],
          [
           "Ethereum Price Crashes Below $3,000 As Revenues Drop Toward New Lows"
          ],
          [
           "Bitcoin crashes below $53K wiping out $600M in leveraged longs"
          ],
          [
           "Tether Treasury minted 1 billion USDT. Since the crash on August 5, 2024, Tether has continuously transferred USDT to various exchanges such as Coinbase, Kraken, OKX, and Binance via wallet 0x1db (likely Cumberland), totaling 1.476B USDT."
          ],
          [
           "Will Bitcoin Crash to $20k Again? Analyzing Historical Trends and Potential Risks"
          ],
          [
           "Crypto crashes bring opportunities...to move your ETH around."
          ],
          [
           "‘Groundbreaking’ Bitcoin Bill Introduced To Congress After Crypto Price Crash"
          ],
          [
           "BlackRock Issues Serious Fed Warning As Crypto Braces For A Predicted 50% Bitcoin Price Crash"
          ],
          [
           "Crypto recent pullbacks are five times softer than the Covid crash: CoinGecko"
          ],
          [
           "Crypto traders lost over half a billion dollars in market crash"
          ],
          [
           "Bitcoin Crashes to $50K as 'Perfect Storm' Hits Crypto Market"
          ],
          [
           "Crash because of war?"
          ],
          [
           "We dropped to $56k and people are panicking. Instead let's see it as opportunity, nobody can buy the exact bottom anyways"
          ],
          [
           "Bitcoin dips to $53K after Bank of Japan’s rate hike, Ether follows drop as global market panic ensues"
          ],
          [
           "✨ 2 years ago today, this legend dropped one of the most iconic Reddit posts about Bitcoin."
          ],
          [
           "Bitcoin ushers in fourth halving as miners' block subsidy reward drops to 3.125 BTC"
          ],
          [
           "Bitcoin mining difficulty drops 6% in largest fall since bear market lows"
          ],
          [
           "Ethereum drops below $3k as liquidations hit $320 million"
          ],
          [
           "Ethereum's Average Gas Fees Drop Below 1 Gwei For the First Time in Years"
          ],
          [
           "Ethereum Goes Budget-Friendly: Transaction Fees Drop To Lowest Since 2016"
          ],
          [
           "Bitcoin Network in Trouble? Activity Drops to Lowest Point Since 2021"
          ],
          [
           "Bitcoin Miners See 46.15% Revenue Drop in May, Lowest Since October 2023 – Mining Bitcoin News"
          ],
          [
           "Record drop in Ethereum gas fees marks historically bullish signal for ETH!"
          ],
          [
           "Whales and Sharks Gobble Up Over $7,863,000,000 in Bitcoin As ‘Impatient’ Traders Drop Their Holdings"
          ],
          [
           "Why did crypto prices drop yesterday after the Roaring Kitty livestream?"
          ],
          [
           "Ethereum price clings 'crucial area,' drop below $2.8K looming "
          ],
          [
           "Hello Reddit! We're giving away 550 Nano (~$500) AND sending some Nano to EVERY commenter. No strings attached!"
          ],
          [
           "Bitcoin price drops below $60,000 before rebounding ahead of halving"
          ],
          [
           "Toncoin drops 18%, Notcoin tumbles following arrest of Telegram CEO Pavel Durov"
          ],
          [
           "Ethereum Overtakes Solana in NFT Sales, But Trade Volume Drops Significantly"
          ],
          [
           "In 2018 Peter Schiff Advised Not to Buy BTC at $3800 Because He Believed that Even falling another 80% to $750, it Would Still be Expensive. "
          ],
          [
           "Bitcoin Hashrate Hits Record High as Prices Drop Below $55K"
          ],
          [
           "Ether price drop due to investor sentiment, not $420M ETF outflows — Nansen"
          ],
          [
           "$1.72 Billion Worth of Bitcoin Shifted to Accumulation Addresses Following Drop Below $63K: Data"
          ],
          [
           "To new-memecoin investors, I have a question: Let's say all of the meme-coins you buy drop in value by 99% in 2-3 years. If you make money off of them now, do you feel any moral qualms about profiting from selling?"
          ],
          [
           "Ether-Bitcoin Ratio Drops to Lowest Since April 2021. Here’s Why It Matters"
          ],
          [
           "2 years ago today, this tweet pumped the ETH market by 10% 💀"
          ],
          [
           "Crypto market enters ‘extreme fear’ as analysts warn of Bitcoin below $50K"
          ],
          [
           "FBI creates crypto token to catch fraudsters in historic market manipulation case"
          ],
          [
           "JPMorgan Chase, Bank of America and 7 Mega Banks Paying $46,000,000 Over Alleged Conspiracy To Rig Trillion-Dollar Derivatives Market - The Daily Hodl"
          ],
          [
           "Crypto has become a \"weak\" market."
          ],
          [
           "VanEck CEO Predicts Bitcoin Could Soar to $350,000, Eyeing Gold’s Market Cap"
          ],
          [
           "Donald Trump says his childrens defi crypto project will help make America “the crypto capital of the world”. But the whitelist isn’t even available for Americans."
          ],
          [
           "Early warnings that Trump’s DeFi project would flop"
          ],
          [
           "Ethereum Co-founder Warns Trump-Backed DeFi Platform Poses Risks To Crypto Industry - Brave New Coin"
          ],
          [
           "Inside the Trump Crypto Project Linked to a $2M DeFi Hack and Former Pick-Up Artist"
          ],
          [
           "Gary Gensler Reiterates in Speech That Coinbase, DeFi Should Be Defined as ‘Exchanges’"
          ],
          [
           "Selfi Social - Web3 Integrated DeFi Socials "
          ],
          [
           "Centralized Crypto Exchanges Are Slowly Losing Ground to DeFi Counterparts"
          ],
          [
           "Coinbase Urges SEC to 'Abandon' Its 'Irrational' DeFi Exchange Rule - Decrypt"
          ],
          [
           "Ethereum Dominates Stablecoin Market with $85 Billion Supply Reinforcing DeFi Dominance"
          ],
          [
           "Two members of the Trump Family were just hacked on Twitter and just pulled off an elaborate scam. "
          ],
          [
           "DeFi's total value locked falls $10 billion in April"
          ],
          [
           "Looking for a new DeFi wallet with multi-chain support."
          ],
          [
           "Ethereum staking defies market trends with robust growth in 2024"
          ],
          [
           "DeFi Protocol Dough Finance Exploit Swipes $1.96 Million"
          ],
          [
           "Bitcoin $350,000 Price by August? Kiyosaki's Bullish Bet Defies Market Reality"
          ],
          [
           "I’m not sure who needs to read this. Important reminder: Do not log out or delete your DeFi wallet app if you don’t have your 12-word recovery phrase."
          ],
          [
           "DeFi protocol UwU Lend falls victim to $19.3M exploit "
          ],
          [
           "WEF backs ‘Sandbox-first approach’ for DeFi adoption"
          ],
          [
           "First US Congressional hearing on DeFi reveals deep partisan divide over crypto regulation"
          ],
          [
           "How Ethereum 2.0 Can Transform DeFi"
          ],
          [
           "Cardano's Hoskinson: DeFi ecosystem just moving water in bathtub"
          ],
          [
           "Former Black Hat Hacker \"Gummo\" retires from technology, stating '...I won't be touching anymore keyboards...', looks to responsibly sell his remaining 72,527 Bitcoin worth nearly $5 billion"
          ],
          [
           "Harris vows to keep US 'dominant' in blockchain and AI technologies"
          ],
          [
           "What projects have you been following for their technology or use case innovations? No token talk please, just a discussion on great minds bringing the technology to new levels [Serious]"
          ],
          [
           "Cheat-Proof Gaming: The Promise of New P2P Technology*"
          ],
          [
           "Vitalik Buterin defends Ethereum's strength, citing recent technological advancements and ecosystem growth"
          ],
          [
           "South Korean gaming powerhouse Nexon aims to extend lifespan of games with blockchain technology"
          ],
          [
           "Nigeria to change its policies on blockchain technology"
          ],
          [
           "TON Blockchain Will Release New Layer-2 Based On Polygon’s Technology - called the TON Applications Chain (TAC), it will make use of Polygon’s Chain Development Kit (CDK), as well as their AggLayer."
          ],
          [
           "DFINITY Foundation Signs Letter of Intent with Cambodia’s Ministry of Industry, Science, Technology and Innovation"
          ],
          [
           "Zilliqa and Brillion Forge Path to Future with Smart Wallet Technology"
          ],
          [
           "Altseason incoming? Ethereum reclaims key trend line against Bitcoin"
          ],
          [
           "Kraken Witnesses Largest Bitcoin and Ethereum Outflows Since 2017: What's Behind the Trend?"
          ],
          [
           "What is the hype about with ton? I’m trying to learn more about it but am confused why it doesn’t follow trends well . "
          ],
          [
           "14,000 BTC Transferred To Exchanges In Four Days - Worrying Trend For Bitcoin Price?"
          ],
          [
           "Bitcoin dominance reaches 56%, showing cyclical performance trends over Ethereum "
          ],
          [
           "XNO: Nano trends as feeless and instant rhyme with gaming | Santiment's Community Insight"
          ],
          [
           "Emerging trend could see Solana ‘seriously challenge’ Ethereum: Sygnum"
          ],
          [
           "Michael Dell's Bitcoin Interest: A Growing Trend?"
          ],
          [
           "Bitcoin Eyes Bullish July as Analysts Find Historical Trends"
          ],
          [
           "Bitcoin ETFs outflow $706m: BlackRock, WisdomTree buck trend"
          ],
          [
           "\"ETH trend dying now?\" 🤡\n"
          ],
          [
           "US spot Bitcoin ETFs log $300 million weekly outflow, reversing three-week trend"
          ],
          [
           "Hate this trend of using halving as a marketing hype scheme thing"
          ],
          [
           "ETH/BTC Trading Pair Highlights Bitcoin's Dominance, But Will the Fed Rate Cut Change the Trend?"
          ],
          [
           "Trend micro 4th part of series reviews quantum resistant algos."
          ],
          [
           "This Institution Joins the Tokenization of Real-World Assets Trend"
          ],
          [
           "Crypto in 2024: 5 Trends That Could Skyrocket"
          ],
          [
           "Negative Trend in US Spot Bitcoin Exchange Traded Funds (ETFs) Ended! How Many Entries Have Been Seen? Here are the Details"
          ],
          [
           "Bitcoin Wallets Holding At Least $1K Are Growing in 'Positive Trend': Fidelity - Decrypt"
          ],
          [
           "Usually the SVI (social voting indicator) is correct, the trend might be sideways "
          ],
          [
           "Davido launches own meme coin amid TapSwap, other crypto trends"
          ],
          [
           "Hypothetical question : What happens to cryptos, if USD collapses?"
          ],
          [
           "Venezuelan only electric company (state owned, so the government) has ordered to shut down all the mining farms in the country considering the high power consumption and constant blackouts (A big house with 2000kWh monthly bill only pays 6 USD monthly)"
          ],
          [
           "Friend’s employer wants to pay in Bitcoin and not in USD?  Which app or platform should she use to convert Bitcoin immediately to USD? Is it a scam?"
          ],
          [
           "There is a total of 920 million USDC wagered on Polymarket on the outcome of the 2024 US presidential election. The outcome of this bet hinges on the UMA oracle, a token with a total market cap of 179 million USD, less than 20% of the bets at stake."
          ],
          [
           "2.5 Year Update: I took out $125,000 in Personal Loans & Balance Transfers to Buy Crypto"
          ],
          [
           "FIFA \"Right-to-Buy\" NFT for the FIFA World Cup 2026 in Mexico City sold out in 24 minutes, the fastest sellout in FIFA Collect history. 115k USD worth of NFTs sold out in 24 minutes. All NFTs were minted on the Algorand Blockchain."
          ],
          [
           "About 6.7 billions USD to be settled in BTC option market at the end of this 2nd quarter (28Jun)"
          ],
          [
           "Kraken Bitcoin Halving Giveaway Competition"
          ],
          [
           "Over the past 2 months alone, Nostr users have 'zapped' (tipped) 1,624,227,365 sats (960k USD) over lightning ⚡⚡. This is how we decentralize social media: one tipped content creator at a time."
          ],
          [
           " Is there an app/service that allows people to send me USD & i receive crypto "
          ],
          [
           "MicroStrategy's Michael Saylor Forecasts Bitcoin's Rise to $350,000 by 2024"
          ],
          [
           "Russia prepares for total crypto ban as geopolitical tensions rise"
          ],
          [
           "With Rumours Of A Recession & War Rising, Is Crypto Really A Hedge During Times Of Turmoil?"
          ],
          [
           "$512,900,000,000 in Unrealized Losses Hit US Banks As Number of 'Problem Banks' Rises To 66: FDIC"
          ],
          [
           "Bitcoin rises to the best levels of September."
          ],
          [
           "Ethereum ETF rumors drive dramatic rise in ETH/BTC ratio"
          ],
          [
           "Bitcoin Poised Close to a Major Surge with Global Liquidity Rising"
          ],
          [
           "Bitcoin Miners Dump $1.7B Worth Of BTC As Rising Mining Difficulty And Weak Price Action Take Their Toll "
          ],
          [
           "Bolivia reports 100% rise in virtual asset trading since lifting Bitcoin ban"
          ],
          [
           "Pantera believes Solana will dominate blockchain sector, compares its rise to Apple’s breakthrough with macOS"
          ],
          [
           "I lost 650k from last bull run."
          ],
          [
           "Ethereum inflation rises, threatens ‘ultrasound money’ status: Report"
          ],
          [
           "Polygon (MATIC) at June 2022 Prices: Hidden Gem Opportunity or Dead Project? Will MATIC Rise Again?"
          ],
          [
           "2024 US election tokens that should rise soon?"
          ],
          [
           "Bitcoin Bull Run in Question as Balances on OTC Desks Rise to 410K"
          ],
          [
           "The Rise of Cryptocurrency in Western Europe - Austria has shown recording a 70% increase in the number of cryptocurrency traders between December 2022 and December 2023."
          ],
          [
           "Non-dollar stablecoins will rise over next few years, Visa’s Head of Crypto says"
          ],
          [
           "Cryptos expected to rally into year-end despite rising recession signs – ETC Group’s André Dragosch"
          ],
          [
           "Dogecoin Rises 30% as Tesla Considers DOGE Acceptance For Electric Cars and Merchandise"
          ],
          [
           "Binance Alerts Users to Rising Threat of Clipper Malware"
          ],
          [
           "Tether Invests $100M in Agriculture Amid Rising Stablecoin Competition"
          ],
          [
           "Bitcoin OTC desk balances rise by 60,000 BTC in past 30 days"
          ],
          [
           "Robinhood Q2 crypto revenue surges 161% on rising trading volume"
          ],
          [
           "Rising Power Fees Begin to Drive Bitcoin Mining Companies From Paraguay to Argentina"
          ],
          [
           "Pi Network token IoU jumps as mainnet launch hopes rise"
          ],
          [
           "Ethereum remains whitehat hackers' blockchain of choice, with Polygon, Arbitrum, Optimism and Solana on the rise"
          ],
          [
           "Ethereum Taker Buy/Sell Ratio Is Rising Again — What It Means For ETH Price"
          ],
          [
           "BitClout's Rise and Demise: The Dark Side of Digital Disruption"
          ],
          [
           "Crypto ATMs fraud and scams on the rise in the US: report"
          ],
          [
           "Germany Federal Office urges use of hardware wallets as crypto theft rises!"
          ],
          [
           "Advisor holdings in Bitcoin ETFs rise, hedge fund stakes dip — Coinbase"
          ],
          [
           "‘A Very Big Opportunity’—Crypto Suddenly Braced For A ‘Tremendous’ China Earthquake After Bitcoin, Ethereum And XRP Price Boom"
          ],
          [
           "NFT Boom Bust: 96% of Projects Declared Dead in Report"
          ],
          [
           "BlackRock Reveals It’s Quietly Preparing For A $35 Trillion Federal Reserve Dollar Crisis With Bitcoin—Predicted To Spark A Sudden Price Boom"
          ],
          [
           "Stablecoin Market Soars to $170 Billion, Fueling Optimism for Bitcoin Boom"
          ],
          [
           "Leveraged MicroStrategy ETFs Are a 'Ghost Pepper' Bet on Bitcoin—And They're Booming"
          ],
          [
           "GameFi's next boom: How TON-based games and crypto airdrops are attracting millions of users"
          ],
          [
           "Cryptocurrency crimes surge 4x as crypto-related SEC litigations boom in Q3"
          ],
          [
           "Stablecoin Use Booms in Argentina as Inflation Skyrockets: Report "
          ],
          [
           "Arthur Hayes Predicts Bitcoin Boom as Central Banks Cut Interest Rates"
          ],
          [
           "MemeCoin Boom - ELI5 "
          ],
          [
           "ETF Boom! Market Set To Surge To $35 Trillion By 2035, Says Analyst"
          ],
          [
           "'Unregulated' Crypto Betting Booms Ahead Of 2024 US Election On Polymarket"
          ],
          [
           "Bitcoin Booms, Ethereum Lags As Short-Term Holders Hold the Key: What’s Next?"
          ],
          [
           "Daily Crypto Discussion - May 17, 2024 (GMT+0)"
          ],
          [
           "He bought Bitcoin at $18 and called it a \"mistake.\" HODL is the way ✨"
          ],
          [
           "Dell CEO posts Cookie Monster eating Bitcoin meme, says 'scarcity creates value' "
          ],
          [
           "3 Years Ago, One of the Biggest Crypto Scams Happened. SQUID Went from $0.009 to $2,861 and then the Rug got Pulled"
          ],
          [
           "Massive Sleeping Bitcoin Wallet From 2013 Moves 750 BTC After 11 Years, Valued at $48M"
          ],
          [
           "BlackRock’s spot Ethereum ETF surpasses $1 billion in value for the first time"
          ],
          [
           "Will any other blockchain network ever break away from BTC value?"
          ],
          [
           "Is it possible to create a coin that automatically deletes bits of its own value from the current owners wallet?"
          ],
          [
           "YSK: Your altcoins don't lose value the way you think they do"
          ],
          [
           "From High Hopes to Low Values: The Meme Coin Rollercoaster After the U.S. Presidential Debate"
          ],
          [
           "Monero surpasses Bitcoin in payment volume for the first time on platform"
          ],
          [
           "Ethereum ETFs soar with $361 million volume in first 90 minutes"
          ],
          [
           "Ethereum Spot ETFs Debut with $1B in Trading Volume, But ETH Price Stays Flat"
          ],
          [
           "Bitcoin Surpasses Visa And Mastercard In Daily Transaction Volume"
          ],
          [
           "Solana DEX Volume Surpasses Ethereum, BNB Chain"
          ],
          [
           "Ethereum ETFs exceed $1 billion in trading volume despite lagging ETH's price"
          ],
          [
           "Bitcoin sees $630 million outflow as crypto ETP trading volume hits new low amid market's 'true correction'"
          ],
          [
           "Is ADA overvalued? Cardano’s network volume is on a downtrend "
          ],
          [
           "FIFA's Digital Collectible Marketplace is Heating Up. ~1 Million NFTs Minted and ~$3M in Volume. Record sales have recently happened with the new \"World Cup First-Timers\" edition being released with a Cristiano Ronaldo moment going for $4,500. \"Right-to-Buy\" world cup tickets are going for $2,500+."
          ],
          [
           "Crypto laundry...what's the volume of crypto getting tainted/un-tainted? Is it a positive ratio?"
          ],
          [
           "Crypto trading volume to exceed $108T in 2024 with Europe in the lead"
          ],
          [
           "Rare photo of an early Bitcoin order book, taken exactly 13 years ago. 25 BTC cost $100 ✨\n"
          ],
          [
           "Ethereum DEX networks are enjoying major increase in volume"
          ],
          [
           "Polymarket Sees Record-High Volume and Active Traders Amid U.S. Election Season"
          ],
          [
           "Binance leads the pack with $100 trillion in all-time trade volume"
          ],
          [
           "Bitcoin Transfer Volumes Soar in 2024, Set to Break 2023’s Record in 2 Weeks"
          ],
          [
           "Global Crypto Trading Volume to Surpass $108 Trillion in 2024, Europe Leads With 37.32%"
          ],
          [
           "Solana's July DEX volume exceeds Ethereum amid wash trading concerns"
          ],
          [
           "Arbitrum Leads L2s in All-Time Uniswap Trading Volume"
          ],
          [
           "Binance Leads Weekly Trading Volume in Centralized Exchanges, Totaling $131.17 Billion"
          ],
          [
           "Polymarket sees surge in daily volume and users amid token launch speculation"
          ],
          [
           "Biden's Exit Spurs Record $28M Daily Volume on Polymarket as Election Enters Uncharted Territory"
          ],
          [
           "Global crypto trading volume set to surpass $108 trillion in 2024: Coinwire"
          ],
          [
           "Spot Ethereum ETFs Boost Trading Volumes to $14.8 Billion, Highest Since May"
          ],
          [
           "Study Reveals: Global Crypto Market Volume to Exceed $108 Trillion With Europe Dominating"
          ],
          [
           "US election bets make up 88% of Polymarket's volume"
          ],
          [
           "Bybit Overtakes Coinbase in Crypto Trading Volume"
          ],
          [
           "Marc Cuban wallet dumps NFTs, market volume drops 45%: Nifty Newsletter"
          ],
          [
           "Trump Family planning on launching an official Trump coin - I'm not joking this time"
          ],
          [
           "How useful is Volume/Market Cap ratio when selecting a coin? "
          ],
          [
           "US Bitcoin, Ethereum ETFs hit $6B volume amid market rout "
          ],
          [
           "Starting 2025, all crypto exchanges will report user trades to the IRS: new Form 1099-DA"
          ],
          [
           "3 years ago today, someone trained a hamster to trade crypto and he outperformed the S&P"
          ],
          [
           "WARNING - Do not trade or store crypto on Robinhood"
          ],
          [
           "JPMorgan CEO used to call Bitcoin a fraud and a ponzi scheme - Also said he would fire anyone caught trading it. \"Dont listen to what I say, look at what I do\""
          ],
          [
           "Have governments practically eradicated cryptos main purpose of decentralised banking and just transformed it into basic buying / selling / trading?"
          ],
          [
           "Spent $1600 and 2 months doing CopyTrading, these are the results:"
          ],
          [
           "Cryptocurrency Trading Causes Lower Quality Of Life And Higher Stress"
          ],
          [
           "BlackRock's spot Ethereum ETF begins pre-market trading"
          ],
          [
           "After trading in this market for over a decade, I'm beginning to be open minded to the idea that there's beginning to be early signs of what could be dubbed as the \"blue chips\" of crypto."
          ],
          [
           "So...The SEC sent a letter to opensea telling them they're trading securities. Yes, SEC is labeling your digital reddit art a security "
          ],
          [
           "BTC ETF Net Inflow has been positive for 15 consecutive trading days. Anyone think the market is quite boring right now? 🤔"
          ],
          [
           "Join the AMA & Giveaway with Moby on May 8th - Discover more about On-Chain Options Trading and our next goals"
          ],
          [
           "Join the Stryke Team for an AMA and Giveaway on April 23rd! Learn About Trading Onchain Crypto Options!"
          ],
          [
           "Legends trading Bitcoin for gasoline when the price was $10 in 2011"
          ],
          [
           "Former SEC Chair Jay Clayton Says Approval and Trading of Ethereum ETFs Now ‘Inevitable’"
          ],
          [
           "U.S. Congress member caught in wild crypto trading"
          ],
          [
           "Ethereum’s supply has been inflating for 73 days straight"
          ],
          [
           "Michael Saylor’s MicroStrategy Now Holds Nearly 1.2% Of Total Bitcoin Circulating Supply After Latest Buy"
          ],
          [
           "Senator Lummis proposes US government purchase 5% of total Bitcoin supply"
          ],
          [
           "Bitcoin supply to run out on exchanges in 9 months"
          ],
          [
           "Bitcoin ETFs hold over 1 million BTC, approaching 5% of total supply "
          ],
          [
           "Ethereum Supply Hits 8-Year Low, Price Surge Expected with Institutional Interest"
          ],
          [
           "More Than a Third of Ethereum Supply Worth Over $147,000,000,000 Now Staked"
          ],
          [
           "Shiba Inu Top 10 Whales Hold 61% Of Supply, A Worrying Fact?"
          ],
          [
           "20% of top 300 cryptos have majority of their supply locked"
          ],
          [
           "Bitcoin Diamond Hands Still Unbroken: 30.7% Of Supply Dormant For 5+ Years"
          ],
          [
           "CZ owns 64% of the circulating supply of BNB"
          ],
          [
           "10 things they don't want people to know or post about about Solana"
          ],
          [
           "Bitcoin, Ethereum On Exchanges Drop To New Lows, What A Supply Squeeze Would Mean For The Market"
          ],
          [
           "ETH users stake 28.9% of supply, signal ‘long-term’ confidence"
          ],
          [
           "Ethereum supply surpasses 120M ETH as staking, restaking surge"
          ],
          [
           "Japan to Cut Crypto Tax Rate from 55% to 20%"
          ],
          [
           "Fake News Spread That HBO’s Satoshi Nakamoto To Be Revealed Is Adam Back: Polymarket Rates React\n"
          ],
          [
           "Solana's YTD Inflation Rate is ~13.5%"
          ],
          [
           "Fed holds interest rate steady at 23-year high, possible rate cuts coming September"
          ],
          [
           "'You Are Still Early:' Bitcoin's Global Adoption Rate Hits 4.7%, Echoes Internet's Early Growth Phase, Says Analyst"
          ],
          [
           "Fed seen cutting rates another 50 bps in November"
          ],
          [
           "Bitcoin Blasts to $64,853—Powell’s Rate Cut Hints Lift Entire Crypto Market"
          ],
          [
           "U.S. inflation slowed to 2.5% in the year through August, keeping the Federal Reserve on track for a rate cut next week"
          ],
          [
           "US Senators Call for Federal Reserve to Lower Interest Rates Amid Economic Concerns"
          ],
          [
           "Inflation in Check? Fed Cuts Interest Rates for First Time in Four Years"
          ],
          [
           "Upcoming Fed Rate Cuts: Bitfinex Analyzes Bitcoin Could Plunge To $40K"
          ],
          [
           "Bank of Japan says no more rate hikes, and no rate cut"
          ],
          [
           "Thoughts on the Rate Cut this Wednesday?"
          ],
          [
           "Ethereum Price Analysis: 4,000 New Investors Stake $502M ETH ahead of USA Fed Rate Decision"
          ],
          [
           "Bitcoin Soars Past $62K After Fed Rate Cut, Leading Bullish Crypto Market Surge | COINOTAG NEWS"
          ],
          [
           "Bitcoin could dip to $45,000 after rate cuts"
          ],
          [
           "Bullish Bitcoin, Ethereum, and Dogecoin as Investors Anticipate Interest Rate Cuts"
          ],
          [
           "Bank of Japan maintains interest rates at 0.25% after core inflation firm to 2.8%"
          ],
          [
           "Eurozone inflation rates drop below 2% for the first time since 2021: Bets on ECB rate cuts"
          ],
          [
           "Fed Cuts Interest Rates For First Time In 4 Years: Here’s What It Means For You"
          ],
          [
           "Bitcoin leads $321M crypto inflows following Fed rate reduction"
          ],
          [
           "Bitcoin Billionaire Arthur Hayes Rates His Market Prediction Accuracy as 'Pretty Shit'"
          ],
          [
           "Fed’s Jerome Powell Dampens Hope for Big Rate Cut This Year, Says Policy To Move Toward Neutral Stance"
          ],
          [
           "At this rate, Grayscale's ETHE could run out of ether within weeks"
          ],
          [
           "Altcoins Surge Leaving Bitcoin and Ether Behind After Fed Cuts Interest Rate"
          ],
          [
           "BTC Holds $60K as Fed Signals Smaller Rate Cut; Will Powell’s Speech Ignite a Bull Run?"
          ],
          [
           "Bitcoin, Ethereum Trade Sideways as Fed Leaves Interest Rates Untouched"
          ],
          [
           "Ex-Bank of Japan Official Rules Out Another Rate Hike This Year!"
          ],
          [
           "Over $130M in Liquidations as Bitcoin Skyrockets to a 3-Week Peak After Powell's Rate Cut Promise"
          ],
          [
           "A 0.50% Fed Rate Cut Could Raise Alarm for Bitcoin, 10X Research Warns"
          ],
          [
           "Crypto investment products see $436m inflows as rate cut speculation grows"
          ],
          [
           "Bitcoin Price Reacts to US Jobs Report and Declining Unemployment Rate"
          ],
          [
           "Arthur Hayes: Why Rate Cuts Can’t Guarantee Bitcoin Revival"
          ],
          [
           "A reminder about rate cuts after they are announced "
          ],
          [
           "JPMorgan Chase, Bank of America, Wells Fargo and Citi Predict Abrupt Fed Rate Cuts Amid Global Market Turbulence: Reports"
          ],
          [
           "Ethereum Staking Yields Could Outpace US Rates, Boosting Prices Experts Say - Decrypt"
          ],
          [
           "Rate the Best Crypto Portfolios: Help Us Find the Top Performers"
          ],
          [
           "Inflation slows, but Fed’s rate decision is still in limbo"
          ],
          [
           "What is your current rating on the crypto or blockchains sphere year so far? Why so?"
          ],
          [
           "Chainlink (LINK) And SWIFT Set To Unveil Major Partnership"
          ],
          [
           "Apple’s Partnership with Circle (USDC) Could Open $15.7 Trillion Market For Ethereum"
          ],
          [
           "Important: Governance Voting [Live Now] for Unstoppable Domains Partnership"
          ],
          [
           "Mastercard has announced a partnership with Mercuryo to launch a crypto debit card, allowing users to spend crypto from self custodial wallets."
          ],
          [
           "U.S. Marshals Service Announces Partnership With Coinbase To Manage and Dispose Cryptocurrencies"
          ],
          [
           "No, JasmyCoin Does Not Have a Partnership With Apple—But Its Token Is Still Pumping - Decrypt"
          ],
          [
           "Unlocking Crypto for Half a Billion People: Inside MoonPay and PayPal's Partnership"
          ],
          [
           "Tether Enters Transaction Surveillance Partnership with Chainalysis as Regulatory Pressure Mounts"
          ],
          [
           "Coinbase integrates Bitcoin’s Lightning Network in partnership with Lightspark | CoinBase Blog"
          ],
          [
           "Lamborghini brings cars to Web3 games with Animoca, Motorverse partnership"
          ],
          [
           "Arbitrum Revolutionizes Web3 Gaming at Tokyo's WebX Conference with Innovative Partnerships and Engaging Demos"
          ],
          [
           "Lamborghini Animoca Brands Partnership Ignites Automotive Brand Engagement in the Web3 Era\n"
          ],
          [
           "Kraken expands European footprint with German strategic partnership"
          ],
          [
           "El Salvador’s Bitcoin Bet: Can Bukele and Cathie Wood's Partnership Spark an Economic Revolution?"
          ],
          [
           "How I lost ~100.000$ in Telegram Wallet"
          ],
          [
           "BlackRock promotes Bitcoin as a hedge against global financial disorders | Cryptopolitan"
          ],
          [
           "Bitcoin critic Jamie Dimon admits he is terrified of imminent global recession "
          ],
          [
           "$768,850,000 in Bitcoin and Crypto Liquidated in 12 Hours As Global Asset Dump Intensifies"
          ],
          [
           "Global Crypto Adoption to Hit 8% by 2025, BlackRock Says Pace Exceeds that of Internet and Mobile Phones"
          ],
          [
           "Global liquidity is exploding: What this means for Bitcoin, inflation, and your crypto wallet"
          ],
          [
           "Bitcoin Needs Equivalent of 1% of Global Wealth Assets To Hit $1,000,000, According to Analyst Willy Woo"
          ],
          [
           "Let's play a wargame scenario: If you were an evil global organization with $500B and 5-10 years of preparation, how would you destroy each different category of blockchain?"
          ],
          [
           "Bitcoin mining does not use 8% of global electricity although US talk show hosts think so"
          ],
          [
           "Arthur Hayes Predicts Bitcoin Surge Amid Global Currency Devaluation"
          ],
          [
           "DCA+HODL only BTC is making more sense than ever when considering increasing global taxation."
          ],
          [
           "Global markets dip, what history tells us about wars and investment"
          ],
          [
           "Cynthia Lummis praises Bitcoin's immunity to global cyber outages"
          ],
          [
           "10 years ago today, 1 Bitcoin mining pool was in control over 50% of the network's global hashrate ✨"
          ],
          [
           "Japan’s major banks back new stablecoin project for global trade"
          ],
          [
           "Michael Saylor Backs BlackRock’s Bullish Bitcoin Vision as a Global Monetary Alternative"
          ],
          [
           "El Salvador: A Safe Haven for Free Speech Amidst Global Concerns, Says President Nayib Bukele"
          ],
          [
           "S&P Global is looking to merge AI and Crypto"
          ],
          [
           "Global investments in crypto hit $1 billion in May, driven largely by Ethereum"
          ],
          [
           "BlackRock promotes BTC as a \"global monetary alternative\" and a hedge against the risk of global financial disorders "
          ],
          [
           "Here’s an ELI5 on on How Japan Sent Global Markets Tumbling"
          ],
          [
           "Australia’s ‘Operation Kraken’ Seizes $6.4 Million in Crypto Linked to Global Crime - Decrypt"
          ],
          [
           "Global Banking Network SWIFT Paves Way for Tokenized Asset Integration"
          ],
          [
           "Russia plans to set up crypto exchanges to support global trade"
          ],
          [
           "India Now Leads Global Crypto Adoption For The Second Year"
          ],
          [
           "Digital asset products globally see $147 million outflow but trading surges 15%"
          ],
          [
           "4 Arrests, Sanctions Follow Global Operation Against Lockbit Group"
          ],
          [
           "From Grape to Blockchain: How David Garrett and dVIN are Fermenting a New Era of Transparency in the Global Wine Trade"
          ],
          [
           "Bankrupt Genesis Global Launches $4,000,000,000 Crypto and Cash Payout to Creditors"
          ],
          [
           "IBIT and FBTC rank among top global ETFs by inflows"
          ],
          [
           "Hong Kong looks to become global OTC crypto center with new EU style reporting"
          ],
          [
           "Nigeria, once a hotbed for Crypto, is proving hostile to global players - Businessday NG"
          ],
          [
           "El Salvador’s Bukele says ‘Bitcoin hasn't had the widespread adoption we hoped for'"
          ],
          [
           "Crypto Will Never See Mainstream Gaming Adoption"
          ],
          [
           "Algorand celebrates 5th anniversary with 2 billion transactions and record adoption of real-world use cases at annual Decipher conference"
          ],
          [
           "Withdraw and transfer fees are way to high for mainstream adoption"
          ],
          [
           "El Salvador marks three years of Bitcoin adoption with $31M profit"
          ],
          [
           "PayPal’s Investments Are Leading The Mass Adoption Of Crypto Payments"
          ],
          [
           "Arbitrum leading decentralised finance adoption"
          ],
          [
           "Existing Blockchains Can’t Adopt Post-Quantum Cryptography Without Significant User Impact, Says Johann Polecsak – Interview Bitcoin News"
          ],
          [
           "Wearable hardware wallets for crypto adoption: Interview with Changelly and Tangem"
          ],
          [
           "Kamala Harris says US should become 'dominant' in blockchain, reiterates 'digital assets' in economic plan"
          ],
          [
           "BlackRock CEO Backs Bitcoin as Key Investment for Economic Uncertainty"
          ],
          [
           "Kraken will delist Monero (XMR) in the European Economic Area (EEA)"
          ],
          [
           "‘Economically Useless’: Paul Krugman Blasts Trump, Vance for Backing Bitcoin"
          ],
          [
           "Is Ethereum Creator Vitalik Buterin A Nobel Economics Prize Contender? Economists Tyler Cowen And Alex Tabbarok Think So "
          ],
          [
           "Recession Fears, Middle East Tensions, and Japan's Economic Woes: The Perfect Storm! Will the Fed Call an Emergency Meeting to Print More Money?"
          ],
          [
           "Javier Milei Champions Bitcoin and Currency Freedom in Argentina's Economic Reform"
          ],
          [
           "Venezuelans Turn to Crypto Amid Worst Economic Crisis"
          ],
          [
           "Navigating Egypt's Economic Restrictions: Friend Asking for Help with Receiving Money, Seeking Advice on Business Solutions"
          ],
          [
           "Market Sentiment Plummets: US Economic Data Released Today and US CPI Next Week. Is Crypto Really Dead or Just Taking a Breather?"
          ],
          [
           "'Hamster' crypto craze has taken Iran. It highlights economic malaise ahead of presidential election"
          ],
          [
           "Japan's Metaplanet Scoops More Bitcoin Amid Sluggish Economic Growth"
          ],
          [
           "crypto news: The economic impact of India's crypto legislation on the global market - The Economic Times"
          ],
          [
           "Crypto remittances in Venezuela surge as economic situation worsens"
          ],
          [
           "The Macro Chessboard: Bitcoin, Yen, and the Global Economic Narrative"
          ],
          [
           "Bitcoin halving optimism faces challenges from economic realities: Goldman Sachs"
          ],
          [
           "A rant-please listen"
          ],
          [
           "Monero is currently at war with the international banking cartel "
          ],
          [
           "Vitalik gives his most updated thoughts on the blocksize war"
          ],
          [
           "Thoughts and Civil war?"
          ],
          [
           "Ethereum Game ‘Space Nation Online’ Is First Step for a Star Wars-Like Epic IP"
          ],
          [
           "Cardanos Blockchaingame \"Chains of War\" (Token \"MIRA\") launch on EpicGames"
          ],
          [
           "Crypto Wars chronology (1991 - 2024)"
          ],
          [
           "Blockchain Wars are Cultural Wars"
          ],
          [
           "Daily Crypto Discussion - October 3, 2024 (GMT+0)"
          ],
          [
           "US Government deposited 10,000 BTC ($540M) to Coinbase 11 hours ago."
          ],
          [
           "Robert F. Kennedy Jr. blasts inflation as 'government theft'"
          ],
          [
           "US government transfers 4,000 BTC to Coinbase "
          ],
          [
           "Peter Schiff Tells Michael Saylor to Take $4.3B Loan to Buy U.S. Government Bitcoin"
          ],
          [
           "If the Tether Treasury keeps on minting USDT like this, what makes them different from the government that prints fiat money? What will happen in the future if it stays like this?"
          ],
          [
           "Crypto Market Awaits Reaction After German Government Now Has Zero Bitcoin"
          ],
          [
           "Why are Americans so afraid of CBDC’s. Your government has spied on you previously and collected phone data and most people don’t bat an eyelid. "
          ],
          [
           "US Government Moves $2 Billion in Silk Road Bitcoin - Decrypt"
          ],
          [
           "German Government Shuts Down 47 Exchanges, Says They're Tied To ‘Illegal Activity’"
          ],
          [
           "US Government Paying $3,000,000,000 in Interest on National Debt Every 24 Hours"
          ],
          [
           "I hate to repeat myself again and again, but I want to remind you all that if the Chinese government wants its people to invest in bitcoin, the news won't come from Forbes, it will be on a .gov.cn website"
          ],
          [
           "German MP Joana Cotar holds BTC and says the government should stop selling"
          ],
          [
           "Governance Tokens Are Bigger Scams Than Memecoins"
          ]
         ],
         "hovertemplate": "Date=%{x}<br>Sentiment Score=%{y}<br>title=%{customdata[0]}<extra></extra>",
         "legendgroup": "",
         "marker": {
          "color": "#636efa",
          "symbol": "circle"
         },
         "mode": "markers",
         "name": "",
         "orientation": "v",
         "showlegend": false,
         "type": "scatter",
         "x": [
          "2024-05-29",
          "2024-09-15",
          "2024-09-08",
          "2024-09-28",
          "2024-09-10",
          "2024-05-13",
          "2024-09-02",
          "2024-10-03",
          "2024-09-29",
          "2024-08-15",
          "2024-06-20",
          "2024-05-09",
          "2024-09-24",
          "2024-07-03",
          "2024-07-20",
          "2024-08-23",
          "2024-05-10",
          "2024-09-14",
          "2024-05-13",
          "2024-08-20",
          "2024-06-24",
          "2024-06-08",
          "2024-06-06",
          "2024-07-29",
          "2024-06-01",
          "2024-05-23",
          "2024-07-06",
          "2024-04-21",
          "2024-06-18",
          "2024-05-09",
          "2024-05-18",
          "2024-09-07",
          "2024-09-02",
          "2024-06-29",
          "2024-09-29",
          "2024-08-31",
          "2024-08-25",
          "2024-05-27",
          "2024-09-22",
          "2024-08-29",
          "2024-10-03",
          "2024-09-03",
          "2024-07-27",
          "2024-05-14",
          "2024-05-02",
          "2024-09-02",
          "2024-08-05",
          "2024-09-07",
          "2024-08-19",
          "2024-08-05",
          "2024-09-08",
          "2024-05-02",
          "2024-07-10",
          "2024-09-17",
          "2024-07-09",
          "2024-07-10",
          "2024-06-27",
          "2024-07-07",
          "2024-06-18",
          "2024-06-26",
          "2024-06-26",
          "2024-06-25",
          "2024-08-05",
          "2024-08-28",
          "2024-05-11",
          "2024-10-04",
          "2024-08-15",
          "2024-07-07",
          "2024-08-15",
          "2024-08-09",
          "2024-10-13",
          "2024-06-30",
          "2024-09-19",
          "2024-09-03",
          "2024-05-15",
          "2024-06-09",
          "2024-08-05",
          "2024-06-18",
          "2024-08-05",
          "2024-07-10",
          "2024-06-25",
          "2024-08-29",
          "2024-07-17",
          "2024-10-06",
          "2024-07-06",
          "2024-07-05",
          "2024-08-16",
          "2024-08-04",
          "2024-08-05",
          "2024-08-21",
          "2024-10-06",
          "2024-04-18",
          "2024-06-27",
          "2024-09-11",
          "2024-08-17",
          "2024-10-03",
          "2024-08-05",
          "2024-08-05",
          "2024-05-01",
          "2024-08-05",
          "2024-05-12",
          "2024-04-20",
          "2024-05-10",
          "2024-05-01",
          "2024-08-12",
          "2024-07-03",
          "2024-09-05",
          "2024-06-02",
          "2024-08-17",
          "2024-09-01",
          "2024-06-09",
          "2024-08-04",
          "2024-10-05",
          "2024-04-19",
          "2024-08-25",
          "2024-07-27",
          "2024-09-28",
          "2024-09-08",
          "2024-08-19",
          "2024-04-19",
          "2024-04-27",
          "2024-09-17",
          "2024-08-30",
          "2024-09-07",
          "2024-10-10",
          "2024-07-07",
          "2024-10-04",
          "2024-09-24",
          "2024-10-01",
          "2024-09-18",
          "2024-09-23",
          "2024-09-04",
          "2024-10-01",
          "2024-09-22",
          "2024-08-01",
          "2024-08-13",
          "2024-07-13",
          "2024-09-04",
          "2024-05-02",
          "2024-07-15",
          "2024-10-09",
          "2024-07-13",
          "2024-06-11",
          "2024-05-22",
          "2024-06-10",
          "2024-10-07",
          "2024-09-11",
          "2024-09-05",
          "2024-07-31",
          "2024-04-20",
          "2024-09-26",
          "2024-09-26",
          "2024-07-30",
          "2024-08-23",
          "2024-09-20",
          "2024-07-18",
          "2024-07-09",
          "2024-09-20",
          "2024-07-27",
          "2024-06-02",
          "2024-06-04",
          "2024-07-22",
          "2024-07-01",
          "2024-06-18",
          "2024-05-10",
          "2024-10-04",
          "2024-06-30",
          "2024-07-01",
          "2024-09-07",
          "2024-08-22",
          "2024-10-07",
          "2024-04-20",
          "2024-09-11",
          "2024-07-07",
          "2024-08-20",
          "2024-06-24",
          "2024-06-26",
          "2024-04-25",
          "2024-06-24",
          "2024-05-31",
          "2024-06-16",
          "2024-05-19",
          "2024-10-08",
          "2024-09-16",
          "2024-08-17",
          "2024-09-27",
          "2024-06-23",
          "2024-04-17",
          "2024-07-12",
          "2024-10-10",
          "2024-08-23",
          "2024-04-29",
          "2024-08-04",
          "2024-09-14",
          "2024-09-17",
          "2024-05-23",
          "2024-09-19",
          "2024-09-12",
          "2024-09-27",
          "2024-06-22",
          "2024-05-20",
          "2024-10-04",
          "2024-08-04",
          "2024-08-16",
          "2024-10-02",
          "2024-04-23",
          "2024-09-20",
          "2024-09-06",
          "2024-05-07",
          "2024-09-14",
          "2024-09-11",
          "2024-08-21",
          "2024-08-08",
          "2024-07-08",
          "2024-10-09",
          "2024-10-07",
          "2024-09-29",
          "2024-09-28",
          "2024-07-15",
          "2024-08-17",
          "2024-08-17",
          "2024-06-09",
          "2024-09-05",
          "2024-09-22",
          "2024-09-12",
          "2024-09-28",
          "2024-10-13",
          "2024-10-08",
          "2024-10-10",
          "2024-09-01",
          "2024-05-10",
          "2024-06-15",
          "2024-08-03",
          "2024-05-08",
          "2024-05-17",
          "2024-06-17",
          "2024-06-22",
          "2024-09-29",
          "2024-07-26",
          "2024-09-29",
          "2024-08-05",
          "2024-10-07",
          "2024-08-10",
          "2024-09-12",
          "2024-07-08",
          "2024-07-24",
          "2024-07-25",
          "2024-08-01",
          "2024-07-25",
          "2024-07-24",
          "2024-06-25",
          "2024-08-01",
          "2024-06-10",
          "2024-10-10",
          "2024-07-12",
          "2024-09-19",
          "2024-09-09",
          "2024-07-31",
          "2024-09-25",
          "2024-10-07",
          "2024-07-14",
          "2024-08-03",
          "2024-08-26",
          "2024-10-01",
          "2024-09-25",
          "2024-07-23",
          "2024-08-14",
          "2024-07-30",
          "2024-07-13",
          "2024-08-20",
          "2024-07-12",
          "2024-06-27",
          "2024-08-09",
          "2024-05-14",
          "2024-08-06",
          "2024-05-07",
          "2024-09-25",
          "2024-04-20",
          "2024-10-11",
          "2024-05-13",
          "2024-10-06",
          "2024-09-23",
          "2024-07-23",
          "2024-06-02",
          "2024-08-29",
          "2024-06-04",
          "2024-05-08",
          "2024-04-22",
          "2024-06-04",
          "2024-05-28",
          "2024-08-27",
          "2024-06-26",
          "2024-09-17",
          "2024-07-29",
          "2024-04-18",
          "2024-05-28",
          "2024-07-11",
          "2024-07-14",
          "2024-08-31",
          "2024-05-25",
          "2024-08-31",
          "2024-06-15",
          "2024-08-13",
          "2024-06-04",
          "2024-10-09",
          "2024-08-15",
          "2024-09-04",
          "2024-10-08",
          "2024-09-25",
          "2024-08-01",
          "2024-05-16",
          "2024-09-28",
          "2024-08-24",
          "2024-09-11",
          "2024-06-12",
          "2024-09-19",
          "2024-09-04",
          "2024-08-08",
          "2024-09-16",
          "2024-09-16",
          "2024-09-19",
          "2024-09-02",
          "2024-06-05",
          "2024-09-20",
          "2024-10-02",
          "2024-09-19",
          "2024-09-23",
          "2024-09-27",
          "2024-10-03",
          "2024-07-26",
          "2024-09-21",
          "2024-08-23",
          "2024-05-02",
          "2024-08-12",
          "2024-08-24",
          "2024-09-09",
          "2024-09-16",
          "2024-09-07",
          "2024-08-29",
          "2024-09-04",
          "2024-08-13",
          "2024-10-01",
          "2024-08-28",
          "2024-09-15",
          "2024-08-02",
          "2024-05-27",
          "2024-08-18",
          "2024-10-04",
          "2024-09-12",
          "2024-07-02",
          "2024-06-01",
          "2024-08-08",
          "2024-05-03",
          "2024-05-01",
          "2024-10-03",
          "2024-09-07",
          "2024-08-10",
          "2024-05-07",
          "2024-05-30",
          "2024-06-19",
          "2024-09-13",
          "2024-10-12",
          "2024-08-05",
          "2024-10-08",
          "2024-10-03",
          "2024-08-27",
          "2024-06-16",
          "2024-09-26",
          "2024-04-25",
          "2024-09-10",
          "2024-10-02",
          "2024-07-20",
          "2024-06-15",
          "2024-09-06",
          "2024-09-27",
          "2024-08-25",
          "2024-10-04",
          "2024-06-16",
          "2024-09-13",
          "2024-08-06",
          "2024-10-02",
          "2024-09-16",
          "2024-08-24",
          "2024-09-13",
          "2024-10-07",
          "2024-10-05",
          "2024-07-31",
          "2024-08-05",
          "2024-08-21",
          "2024-09-27",
          "2024-07-25",
          "2024-08-30",
          "2024-07-02",
          "2024-07-04",
          "2024-08-30",
          "2024-09-07",
          "2024-10-06",
          "2024-05-18",
          "2024-04-27",
          "2024-07-19",
          "2024-09-26",
          "2024-09-22",
          "2024-10-02",
          "2024-07-31",
          "2024-10-09",
          "2024-08-05",
          "2024-06-21",
          "2024-07-07",
          "2024-09-16",
          "2024-07-05",
          "2024-06-24",
          "2024-07-08",
          "2024-07-21",
          "2024-07-06",
          "2024-05-01",
          "2024-04-19",
          "2024-07-19",
          "2024-10-03",
          "2024-06-02",
          "2024-09-02",
          "2024-09-29",
          "2024-05-25",
          "2024-05-06",
          "2024-06-17",
          "2024-10-03",
          "2024-08-15",
          "2024-07-25",
          "2024-06-27",
          "2024-10-10",
          "2024-04-21",
          "2024-07-13",
          "2024-05-26",
          "2024-07-30",
          "2024-09-20",
          "2024-09-16",
          "2024-08-24",
          "2024-07-06",
          "2024-05-08"
         ],
         "xaxis": "x",
         "y": [
          0,
          0,
          -0.0387,
          -0.3818,
          0,
          0.0258,
          0,
          -0.34,
          0.0258,
          0,
          0,
          -0.2732,
          0,
          0,
          0,
          -0.4588,
          0,
          -0.2732,
          0,
          -0.296,
          -0.3612,
          0,
          0,
          0.4005,
          0,
          0,
          -0.3818,
          -0.4574,
          0,
          0,
          0,
          0,
          0.624,
          0,
          0.0772,
          -0.1027,
          0,
          0,
          0,
          -0.1027,
          0.7217,
          -0.1027,
          -0.1027,
          -0.1027,
          0.7195,
          -0.4404,
          0.7003,
          0.3182,
          -0.3182,
          0.3818,
          -0.3612,
          0,
          0.2023,
          0,
          0,
          -0.0762,
          0,
          0,
          0.3818,
          0.3612,
          0,
          -0.5719,
          0,
          0,
          0,
          -0.3182,
          -0.7906,
          0,
          0.0258,
          0,
          0,
          0.25,
          0.4871,
          0.4019,
          -0.2732,
          0.7096,
          -0.4019,
          -0.4019,
          -0.4019,
          -0.802,
          -0.4019,
          -0.6124,
          -0.4019,
          -0.802,
          -0.2023,
          0,
          0,
          -0.4404,
          0,
          -0.2263,
          -0.5859,
          0,
          -0.4019,
          -0.6597,
          -0.4019,
          -0.6124,
          0.5719,
          -0.765,
          -0.0258,
          -0.6597,
          0,
          0.2023,
          -0.4939,
          0,
          -0.2732,
          -0.5719,
          -0.6486,
          -0.5719,
          -0.3382,
          -0.2732,
          -0.2732,
          -0.3818,
          0.1984,
          0,
          -0.34,
          0,
          -0.1531,
          -0.2732,
          -0.2732,
          -0.0516,
          0.4404,
          -0.3612,
          0,
          -0.1027,
          -0.5423,
          -0.5994,
          0,
          0,
          0.2144,
          -0.5574,
          0.2263,
          0,
          0,
          0,
          -0.3818,
          0,
          0.25,
          -0.7506,
          0.34,
          0.4019,
          0.6124,
          -0.1027,
          0,
          0.0098,
          -0.3612,
          -0.0516,
          0,
          0,
          0,
          0.2263,
          0,
          0.6369,
          0.3182,
          0.7003,
          0.1779,
          0,
          0.2732,
          0.3818,
          0.4019,
          0,
          0,
          -0.0772,
          -0.34,
          0.25,
          0,
          0,
          0.5719,
          0,
          0,
          0,
          0,
          -0.5719,
          -0.3071,
          0,
          0.1779,
          0,
          -0.6114,
          0.6486,
          0,
          0,
          -0.296,
          0,
          -0.6848,
          0,
          0,
          0.2263,
          0,
          0,
          -0.25,
          0,
          0,
          -0.743,
          -0.8481,
          -0.6249,
          0.6369,
          0,
          0.25,
          -0.7184,
          -0.2732,
          -0.128,
          -0.3182,
          -0.3818,
          -0.4329,
          0,
          0,
          0.3818,
          0,
          0.3252,
          0.4588,
          -0.5267,
          0,
          0,
          0,
          0,
          0.5423,
          0.5423,
          0,
          -0.3612,
          -0.8225,
          0,
          0,
          0,
          -0.6486,
          -0.4939,
          0.5423,
          -0.3182,
          0.4767,
          0,
          0,
          0.2263,
          0,
          0,
          0,
          -0.3612,
          0,
          0,
          0.5423,
          -0.5859,
          0.4404,
          0.34,
          0.34,
          0.5423,
          0.0572,
          0.5267,
          0,
          0,
          0,
          0,
          0,
          0.2057,
          0.1779,
          0,
          0,
          0.6072,
          0,
          0,
          0.6908,
          0.4019,
          0,
          0,
          0,
          0,
          0,
          0,
          0,
          0,
          0,
          0.4019,
          -0.296,
          0,
          0,
          0,
          -0.1695,
          0.4404,
          0,
          0,
          0,
          -0.4824,
          -0.7351,
          0,
          0,
          -0.6124,
          0,
          0,
          0.743,
          0.2516,
          0.296,
          0.4184,
          0,
          0.4767,
          0,
          0.2263,
          0,
          0,
          0,
          0,
          0.2263,
          0.2263,
          -0.1531,
          0.2023,
          0.34,
          0,
          -0.0572,
          -0.4404,
          0.5106,
          0,
          -0.2732,
          -0.4767,
          0,
          0.2023,
          0.3818,
          -0.128,
          -0.2732,
          -0.2732,
          0.2023,
          0.2023,
          -0.296,
          -0.6705,
          -0.2732,
          0,
          -0.2732,
          -0.296,
          0.2023,
          0.4588,
          -0.5106,
          0.2023,
          0,
          -0.1027,
          0.2023,
          0,
          0.2023,
          -0.2732,
          0.4588,
          0,
          0.0516,
          -0.5994,
          -0.2732,
          -0.4404,
          -0.0516,
          -0.296,
          -0.0516,
          0.34,
          0.8271,
          0,
          0,
          0.368,
          0,
          0,
          0,
          0,
          -0.296,
          0,
          -0.296,
          0,
          0,
          0.6486,
          0.4588,
          0.1027,
          0.2263,
          -0.3182,
          0.34,
          -0.7717,
          -0.0258,
          0,
          0,
          0.7906,
          -0.7579,
          0,
          0,
          0,
          -0.5574,
          0.5267,
          0,
          0,
          0.2023,
          0.7351,
          0,
          0,
          0.0772,
          0,
          -0.5423,
          0.6166,
          0.4019,
          0,
          0.1901,
          -0.4404,
          0,
          -0.5574,
          0.2023,
          0,
          -0.3818,
          0.3818,
          0,
          0.5719,
          0,
          0.4404,
          0,
          0,
          0.0279,
          0,
          0.1779,
          -0.3818,
          0,
          0.0258,
          0.5859,
          -0.8553,
          0.8225,
          -0.8481,
          0.765,
          -0.6801,
          -0.1531,
          -0.0935,
          0,
          -0.4767,
          0,
          0.5859,
          0,
          -0.5994,
          -0.5994,
          -0.5994,
          0,
          -0.5994,
          -0.5574,
          -0.802,
          0,
          0,
          0,
          0,
          0,
          0.7319,
          0.0772,
          0,
          0,
          0,
          0.128,
          -0.2263,
          -0.296,
          -0.5859
         ],
         "yaxis": "y"
        }
       ],
       "layout": {
        "legend": {
         "tracegroupgap": 0
        },
        "template": {
         "data": {
          "bar": [
           {
            "error_x": {
             "color": "#2a3f5f"
            },
            "error_y": {
             "color": "#2a3f5f"
            },
            "marker": {
             "line": {
              "color": "#E5ECF6",
              "width": 0.5
             },
             "pattern": {
              "fillmode": "overlay",
              "size": 10,
              "solidity": 0.2
             }
            },
            "type": "bar"
           }
          ],
          "barpolar": [
           {
            "marker": {
             "line": {
              "color": "#E5ECF6",
              "width": 0.5
             },
             "pattern": {
              "fillmode": "overlay",
              "size": 10,
              "solidity": 0.2
             }
            },
            "type": "barpolar"
           }
          ],
          "carpet": [
           {
            "aaxis": {
             "endlinecolor": "#2a3f5f",
             "gridcolor": "white",
             "linecolor": "white",
             "minorgridcolor": "white",
             "startlinecolor": "#2a3f5f"
            },
            "baxis": {
             "endlinecolor": "#2a3f5f",
             "gridcolor": "white",
             "linecolor": "white",
             "minorgridcolor": "white",
             "startlinecolor": "#2a3f5f"
            },
            "type": "carpet"
           }
          ],
          "choropleth": [
           {
            "colorbar": {
             "outlinewidth": 0,
             "ticks": ""
            },
            "type": "choropleth"
           }
          ],
          "contour": [
           {
            "colorbar": {
             "outlinewidth": 0,
             "ticks": ""
            },
            "colorscale": [
             [
              0,
              "#0d0887"
             ],
             [
              0.1111111111111111,
              "#46039f"
             ],
             [
              0.2222222222222222,
              "#7201a8"
             ],
             [
              0.3333333333333333,
              "#9c179e"
             ],
             [
              0.4444444444444444,
              "#bd3786"
             ],
             [
              0.5555555555555556,
              "#d8576b"
             ],
             [
              0.6666666666666666,
              "#ed7953"
             ],
             [
              0.7777777777777778,
              "#fb9f3a"
             ],
             [
              0.8888888888888888,
              "#fdca26"
             ],
             [
              1,
              "#f0f921"
             ]
            ],
            "type": "contour"
           }
          ],
          "contourcarpet": [
           {
            "colorbar": {
             "outlinewidth": 0,
             "ticks": ""
            },
            "type": "contourcarpet"
           }
          ],
          "heatmap": [
           {
            "colorbar": {
             "outlinewidth": 0,
             "ticks": ""
            },
            "colorscale": [
             [
              0,
              "#0d0887"
             ],
             [
              0.1111111111111111,
              "#46039f"
             ],
             [
              0.2222222222222222,
              "#7201a8"
             ],
             [
              0.3333333333333333,
              "#9c179e"
             ],
             [
              0.4444444444444444,
              "#bd3786"
             ],
             [
              0.5555555555555556,
              "#d8576b"
             ],
             [
              0.6666666666666666,
              "#ed7953"
             ],
             [
              0.7777777777777778,
              "#fb9f3a"
             ],
             [
              0.8888888888888888,
              "#fdca26"
             ],
             [
              1,
              "#f0f921"
             ]
            ],
            "type": "heatmap"
           }
          ],
          "heatmapgl": [
           {
            "colorbar": {
             "outlinewidth": 0,
             "ticks": ""
            },
            "colorscale": [
             [
              0,
              "#0d0887"
             ],
             [
              0.1111111111111111,
              "#46039f"
             ],
             [
              0.2222222222222222,
              "#7201a8"
             ],
             [
              0.3333333333333333,
              "#9c179e"
             ],
             [
              0.4444444444444444,
              "#bd3786"
             ],
             [
              0.5555555555555556,
              "#d8576b"
             ],
             [
              0.6666666666666666,
              "#ed7953"
             ],
             [
              0.7777777777777778,
              "#fb9f3a"
             ],
             [
              0.8888888888888888,
              "#fdca26"
             ],
             [
              1,
              "#f0f921"
             ]
            ],
            "type": "heatmapgl"
           }
          ],
          "histogram": [
           {
            "marker": {
             "pattern": {
              "fillmode": "overlay",
              "size": 10,
              "solidity": 0.2
             }
            },
            "type": "histogram"
           }
          ],
          "histogram2d": [
           {
            "colorbar": {
             "outlinewidth": 0,
             "ticks": ""
            },
            "colorscale": [
             [
              0,
              "#0d0887"
             ],
             [
              0.1111111111111111,
              "#46039f"
             ],
             [
              0.2222222222222222,
              "#7201a8"
             ],
             [
              0.3333333333333333,
              "#9c179e"
             ],
             [
              0.4444444444444444,
              "#bd3786"
             ],
             [
              0.5555555555555556,
              "#d8576b"
             ],
             [
              0.6666666666666666,
              "#ed7953"
             ],
             [
              0.7777777777777778,
              "#fb9f3a"
             ],
             [
              0.8888888888888888,
              "#fdca26"
             ],
             [
              1,
              "#f0f921"
             ]
            ],
            "type": "histogram2d"
           }
          ],
          "histogram2dcontour": [
           {
            "colorbar": {
             "outlinewidth": 0,
             "ticks": ""
            },
            "colorscale": [
             [
              0,
              "#0d0887"
             ],
             [
              0.1111111111111111,
              "#46039f"
             ],
             [
              0.2222222222222222,
              "#7201a8"
             ],
             [
              0.3333333333333333,
              "#9c179e"
             ],
             [
              0.4444444444444444,
              "#bd3786"
             ],
             [
              0.5555555555555556,
              "#d8576b"
             ],
             [
              0.6666666666666666,
              "#ed7953"
             ],
             [
              0.7777777777777778,
              "#fb9f3a"
             ],
             [
              0.8888888888888888,
              "#fdca26"
             ],
             [
              1,
              "#f0f921"
             ]
            ],
            "type": "histogram2dcontour"
           }
          ],
          "mesh3d": [
           {
            "colorbar": {
             "outlinewidth": 0,
             "ticks": ""
            },
            "type": "mesh3d"
           }
          ],
          "parcoords": [
           {
            "line": {
             "colorbar": {
              "outlinewidth": 0,
              "ticks": ""
             }
            },
            "type": "parcoords"
           }
          ],
          "pie": [
           {
            "automargin": true,
            "type": "pie"
           }
          ],
          "scatter": [
           {
            "fillpattern": {
             "fillmode": "overlay",
             "size": 10,
             "solidity": 0.2
            },
            "type": "scatter"
           }
          ],
          "scatter3d": [
           {
            "line": {
             "colorbar": {
              "outlinewidth": 0,
              "ticks": ""
             }
            },
            "marker": {
             "colorbar": {
              "outlinewidth": 0,
              "ticks": ""
             }
            },
            "type": "scatter3d"
           }
          ],
          "scattercarpet": [
           {
            "marker": {
             "colorbar": {
              "outlinewidth": 0,
              "ticks": ""
             }
            },
            "type": "scattercarpet"
           }
          ],
          "scattergeo": [
           {
            "marker": {
             "colorbar": {
              "outlinewidth": 0,
              "ticks": ""
             }
            },
            "type": "scattergeo"
           }
          ],
          "scattergl": [
           {
            "marker": {
             "colorbar": {
              "outlinewidth": 0,
              "ticks": ""
             }
            },
            "type": "scattergl"
           }
          ],
          "scattermapbox": [
           {
            "marker": {
             "colorbar": {
              "outlinewidth": 0,
              "ticks": ""
             }
            },
            "type": "scattermapbox"
           }
          ],
          "scatterpolar": [
           {
            "marker": {
             "colorbar": {
              "outlinewidth": 0,
              "ticks": ""
             }
            },
            "type": "scatterpolar"
           }
          ],
          "scatterpolargl": [
           {
            "marker": {
             "colorbar": {
              "outlinewidth": 0,
              "ticks": ""
             }
            },
            "type": "scatterpolargl"
           }
          ],
          "scatterternary": [
           {
            "marker": {
             "colorbar": {
              "outlinewidth": 0,
              "ticks": ""
             }
            },
            "type": "scatterternary"
           }
          ],
          "surface": [
           {
            "colorbar": {
             "outlinewidth": 0,
             "ticks": ""
            },
            "colorscale": [
             [
              0,
              "#0d0887"
             ],
             [
              0.1111111111111111,
              "#46039f"
             ],
             [
              0.2222222222222222,
              "#7201a8"
             ],
             [
              0.3333333333333333,
              "#9c179e"
             ],
             [
              0.4444444444444444,
              "#bd3786"
             ],
             [
              0.5555555555555556,
              "#d8576b"
             ],
             [
              0.6666666666666666,
              "#ed7953"
             ],
             [
              0.7777777777777778,
              "#fb9f3a"
             ],
             [
              0.8888888888888888,
              "#fdca26"
             ],
             [
              1,
              "#f0f921"
             ]
            ],
            "type": "surface"
           }
          ],
          "table": [
           {
            "cells": {
             "fill": {
              "color": "#EBF0F8"
             },
             "line": {
              "color": "white"
             }
            },
            "header": {
             "fill": {
              "color": "#C8D4E3"
             },
             "line": {
              "color": "white"
             }
            },
            "type": "table"
           }
          ]
         },
         "layout": {
          "annotationdefaults": {
           "arrowcolor": "#2a3f5f",
           "arrowhead": 0,
           "arrowwidth": 1
          },
          "autotypenumbers": "strict",
          "coloraxis": {
           "colorbar": {
            "outlinewidth": 0,
            "ticks": ""
           }
          },
          "colorscale": {
           "diverging": [
            [
             0,
             "#8e0152"
            ],
            [
             0.1,
             "#c51b7d"
            ],
            [
             0.2,
             "#de77ae"
            ],
            [
             0.3,
             "#f1b6da"
            ],
            [
             0.4,
             "#fde0ef"
            ],
            [
             0.5,
             "#f7f7f7"
            ],
            [
             0.6,
             "#e6f5d0"
            ],
            [
             0.7,
             "#b8e186"
            ],
            [
             0.8,
             "#7fbc41"
            ],
            [
             0.9,
             "#4d9221"
            ],
            [
             1,
             "#276419"
            ]
           ],
           "sequential": [
            [
             0,
             "#0d0887"
            ],
            [
             0.1111111111111111,
             "#46039f"
            ],
            [
             0.2222222222222222,
             "#7201a8"
            ],
            [
             0.3333333333333333,
             "#9c179e"
            ],
            [
             0.4444444444444444,
             "#bd3786"
            ],
            [
             0.5555555555555556,
             "#d8576b"
            ],
            [
             0.6666666666666666,
             "#ed7953"
            ],
            [
             0.7777777777777778,
             "#fb9f3a"
            ],
            [
             0.8888888888888888,
             "#fdca26"
            ],
            [
             1,
             "#f0f921"
            ]
           ],
           "sequentialminus": [
            [
             0,
             "#0d0887"
            ],
            [
             0.1111111111111111,
             "#46039f"
            ],
            [
             0.2222222222222222,
             "#7201a8"
            ],
            [
             0.3333333333333333,
             "#9c179e"
            ],
            [
             0.4444444444444444,
             "#bd3786"
            ],
            [
             0.5555555555555556,
             "#d8576b"
            ],
            [
             0.6666666666666666,
             "#ed7953"
            ],
            [
             0.7777777777777778,
             "#fb9f3a"
            ],
            [
             0.8888888888888888,
             "#fdca26"
            ],
            [
             1,
             "#f0f921"
            ]
           ]
          },
          "colorway": [
           "#636efa",
           "#EF553B",
           "#00cc96",
           "#ab63fa",
           "#FFA15A",
           "#19d3f3",
           "#FF6692",
           "#B6E880",
           "#FF97FF",
           "#FECB52"
          ],
          "font": {
           "color": "#2a3f5f"
          },
          "geo": {
           "bgcolor": "white",
           "lakecolor": "white",
           "landcolor": "#E5ECF6",
           "showlakes": true,
           "showland": true,
           "subunitcolor": "white"
          },
          "hoverlabel": {
           "align": "left"
          },
          "hovermode": "closest",
          "mapbox": {
           "style": "light"
          },
          "paper_bgcolor": "white",
          "plot_bgcolor": "#E5ECF6",
          "polar": {
           "angularaxis": {
            "gridcolor": "white",
            "linecolor": "white",
            "ticks": ""
           },
           "bgcolor": "#E5ECF6",
           "radialaxis": {
            "gridcolor": "white",
            "linecolor": "white",
            "ticks": ""
           }
          },
          "scene": {
           "xaxis": {
            "backgroundcolor": "#E5ECF6",
            "gridcolor": "white",
            "gridwidth": 2,
            "linecolor": "white",
            "showbackground": true,
            "ticks": "",
            "zerolinecolor": "white"
           },
           "yaxis": {
            "backgroundcolor": "#E5ECF6",
            "gridcolor": "white",
            "gridwidth": 2,
            "linecolor": "white",
            "showbackground": true,
            "ticks": "",
            "zerolinecolor": "white"
           },
           "zaxis": {
            "backgroundcolor": "#E5ECF6",
            "gridcolor": "white",
            "gridwidth": 2,
            "linecolor": "white",
            "showbackground": true,
            "ticks": "",
            "zerolinecolor": "white"
           }
          },
          "shapedefaults": {
           "line": {
            "color": "#2a3f5f"
           }
          },
          "ternary": {
           "aaxis": {
            "gridcolor": "white",
            "linecolor": "white",
            "ticks": ""
           },
           "baxis": {
            "gridcolor": "white",
            "linecolor": "white",
            "ticks": ""
           },
           "bgcolor": "#E5ECF6",
           "caxis": {
            "gridcolor": "white",
            "linecolor": "white",
            "ticks": ""
           }
          },
          "title": {
           "x": 0.05
          },
          "xaxis": {
           "automargin": true,
           "gridcolor": "white",
           "linecolor": "white",
           "ticks": "",
           "title": {
            "standoff": 15
           },
           "zerolinecolor": "white",
           "zerolinewidth": 2
          },
          "yaxis": {
           "automargin": true,
           "gridcolor": "white",
           "linecolor": "white",
           "ticks": "",
           "title": {
            "standoff": 15
           },
           "zerolinecolor": "white",
           "zerolinewidth": 2
          }
         }
        },
        "title": {
         "text": "Sentiment of posts over 180 days"
        },
        "xaxis": {
         "anchor": "y",
         "domain": [
          0,
          1
         ],
         "title": {
          "text": "Date"
         }
        },
        "yaxis": {
         "anchor": "x",
         "domain": [
          0,
          1
         ],
         "title": {
          "text": "Sentiment Score"
         }
        }
       }
      }
     },
     "metadata": {},
     "output_type": "display_data"
    }
   ],
   "source": [
    "import plotly.express as px\n",
    "\n",
    "fig = px.scatter(\n",
    "    crypto2, x='date', y='sentiment',\n",
    "    title='Sentiment of posts over 180 days',\n",
    "    labels={'sentiment': 'Sentiment Score', 'date': 'Date'},\n",
    "    hover_data=['title']\n",
    ")\n",
    "\n",
    "fig.show()\n"
   ]
  },
  {
   "cell_type": "code",
   "execution_count": 25,
   "metadata": {},
   "outputs": [
    {
     "data": {
      "text/plain": [
       "Index(['date', 'title', 'score', 'num_comments', 'sentiment'], dtype='object')"
      ]
     },
     "execution_count": 25,
     "metadata": {},
     "output_type": "execute_result"
    }
   ],
   "source": [
    "crypto2.columns"
   ]
  },
  {
   "cell_type": "code",
   "execution_count": 28,
   "metadata": {},
   "outputs": [],
   "source": []
  },
  {
   "cell_type": "code",
   "execution_count": null,
   "metadata": {},
   "outputs": [],
   "source": []
  },
  {
   "cell_type": "code",
   "execution_count": null,
   "metadata": {},
   "outputs": [],
   "source": []
  }
 ],
 "metadata": {
  "kernelspec": {
   "display_name": "Python (Anaconda)",
   "language": "python",
   "name": "anaconda"
  },
  "language_info": {
   "codemirror_mode": {
    "name": "ipython",
    "version": 3
   },
   "file_extension": ".py",
   "mimetype": "text/x-python",
   "name": "python",
   "nbconvert_exporter": "python",
   "pygments_lexer": "ipython3",
   "version": "3.12.3"
  }
 },
 "nbformat": 4,
 "nbformat_minor": 2
}
